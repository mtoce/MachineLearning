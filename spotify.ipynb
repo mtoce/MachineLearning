{
 "cells": [
  {
   "cell_type": "code",
   "execution_count": 25,
   "metadata": {
    "tags": []
   },
   "outputs": [],
   "source": [
    "import pandas as pd\n",
    "import numpy as np\n",
    "from sklearn.preprocessing import StandardScaler\n",
    "from sklearn.neighbors import NearestNeighbors\n",
    "\n",
    "def load_and_clean():\n",
    "    \"\"\"\n",
    "    spotify, identify = load_and_clean()\n",
    "    \"\"\"\n",
    "    spotify = pd.read_csv('https://raw.githubusercontent.com/BW-pilot/MachineLearning/master/CSVs/spotify_final.csv')\n",
    "\n",
    "    # spotify = spotify.drop(columns=['genre',\n",
    "    #                                 'mode',\n",
    "    #                                 'time_signature',\n",
    "    #                                 'key',\n",
    "    #                                 'popularity',\n",
    "    #                                 'duration_ms',\n",
    "    #                                 'speechiness'])\n",
    "    # spotify.to_csv('spotify_final.csv')\n",
    "\n",
    "    # dataframe that serves to identify songs\n",
    "    identify = spotify[['artist_name', 'track_id', 'track_name']]\n",
    "\n",
    "    # identify.to_csv('identify_tracks.csv')\n",
    "\n",
    "    # dataframe consisting of audio features we want to train on\n",
    "    spotify = spotify.drop(columns = ['track_id',\n",
    "                                    'artist_name',\n",
    "                                    'track_name'])\n",
    "\n",
    "    return spotify, identify\n",
    "\n",
    "spotify, identify = load_and_clean()\n",
    "\n",
    "# spotify.to_csv('spotify.csv', index=False)\n",
    "# print(spotify.shape)\n",
    "# print(spotify.head())\n",
    "# print('-----------------')\n",
    "# print(identify.shape)\n",
    "# print(identify.head())"
   ]
  },
  {
   "cell_type": "code",
   "execution_count": 26,
   "metadata": {},
   "outputs": [
    {
     "output_type": "execute_result",
     "data": {
      "text/plain": "acousticness        0\ndanceability        0\nenergy              0\ninstrumentalness    0\nliveness            0\nloudness            0\ntempo               0\nvalence             0\ndtype: int64"
     },
     "metadata": {},
     "execution_count": 26
    }
   ],
   "source": [
    "spotify.isnull().sum(0)"
   ]
  },
  {
   "cell_type": "code",
   "execution_count": 27,
   "metadata": {},
   "outputs": [
    {
     "output_type": "execute_result",
     "data": {
      "text/plain": "   acousticness  danceability  energy  instrumentalness  liveness  loudness  \\\n0         0.611         0.389   0.910             0.000    0.3460    -1.828   \n1         0.246         0.590   0.737             0.000    0.1510    -5.559   \n2         0.952         0.663   0.131             0.000    0.1030   -13.879   \n3         0.703         0.240   0.326             0.000    0.0985   -12.178   \n4         0.950         0.331   0.225             0.123    0.2020   -21.150   \n\n     tempo  valence  \n0  166.969    0.814  \n1  174.003    0.816  \n2   99.488    0.368  \n3  171.758    0.227  \n4  140.576    0.390  ",
      "text/html": "<div>\n<style scoped>\n    .dataframe tbody tr th:only-of-type {\n        vertical-align: middle;\n    }\n\n    .dataframe tbody tr th {\n        vertical-align: top;\n    }\n\n    .dataframe thead th {\n        text-align: right;\n    }\n</style>\n<table border=\"1\" class=\"dataframe\">\n  <thead>\n    <tr style=\"text-align: right;\">\n      <th></th>\n      <th>acousticness</th>\n      <th>danceability</th>\n      <th>energy</th>\n      <th>instrumentalness</th>\n      <th>liveness</th>\n      <th>loudness</th>\n      <th>tempo</th>\n      <th>valence</th>\n    </tr>\n  </thead>\n  <tbody>\n    <tr>\n      <th>0</th>\n      <td>0.611</td>\n      <td>0.389</td>\n      <td>0.910</td>\n      <td>0.000</td>\n      <td>0.3460</td>\n      <td>-1.828</td>\n      <td>166.969</td>\n      <td>0.814</td>\n    </tr>\n    <tr>\n      <th>1</th>\n      <td>0.246</td>\n      <td>0.590</td>\n      <td>0.737</td>\n      <td>0.000</td>\n      <td>0.1510</td>\n      <td>-5.559</td>\n      <td>174.003</td>\n      <td>0.816</td>\n    </tr>\n    <tr>\n      <th>2</th>\n      <td>0.952</td>\n      <td>0.663</td>\n      <td>0.131</td>\n      <td>0.000</td>\n      <td>0.1030</td>\n      <td>-13.879</td>\n      <td>99.488</td>\n      <td>0.368</td>\n    </tr>\n    <tr>\n      <th>3</th>\n      <td>0.703</td>\n      <td>0.240</td>\n      <td>0.326</td>\n      <td>0.000</td>\n      <td>0.0985</td>\n      <td>-12.178</td>\n      <td>171.758</td>\n      <td>0.227</td>\n    </tr>\n    <tr>\n      <th>4</th>\n      <td>0.950</td>\n      <td>0.331</td>\n      <td>0.225</td>\n      <td>0.123</td>\n      <td>0.2020</td>\n      <td>-21.150</td>\n      <td>140.576</td>\n      <td>0.390</td>\n    </tr>\n  </tbody>\n</table>\n</div>"
     },
     "metadata": {},
     "execution_count": 27
    }
   ],
   "source": [
    "spotify.head()"
   ]
  },
  {
   "cell_type": "code",
   "execution_count": 28,
   "metadata": {},
   "outputs": [
    {
     "output_type": "execute_result",
     "data": {
      "text/plain": "              artist_name                track_id   track_name\n77647   Foster The People  7lVoniii4QwhNjCeHij2xZ  Worst Nites\n93170   Foster The People  7lVoniii4QwhNjCeHij2xZ  Worst Nites\n111450  Foster The People  7lVoniii4QwhNjCeHij2xZ  Worst Nites\n166863  Foster The People  7lVoniii4QwhNjCeHij2xZ  Worst Nites",
      "text/html": "<div>\n<style scoped>\n    .dataframe tbody tr th:only-of-type {\n        vertical-align: middle;\n    }\n\n    .dataframe tbody tr th {\n        vertical-align: top;\n    }\n\n    .dataframe thead th {\n        text-align: right;\n    }\n</style>\n<table border=\"1\" class=\"dataframe\">\n  <thead>\n    <tr style=\"text-align: right;\">\n      <th></th>\n      <th>artist_name</th>\n      <th>track_id</th>\n      <th>track_name</th>\n    </tr>\n  </thead>\n  <tbody>\n    <tr>\n      <th>77647</th>\n      <td>Foster The People</td>\n      <td>7lVoniii4QwhNjCeHij2xZ</td>\n      <td>Worst Nites</td>\n    </tr>\n    <tr>\n      <th>93170</th>\n      <td>Foster The People</td>\n      <td>7lVoniii4QwhNjCeHij2xZ</td>\n      <td>Worst Nites</td>\n    </tr>\n    <tr>\n      <th>111450</th>\n      <td>Foster The People</td>\n      <td>7lVoniii4QwhNjCeHij2xZ</td>\n      <td>Worst Nites</td>\n    </tr>\n    <tr>\n      <th>166863</th>\n      <td>Foster The People</td>\n      <td>7lVoniii4QwhNjCeHij2xZ</td>\n      <td>Worst Nites</td>\n    </tr>\n  </tbody>\n</table>\n</div>"
     },
     "metadata": {},
     "execution_count": 28
    }
   ],
   "source": [
    "identify[identify['track_name'] == 'Worst Nites']"
   ]
  },
  {
   "cell_type": "code",
   "execution_count": 29,
   "metadata": {},
   "outputs": [
    {
     "output_type": "execute_result",
     "data": {
      "text/plain": "[0.00834, 0.741, 0.752, 0.00165, 0.0438, -4.968, 114.02, 0.609]"
     },
     "metadata": {},
     "execution_count": 29
    }
   ],
   "source": [
    "worst_nites = spotify.iloc[77647].tolist()\n",
    "worst_nites"
   ]
  },
  {
   "cell_type": "code",
   "execution_count": 30,
   "metadata": {},
   "outputs": [
    {
     "output_type": "execute_result",
     "data": {
      "text/plain": "   acousticness  danceability  energy  instrumentalness  liveness  loudness  \\\n0         0.611         0.389   0.910             0.000    0.3460    -1.828   \n1         0.246         0.590   0.737             0.000    0.1510    -5.559   \n2         0.952         0.663   0.131             0.000    0.1030   -13.879   \n3         0.703         0.240   0.326             0.000    0.0985   -12.178   \n4         0.950         0.331   0.225             0.123    0.2020   -21.150   \n\n     tempo  valence  \n0  166.969    0.814  \n1  174.003    0.816  \n2   99.488    0.368  \n3  171.758    0.227  \n4  140.576    0.390  ",
      "text/html": "<div>\n<style scoped>\n    .dataframe tbody tr th:only-of-type {\n        vertical-align: middle;\n    }\n\n    .dataframe tbody tr th {\n        vertical-align: top;\n    }\n\n    .dataframe thead th {\n        text-align: right;\n    }\n</style>\n<table border=\"1\" class=\"dataframe\">\n  <thead>\n    <tr style=\"text-align: right;\">\n      <th></th>\n      <th>acousticness</th>\n      <th>danceability</th>\n      <th>energy</th>\n      <th>instrumentalness</th>\n      <th>liveness</th>\n      <th>loudness</th>\n      <th>tempo</th>\n      <th>valence</th>\n    </tr>\n  </thead>\n  <tbody>\n    <tr>\n      <th>0</th>\n      <td>0.611</td>\n      <td>0.389</td>\n      <td>0.910</td>\n      <td>0.000</td>\n      <td>0.3460</td>\n      <td>-1.828</td>\n      <td>166.969</td>\n      <td>0.814</td>\n    </tr>\n    <tr>\n      <th>1</th>\n      <td>0.246</td>\n      <td>0.590</td>\n      <td>0.737</td>\n      <td>0.000</td>\n      <td>0.1510</td>\n      <td>-5.559</td>\n      <td>174.003</td>\n      <td>0.816</td>\n    </tr>\n    <tr>\n      <th>2</th>\n      <td>0.952</td>\n      <td>0.663</td>\n      <td>0.131</td>\n      <td>0.000</td>\n      <td>0.1030</td>\n      <td>-13.879</td>\n      <td>99.488</td>\n      <td>0.368</td>\n    </tr>\n    <tr>\n      <th>3</th>\n      <td>0.703</td>\n      <td>0.240</td>\n      <td>0.326</td>\n      <td>0.000</td>\n      <td>0.0985</td>\n      <td>-12.178</td>\n      <td>171.758</td>\n      <td>0.227</td>\n    </tr>\n    <tr>\n      <th>4</th>\n      <td>0.950</td>\n      <td>0.331</td>\n      <td>0.225</td>\n      <td>0.123</td>\n      <td>0.2020</td>\n      <td>-21.150</td>\n      <td>140.576</td>\n      <td>0.390</td>\n    </tr>\n  </tbody>\n</table>\n</div>"
     },
     "metadata": {},
     "execution_count": 30
    }
   ],
   "source": [
    "spotify.head()"
   ]
  },
  {
   "cell_type": "code",
   "execution_count": 31,
   "metadata": {
    "tags": []
   },
   "outputs": [
    {
     "output_type": "stream",
     "name": "stdout",
     "text": "(232725, 8)\n"
    }
   ],
   "source": [
    "print(spotify.shape)"
   ]
  },
  {
   "cell_type": "code",
   "execution_count": 32,
   "metadata": {
    "tags": []
   },
   "outputs": [
    {
     "output_type": "stream",
     "name": "stdout",
     "text": "Index(['track_id', 'acousticness', 'danceability', 'energy',\n       'instrumentalness', 'liveness', 'loudness', 'tempo', 'valence', 'sum'],\n      dtype='object')\n                 track_id  acousticness  danceability    energy  \\\n0  4Tfobc8QPPPKVlk7KKJpYZ      0.074866      0.016163  0.011387   \n1  66eQL4ghCuYWdcqz50BPXF      0.089523      0.172407  0.106280   \n2  6kRBYjaEtuCsPNAqoLCR34      0.051188      0.016163  0.041753   \n3  0JfAMd3xTqm7ZYhBmQjYzt      0.074020      0.086203  0.091097   \n4  4sJoIeb8zWYCLHSLM0az3b      0.102490      0.043102  0.053140   \n5  6aAHtvwGUJIIFcczWauwWc      0.104181      0.118529  0.189786   \n6  21RzyxY3EFaxVy6K4RqaU9      0.110664      0.059265  0.045549   \n7  79UX8fkSsowWI1HOd8VoYt      0.021786      0.059265  0.098689   \n8  7HjK2whApIuUgRVP8akqjk      0.012853      0.210120  0.197377   \n9  0HqkqqlMMKeyhC3I7mNV7b      0.012769      0.059265  0.083506   \n\n   instrumentalness  liveness  loudness     tempo   valence       sum  \n0          0.005450  0.179551  0.126538  0.032137  0.099975  0.546067  \n1          0.005450  0.031270  0.003001  0.129293  0.023071  0.560295  \n2          0.008819  0.283449  0.024674  0.097609  0.049988  0.573642  \n3          0.005371  0.129620  0.007836  0.034144  0.173034  0.601324  \n4          0.005450  0.045897  0.106532  0.031652  0.238402  0.626663  \n5          0.005405  0.112976  0.065186  0.094437  0.015381  0.705882  \n6          0.005138  0.052958  0.094862  0.256903  0.103820  0.729158  \n7          0.005450  0.235030  0.011170  0.197257  0.126891  0.755538  \n8          0.002517  0.091289  0.096863  0.130879  0.023071  0.764969  \n9          0.005450  0.184090  0.038345  0.293506  0.088439  0.765370  \n[{\"track_id\":\"4Tfobc8QPPPKVlk7KKJpYZ\",\"acousticness\":0.0748659804,\"danceability\":0.0161631115,\"energy\":0.0113871441,\"instrumentalness\":0.0054497224,\"liveness\":0.1795511795,\"loudness\":0.1265381566,\"tempo\":0.0321371286,\"valence\":0.0999750349,\"sum\":0.5460674581},{\"track_id\":\"66eQL4ghCuYWdcqz50BPXF\",\"acousticness\":0.0895234765,\"danceability\":0.172406523,\"energy\":0.1062800114,\"instrumentalness\":0.0054497224,\"liveness\":0.0312701492,\"loudness\":0.0030009049,\"tempo\":0.1292928788,\"valence\":0.0230711619,\"sum\":0.5602948282},{\"track_id\":\"6kRBYjaEtuCsPNAqoLCR34\",\"acousticness\":0.0511884866,\"danceability\":0.0161631115,\"energy\":0.0417528616,\"instrumentalness\":0.0088186417,\"liveness\":0.2834487722,\"loudness\":0.024674107,\"tempo\":0.0976088417,\"valence\":0.0499875175,\"sum\":0.5736423398},{\"track_id\":\"0JfAMd3xTqm7ZYhBmQjYzt\",\"acousticness\":0.0740203556,\"danceability\":0.0862032615,\"energy\":0.0910971526,\"instrumentalness\":0.005370784,\"liveness\":0.1296198122,\"loudness\":0.0078356961,\"tempo\":0.0341436764,\"valence\":0.1730337143,\"sum\":0.6013244527},{\"track_id\":\"4sJoIeb8zWYCLHSLM0az3b\",\"acousticness\":0.1024897231,\"danceability\":0.0431016307,\"energy\":0.0531400057,\"instrumentalness\":0.0054497224,\"liveness\":0.0458965094,\"loudness\":0.106532124,\"tempo\":0.0316516735,\"valence\":0.2384020063,\"sum\":0.6266633952},{\"track_id\":\"6aAHtvwGUJIIFcczWauwWc\",\"acousticness\":0.1041809727,\"danceability\":0.1185294845,\"energy\":0.1897857347,\"instrumentalness\":0.0054051338,\"liveness\":0.1129760231,\"loudness\":0.0651863231,\"tempo\":0.0944372016,\"valence\":0.0153807746,\"sum\":0.7058816481},{\"track_id\":\"21RzyxY3EFaxVy6K4RqaU9\",\"acousticness\":0.110664096,\"danceability\":0.0592647423,\"energy\":0.0455485763,\"instrumentalness\":0.0051379322,\"liveness\":0.0529575108,\"loudness\":0.0948619382,\"tempo\":0.2569028465,\"valence\":0.1038202286,\"sum\":0.729157871},{\"track_id\":\"79UX8fkSsowWI1HOd8VoYt\",\"acousticness\":0.021786113,\"danceability\":0.0592647423,\"energy\":0.098688582,\"instrumentalness\":0.0054497224,\"liveness\":0.2350304766,\"loudness\":0.0111700349,\"tempo\":0.1972565948,\"valence\":0.1268913905,\"sum\":0.7555376566},{\"track_id\":\"7HjK2whApIuUgRVP8akqjk\",\"acousticness\":0.0128534966,\"danceability\":0.2101204499,\"energy\":0.1973771641,\"instrumentalness\":0.0025167809,\"liveness\":0.0912886615,\"loudness\":0.0968625415,\"tempo\":0.1308786988,\"valence\":0.0230711619,\"sum\":0.7649689552},{\"track_id\":\"0HqkqqlMMKeyhC3I7mNV7b\",\"acousticness\":0.0127689342,\"danceability\":0.0592647423,\"energy\":0.0835057233,\"instrumentalness\":0.0054497224,\"liveness\":0.1840903948,\"loudness\":0.0383448959,\"tempo\":0.2935061622,\"valence\":0.088439454,\"sum\":0.7653700289}]\n"
    }
   ],
   "source": [
    "def nn_predictor(audio_feats, k=25):\n",
    "    \"\"\"\n",
    "    similar_song_ids, visual_df = knn_predictor(audio_features)\n",
    "    \"\"\"\n",
    "    # Scale the data with standard scaler\n",
    "    scaler = StandardScaler()\n",
    "    spotify_scaled = scaler.fit_transform(spotify)\n",
    "\n",
    "    ################################################\n",
    "    audio_feats_scaled = scaler.transform([audio_feats])\n",
    "\n",
    "    ## Nearest Neighbors model\n",
    "    nn = NearestNeighbors(n_neighbors=k, algorithm='kd_tree')\n",
    "    nn.fit(spotify_scaled)\n",
    "    \n",
    "    # prediction\n",
    "    prediction = nn.kneighbors(audio_feats_scaled)\n",
    "    \n",
    "    \n",
    "    # # Get the indexes of the list of similar songs\n",
    "    # if prediction[0][0][0] == 0.0:\n",
    "    #     similar_songs_index = prediction[1][0][1:].tolist()\n",
    "    # else:\n",
    "    similar_songs_index = prediction[1][0][:k].tolist()\n",
    "    \n",
    "    # Create an empty list to store simlar song names\n",
    "    similar_song_ids = []\n",
    "    similar_song_names = []\n",
    "\n",
    "    # loop over the indexes and append song names to empty list above\n",
    "    for i in similar_songs_index:\n",
    "        song_id = identify['track_id'].iloc[i]\n",
    "        similar_song_ids.append(song_id)\n",
    "        song_name = identify['track_name'].iloc[i]\n",
    "        similar_song_names.append(song_name)\n",
    "\n",
    "    #################################################\n",
    "\n",
    "    column_names = spotify.columns.tolist()\n",
    "\n",
    "    # put scaled audio features into a dataframe\n",
    "    audio_feats_scaled_df = pd.DataFrame(audio_feats_scaled, columns=column_names)\n",
    "\n",
    "    # create empty list of similar songs' features\n",
    "    similar_songs_features = []\n",
    "\n",
    "    # loop through the indexes of similar songs to get audio features for each\n",
    "    #. similar song\n",
    "    for index in similar_songs_index:\n",
    "        list_of_feats = spotify.iloc[index].tolist()\n",
    "        similar_songs_features.append(list_of_feats)\n",
    "\n",
    "    # scale the features and turn them into a dataframe\n",
    "    similar_feats_scaled = scaler.transform(similar_songs_features)\n",
    "    similar_feats_scaled_df = pd.DataFrame(similar_feats_scaled, columns=column_names)\n",
    "\n",
    "    \n",
    "\n",
    "    # get the % difference between the outputs and input songs\n",
    "    col_names = similar_feats_scaled_df.columns.to_list()\n",
    "    diff_df = pd.DataFrame(columns=col_names)\n",
    "    for i in range(k):\n",
    "        diff = abs(similar_feats_scaled_df.iloc[i] - audio_feats_scaled_df.iloc[0])\n",
    "        # print('type: ', type(similar_feats_scaled_df.iloc[i]))\n",
    "        diff_df.loc[i] = diff\n",
    "    \n",
    "    # add sums of differences \n",
    "    diff_df['sum'] = diff_df.sum(axis=1)\n",
    "    diff_df = diff_df.sort_values(by=['sum'])\n",
    "    diff_df = diff_df.reset_index(drop=True)\n",
    "\n",
    "    # add track_id to DF\n",
    "    diff_df['track_id'] = similar_song_ids\n",
    "\n",
    "    # reorder cols to have track_id as first column\n",
    "    cols = list(diff_df)\n",
    "    cols.insert(0, cols.pop(cols.index('track_id')))\n",
    "    diff_df = diff_df.loc[:, cols]\n",
    "\n",
    "    # Remove the suggestion of the same song (all 0's)\n",
    "    diff_df = diff_df[~(diff_df == 0).any(axis=1)]\n",
    "\n",
    "    # Grab only the unique 10 songs\n",
    "    diff_df = diff_df.drop_duplicates(subset=['sum'])[:10]\n",
    "\n",
    "    diff_df = diff_df.reset_index(drop=True)\n",
    "\n",
    "    # print(diff_df)\n",
    "\n",
    "    return diff_df\n",
    "\n",
    "\n",
    "worst_nites = spotify.iloc[77647].tolist()\n",
    "wn_id = identify.iloc[77647]\n",
    "worst_nites_json = wn_id.to_json(orient='records')\n",
    "# print(worst_nites_json)\n",
    "test_audio_features = worst_nites\n",
    "\n",
    "diff_df = nn_predictor(test_audio_features)\n",
    "print(diff_df.columns)\n",
    "print(diff_df)\n",
    "\n",
    "diff_json = diff_df.to_json(orient='records')\n",
    "\n",
    "print(diff_json)\n",
    "# print(diff_json)\n",
    "# print('-----------------')\n",
    "# print('Recommended song_ids:')\n",
    "# print(similar_song_ids)\n",
    "# print('Recommended song_names:')\n",
    "# print(similar_song_names)\n",
    "# print('-----------------')\n",
    "# print(visual_df)"
   ]
  },
  {
   "cell_type": "code",
   "execution_count": 33,
   "metadata": {},
   "outputs": [],
   "source": [
    "# # create empty list for averaged features of recommended songs\n",
    "    # similar_feats_averaged = []\n",
    "\n",
    "    # # loop through columns of audio features and get average of each column for 5\n",
    "    # #. recommended songs\n",
    "    # for col in column_names:\n",
    "    #     avg = similar_feats_scaled_df[col].mean()\n",
    "    #     similar_feats_averaged.append(avg)\n",
    "    \n",
    "    # # print('Sum of means of all predicted songs: ', sum(similar_feats_averaged))\n",
    "\n",
    "    # # turn averages into 1 row dataframe\n",
    "    # similar_feats_averaged_df = pd.DataFrame([similar_feats_averaged], columns=column_names)\n",
    "\n",
    "    # # concatenate this with input songs audio features to be used for visualizing\n",
    "    # visual_df = pd.concat([audio_feats_scaled_df, similar_feats_averaged_df], ignore_index=True)\n",
    "\n",
    "    # genre_map = {'Movie': 0, 'R&B': 1, 'A Capella': 2, 'Alternative': 3, 'Country': 4, 'Dance': 5, 'Electronic': 6, 'Anime': 7, 'Folk': 8, 'Blues': 9, 'Opera': 10, 'Hip-Hop': 11,     \"Children's Music\": 12, 'Children’s Music': 12, 'Rap': 13, 'Indie': 14, 'Classical': 15, 'Pop': 16, 'Reggae': 17, 'Reggaeton': 18, 'Jazz': 19, 'Rock': 20, 'Ska': 21, 'Comedy':      22, 'Soul': 23, 'Soundtrack': 24, 'World': 25}\n",
    "\n",
    "    # spotify['genre'] = spotify['genre'].map(genre_map)"
   ]
  },
  {
   "cell_type": "code",
   "execution_count": 34,
   "metadata": {},
   "outputs": [],
   "source": [
    "from sklearn.cluster import KMeans\n",
    "from sklearn.model_selection import train_test_split\n",
    "%matplotlib inline\n",
    "import matplotlib.pyplot as plt\n",
    "import seaborn as sns; sns.set()  # for plot styling"
   ]
  },
  {
   "cell_type": "markdown",
   "metadata": {},
   "source": [
    "## Using a Neural Network"
   ]
  },
  {
   "cell_type": "code",
   "execution_count": 41,
   "metadata": {
    "tags": []
   },
   "outputs": [],
   "source": [
    "def clean2():\n",
    "    \"\"\"\n",
    "    spotify, identify = load_and_clean()\n",
    "    \"\"\"\n",
    "    df = pd.read_csv('https://raw.githubusercontent.com/BW-pilot/MachineLearning/master/CSVs/spotify_final.csv')\n",
    "\n",
    "    # spotify = spotify.drop(columns=['genre',\n",
    "    #                                 'mode',\n",
    "    #                                 'time_signature',\n",
    "    #                                 'key',\n",
    "    #                                 'popularity',\n",
    "    #                                 'duration_ms',\n",
    "    #                                 'speechiness'])\n",
    "    # spotify.to_csv('spotify_final.csv')\n",
    "\n",
    "    # dataframe that serves to identify songs\n",
    "    identify = df[['artist_name', 'track_id', 'track_name']]\n",
    "\n",
    "    # identify.to_csv('identify_tracks.csv')\n",
    "\n",
    "    # dataframe consisting of audio features we want to train on\n",
    "    df = df.drop(columns = ['artist_name',\n",
    "                                    'track_name'])\n",
    "\n",
    "    track_id = df.pop('track_id')\n",
    "    df['id'] = track_id\n",
    "\n",
    "    return df, identify\n",
    "\n",
    "df, identify = clean2()"
   ]
  },
  {
   "cell_type": "code",
   "execution_count": 42,
   "metadata": {},
   "outputs": [
    {
     "output_type": "execute_result",
     "data": {
      "text/plain": "[0.00834,\n 0.741,\n 0.752,\n 0.00165,\n 0.0438,\n -4.968,\n 114.02,\n 0.609,\n '7lVoniii4QwhNjCeHij2xZ']"
     },
     "metadata": {},
     "execution_count": 42
    }
   ],
   "source": [
    "worst_nites = df.iloc[77647].tolist()\n",
    "worst_nites"
   ]
  },
  {
   "cell_type": "code",
   "execution_count": 36,
   "metadata": {},
   "outputs": [
    {
     "output_type": "execute_result",
     "data": {
      "text/plain": "   acousticness  danceability  energy  instrumentalness  liveness  loudness  \\\n0         0.611         0.389   0.910             0.000    0.3460    -1.828   \n1         0.246         0.590   0.737             0.000    0.1510    -5.559   \n2         0.952         0.663   0.131             0.000    0.1030   -13.879   \n3         0.703         0.240   0.326             0.000    0.0985   -12.178   \n4         0.950         0.331   0.225             0.123    0.2020   -21.150   \n\n     tempo  valence                      id  \n0  166.969    0.814  0BRjO6ga9RKCKjfDqeFgWV  \n1  174.003    0.816  0BjC1NfoEOOusryehmNudP  \n2   99.488    0.368  0CoSDzoNIKCRs124s9uTVy  \n3  171.758    0.227  0Gc6TVm52BwZD07Ki6tIvf  \n4  140.576    0.390  0IuslXpMROHdEPvSl1fTQK  ",
      "text/html": "<div>\n<style scoped>\n    .dataframe tbody tr th:only-of-type {\n        vertical-align: middle;\n    }\n\n    .dataframe tbody tr th {\n        vertical-align: top;\n    }\n\n    .dataframe thead th {\n        text-align: right;\n    }\n</style>\n<table border=\"1\" class=\"dataframe\">\n  <thead>\n    <tr style=\"text-align: right;\">\n      <th></th>\n      <th>acousticness</th>\n      <th>danceability</th>\n      <th>energy</th>\n      <th>instrumentalness</th>\n      <th>liveness</th>\n      <th>loudness</th>\n      <th>tempo</th>\n      <th>valence</th>\n      <th>id</th>\n    </tr>\n  </thead>\n  <tbody>\n    <tr>\n      <th>0</th>\n      <td>0.611</td>\n      <td>0.389</td>\n      <td>0.910</td>\n      <td>0.000</td>\n      <td>0.3460</td>\n      <td>-1.828</td>\n      <td>166.969</td>\n      <td>0.814</td>\n      <td>0BRjO6ga9RKCKjfDqeFgWV</td>\n    </tr>\n    <tr>\n      <th>1</th>\n      <td>0.246</td>\n      <td>0.590</td>\n      <td>0.737</td>\n      <td>0.000</td>\n      <td>0.1510</td>\n      <td>-5.559</td>\n      <td>174.003</td>\n      <td>0.816</td>\n      <td>0BjC1NfoEOOusryehmNudP</td>\n    </tr>\n    <tr>\n      <th>2</th>\n      <td>0.952</td>\n      <td>0.663</td>\n      <td>0.131</td>\n      <td>0.000</td>\n      <td>0.1030</td>\n      <td>-13.879</td>\n      <td>99.488</td>\n      <td>0.368</td>\n      <td>0CoSDzoNIKCRs124s9uTVy</td>\n    </tr>\n    <tr>\n      <th>3</th>\n      <td>0.703</td>\n      <td>0.240</td>\n      <td>0.326</td>\n      <td>0.000</td>\n      <td>0.0985</td>\n      <td>-12.178</td>\n      <td>171.758</td>\n      <td>0.227</td>\n      <td>0Gc6TVm52BwZD07Ki6tIvf</td>\n    </tr>\n    <tr>\n      <th>4</th>\n      <td>0.950</td>\n      <td>0.331</td>\n      <td>0.225</td>\n      <td>0.123</td>\n      <td>0.2020</td>\n      <td>-21.150</td>\n      <td>140.576</td>\n      <td>0.390</td>\n      <td>0IuslXpMROHdEPvSl1fTQK</td>\n    </tr>\n  </tbody>\n</table>\n</div>"
     },
     "metadata": {},
     "execution_count": 36
    }
   ],
   "source": [
    "spotify.head()"
   ]
  },
  {
   "cell_type": "code",
   "execution_count": 54,
   "metadata": {
    "tags": []
   },
   "outputs": [
    {
     "output_type": "stream",
     "name": "stdout",
     "text": "artist_name                        track_name  \\\n0     Henri Salvador       C'est beau de faire un Show   \n1  Martin & les fées  Perdu d'avance (par Gad Elmaleh)   \n2    Joseph Williams    Don't Let Me Be Lonely Tonight   \n3     Henri Salvador    Dis-moi Monsieur Gordon Cooper   \n4       Fabien Nataf                         Ouverture   \n\n                 track_id  acousticness  danceability  energy  \\\n0  0BRjO6ga9RKCKjfDqeFgWV         0.611         0.389   0.910   \n1  0BjC1NfoEOOusryehmNudP         0.246         0.590   0.737   \n2  0CoSDzoNIKCRs124s9uTVy         0.952         0.663   0.131   \n3  0Gc6TVm52BwZD07Ki6tIvf         0.703         0.240   0.326   \n4  0IuslXpMROHdEPvSl1fTQK         0.950         0.331   0.225   \n\n   instrumentalness  liveness  loudness    tempo  valence  \n0             0.000    0.3460    -1.828  166.969    0.814  \n1             0.000    0.1510    -5.559  174.003    0.816  \n2             0.000    0.1030   -13.879   99.488    0.368  \n3             0.000    0.0985   -12.178  171.758    0.227  \n4             0.123    0.2020   -21.150  140.576    0.390  \n-------------------------\n        acousticness  danceability  energy  instrumentalness  liveness  \\\n77034         0.7740         0.706   0.535               0.0     0.155   \n131836        0.3720         0.676   0.739               0.0     0.083   \n69216         0.1580         0.767   0.625               0.0     0.160   \n110144        0.2040         0.748   0.705               0.0     0.246   \n137283        0.0606         0.648   0.654               0.0     0.228   \n\n        loudness    tempo  valence                      id  \n77034     -8.833   66.671    0.937  4iXWI9G9nJ5DzfO5rCgCtu  \n131836    -4.823   77.021    0.943  4lIRvV2T2OLpGOPbkJrDVp  \n69216     -3.533  144.927    0.647  2ciMN5X2mLSwwnTX2V8oVS  \n110144    -4.547  189.891    0.483  1EaKU4dMbesXXd3BrLCtYG  \n137283    -4.842   79.986    0.480  13V5jfIRGz1k35xmoyOLRB  \n-------------------------\n        acousticness  danceability  energy  instrumentalness  liveness  \\\n33934       0.004810         0.484   0.979          0.000148    0.2300   \n228143      0.212000         0.604   0.354          0.003150    0.1090   \n192565      0.238000         0.481   0.687          0.110000    0.1070   \n213529      0.056400         0.629   0.834          0.000000    0.1020   \n28782       0.018000         0.541   0.885          0.000000    0.2190   \n77558       0.158000         0.589   0.665          0.000000    0.0971   \n147655      0.890000         0.431   0.218          0.000000    0.1420   \n68789       0.005030         0.832   0.291          0.000000    0.0796   \n113603      0.110000         0.609   0.810          0.000000    0.2460   \n157805      0.000452         0.420   0.917          0.000000    0.2480   \n\n        loudness    tempo  valence                      id  \n33934     -0.167  128.006    0.247  5cUMAYqmgBPO4Y73POhu3m  \n228143    -9.134  135.903    0.107  5zPaLPbKwa7cg5P2ESV0dp  \n192565    -6.748  145.971    0.188  0K1glOFXQzLm3KxjJY5rtK  \n213529    -3.559   84.000    0.669  6n8867qPhHITHka3ZJYjr8  \n28782     -3.832  129.950    0.467  3hrplYBqjpNFQrdoOgRAPV  \n77558     -6.752  126.877    0.462  6Y2DPBV2uBBfqQOPZnW3LD  \n147655   -13.797  111.653    0.172  3aNVmx1plEeXKApSzTvUTc  \n68789     -9.272  134.063    0.289  7i3NiyX4x4WZ8xZjIXWi4s  \n113603    -4.207  117.364    0.470  4ucLHLiSjvkCz5Lr5dlVUj  \n157805    -3.545  138.119    0.836  5J1YmqajyODgkIA7oUmFBI  \n"
    }
   ],
   "source": [
    "from tensorflow.keras.models import Sequential\n",
    "from tensorflow.keras.layers import Dense\n",
    "\n",
    "# load in the data\n",
    "spotify = pd.read_csv('https://raw.githubusercontent.com/BW-pilot/MachineLearning/master/CSVs/spotify_final.csv')\n",
    "print(spotify.head())\n",
    "\n",
    "\n",
    "def normalize(vectors):\n",
    "    return vectors / np.linalg.norm(vectors, axis=1, keepdims=True)\n",
    "\n",
    "\n",
    "def predict(model, input_vector):\n",
    "    return model.predict(input_vector).argsort()\n",
    "\n",
    "def build_model(weights):\n",
    "    model = Sequential([\n",
    "        # Dot product between feature vector and reference vectors\n",
    "        Dense(input_shape=(weights.shape[1],),\n",
    "              units=weights.shape[0],\n",
    "              activation='linear',\n",
    "              name='dense_1',\n",
    "              use_bias=False)\n",
    "    ])\n",
    "    model.set_weights([weights.T])\n",
    "    return model\n",
    "\n",
    "# ,acousticness,artists,danceability,duration_ms,energy,explicit,id,instrumentalness,key,liveness,loudness,mode,name,popularity,release_date,speechiness,tempo,valence,year\n",
    "def get_results(input_vector, features, best_match=True, amount=5):\n",
    "    \"\"\"\n",
    "    get_results(input_vector, features, best_match=True, amount=5)\n",
    "    input_vector: audio features of the song to suggest similar songs to,\n",
    "    plus track_id\n",
    "    features: full database to suggest songs from\n",
    "    best_match=True: True if you want most similar songs, False if least\n",
    "    similar\n",
    "    amount=5: amount of results to return.\n",
    "    returns a list (might be a numpy array?) of indices from the original\n",
    "    database\n",
    "    \"\"\"\n",
    "\n",
    "    # column names that will be used in training / ID is there for later use\n",
    "    col_names = ['acousticness', 'danceability', 'energy', 'instrumentalness',\n",
    "                 'liveness','loudness', 'tempo', 'valence', 'id']\n",
    "\n",
    "    # create input vector for the model\n",
    "    input_vector_df = pd.DataFrame([input_vector], columns=col_names)\n",
    "    \n",
    "    # save IDs to an array of track_ids\n",
    "    track_id = input_vector_df['id'].values[0]\n",
    "\n",
    "    # save ALL track IDs to a series for later use\n",
    "    ids = features['id']\n",
    "\n",
    "    # drop 'id' cols from input vector and all_songs_df\n",
    "    input_vec = input_vector_df.drop(columns=['id'])\n",
    "    feats = features.drop(columns=['id'])\n",
    "\n",
    "    # norm_vector = normalize(input_vec.values)\n",
    "    norm_vector = normalize(input_vec)\n",
    "    norm_features = normalize(feats)\n",
    "\n",
    "    # instantiate the model and make predictions\n",
    "    model = build_model(norm_features)\n",
    "    prediction = np.array(predict(model, norm_vector).argsort())\n",
    "    prediction = prediction.reshape(prediction.shape[1])\n",
    "\n",
    "    # Add back 'ID' onto the end of the output\n",
    "    feats['id'] = ids\n",
    "\n",
    "    # Make sure best suggestion isn't the same song as the input song\n",
    "    if best_match:\n",
    "        if track_id in ids[prediction[-amount:]]:\n",
    "            return feats.loc[prediction[-amount-1:-1]]\n",
    "        return feats.loc[prediction[-amount:]]\n",
    "    return feats.loc[prediction[:amount]]\n",
    "\n",
    "test_audio_features = worst_nites\n",
    "# test_audio_features = [0.5,\t0.7, 0.7, 0.0, 3, 0.1, -3, 0.03, 130, 0.9, '6oXghnUUe9u2iIZPNfCxjl']   \n",
    "\n",
    "results_1 = get_results(df.iloc[0], df, amount=5)\n",
    "print('-------------------------')\n",
    "print(results_1)\n",
    "\n",
    "results_2 = get_results(test_audio_features, df, amount=10)\n",
    "print('-------------------------')\n",
    "print(results_2)"
   ]
  },
  {
   "cell_type": "code",
   "execution_count": 51,
   "metadata": {},
   "outputs": [
    {
     "output_type": "execute_result",
     "data": {
      "text/plain": "        artist_name                track_id                   track_name\n22265   What So Not  0K1glOFXQzLm3KxjJY5rtK  Gemini (feat. George Maple)\n192565  What So Not  0K1glOFXQzLm3KxjJY5rtK  Gemini (feat. George Maple)",
      "text/html": "<div>\n<style scoped>\n    .dataframe tbody tr th:only-of-type {\n        vertical-align: middle;\n    }\n\n    .dataframe tbody tr th {\n        vertical-align: top;\n    }\n\n    .dataframe thead th {\n        text-align: right;\n    }\n</style>\n<table border=\"1\" class=\"dataframe\">\n  <thead>\n    <tr style=\"text-align: right;\">\n      <th></th>\n      <th>artist_name</th>\n      <th>track_id</th>\n      <th>track_name</th>\n    </tr>\n  </thead>\n  <tbody>\n    <tr>\n      <th>22265</th>\n      <td>What So Not</td>\n      <td>0K1glOFXQzLm3KxjJY5rtK</td>\n      <td>Gemini (feat. George Maple)</td>\n    </tr>\n    <tr>\n      <th>192565</th>\n      <td>What So Not</td>\n      <td>0K1glOFXQzLm3KxjJY5rtK</td>\n      <td>Gemini (feat. George Maple)</td>\n    </tr>\n  </tbody>\n</table>\n</div>"
     },
     "metadata": {},
     "execution_count": 51
    }
   ],
   "source": [
    "identify[identify['track_id'] == '0K1glOFXQzLm3KxjJY5rtK']"
   ]
  },
  {
   "cell_type": "markdown",
   "metadata": {},
   "source": [
    "## Experimenting with connecting to Spotify API"
   ]
  },
  {
   "cell_type": "code",
   "execution_count": 38,
   "metadata": {},
   "outputs": [
    {
     "output_type": "execute_result",
     "data": {
      "text/plain": "    danceability  energy  loudness  speechiness  acousticness  \\\n0          0.792   0.625    -5.609       0.0536      0.007760   \n1          0.723   0.809    -3.081       0.0625      0.003460   \n2          0.755   0.522    -4.368       0.0575      0.533000   \n3          0.865   0.521    -6.932       0.0371      0.548000   \n4          0.729   0.756    -5.119       0.0294      0.131000   \n5          0.641   0.922    -4.457       0.0786      0.029100   \n6          0.778   0.317   -10.732       0.3340      0.592000   \n7          0.532   0.783    -5.697       0.0523      0.003800   \n8          0.749   0.925    -5.034       0.2270      0.241000   \n9          0.701   0.425   -10.965       0.3750      0.328000   \n10         0.799   0.586    -6.735       0.0377      0.162000   \n11         0.783   0.580    -6.548       0.0408      0.011400   \n12         0.378   0.638    -5.576       0.0750      0.020000   \n13         0.825   0.652    -3.183       0.0802      0.581000   \n14         0.748   0.524    -5.599       0.0338      0.414000   \n15         0.782   0.685    -6.237       0.0309      0.166000   \n16         0.448   0.784    -3.686       0.0627      0.106000   \n17         0.759   0.548    -6.049       0.0290      0.039200   \n18         0.660   0.867    -4.285       0.1160      0.110000   \n19         0.740   0.613    -4.880       0.1450      0.258000   \n20         0.781   0.445    -6.061       0.0295      0.474000   \n21         0.689   0.481    -7.503       0.0815      0.369000   \n22         0.596   0.856    -3.556       0.0346      0.021100   \n23         0.754   0.449    -9.211       0.1090      0.033200   \n24         0.542   0.859    -5.651       0.1970      0.160000   \n25         0.781   0.526    -6.985       0.2930      0.061900   \n26         0.585   0.520    -6.136       0.0712      0.124000   \n27         0.706   0.558    -7.237       0.0593      0.146000   \n28         0.664   0.714    -6.645       0.1110      0.035300   \n29         0.655   0.797    -4.787       0.1530      0.198000   \n30         0.908   0.621    -6.638       0.1020      0.000282   \n31         0.878   0.619    -5.560       0.1020      0.053300   \n32         0.766   0.873    -6.381       0.1430      0.006270   \n33         0.400   0.915    -4.890       0.2800      0.084600   \n34         0.645   0.585    -6.122       0.0513      0.003140   \n35         0.628   0.698    -5.608       0.1050      0.047200   \n36         0.856   0.609    -7.223       0.0824      0.008010   \n37         0.649   0.798    -4.346       0.1780      0.226000   \n38         0.789   0.716    -4.241       0.0432      0.129000   \n39         0.750   0.560    -8.094       0.1050      0.546000   \n40         0.647   0.822    -4.662       0.1830      0.219000   \n41         0.758   0.686    -6.346       0.0792      0.084800   \n42         0.747   0.716    -2.457       0.0750      0.135000   \n43         0.747   0.937    -5.746       0.0453      0.020800   \n44         0.751   0.736    -4.168       0.1560      0.020600   \n45         0.835   0.626    -5.833       0.1250      0.058900   \n46         0.617   0.635    -6.769       0.0317      0.049800   \n47         0.422   0.264    -7.064       0.0322      0.922000   \n48         0.509   0.538    -7.335       0.0572      0.385000   \n49         0.855   0.954    -1.190       0.2640      0.529000   \n\n    instrumentalness  liveness  valence    tempo  \n0           0.001880    0.3290    0.370  103.967  \n1           0.001230    0.5650    0.274   98.007  \n2           0.000000    0.0685    0.925   89.960  \n3           0.000115    0.0989    0.748  129.059  \n4           0.000000    0.0527    0.522  104.945  \n5           0.000000    0.0862    0.847  146.078  \n6           0.000000    0.0881    0.327  140.048  \n7           0.001200    0.1610    0.643  124.080  \n8           0.000000    0.5200    0.641   86.989  \n9           0.130000    0.1000    0.562  135.128  \n10          0.000002    0.1930    0.549  120.970  \n11          0.000002    0.1080    0.660  120.021  \n12          0.000077    0.0849    0.735  184.086  \n13          0.000000    0.0931    0.931   95.977  \n14          0.000000    0.1110    0.661   95.010  \n15          0.000012    0.1600    0.603  118.016  \n16          0.000108    0.6680    0.236  136.245  \n17          0.000000    0.0828    0.749  116.967  \n18          0.000000    0.0368    0.377   93.033  \n19          0.003720    0.1230    0.473   75.023  \n20          0.000000    0.1840    0.591   78.998  \n21          0.000001    0.0649    0.283   80.025  \n22          0.017800    0.1410    0.743  127.949  \n23          0.000083    0.5520    0.357   77.169  \n24          0.004660    0.1370    0.403  159.797  \n25          0.000000    0.0457    0.662   94.992  \n26          0.000070    0.1310    0.129  159.801  \n27          0.000000    0.1180    0.227  110.443  \n28          0.000008    0.0843    0.710  101.969  \n29          0.000000    0.0670    0.839  177.928  \n30          0.000054    0.0958    0.421  150.011  \n31          0.000000    0.1130    0.639  136.041  \n32          0.000000    0.0764    0.743  126.988  \n33          0.000000    0.0503    0.878   88.917  \n34          0.000000    0.1650    0.353  131.931  \n35          0.001430    0.0907    0.732   89.976  \n36          0.000082    0.0344    0.928  114.988  \n37          0.000000    0.0711    0.857  177.899  \n38          0.000011    0.0690    0.611  125.906  \n39          0.000000    0.1110    0.459  140.060  \n40          0.000000    0.0908    0.962  160.019  \n41          0.001270    0.1420    0.444  130.007  \n42          0.000000    0.2510    0.751  125.008  \n43          0.000000    0.2900    0.739  103.976  \n44          0.000000    0.2650    0.352  130.014  \n45          0.000060    0.3960    0.350   91.030  \n46          0.000014    0.1640    0.446  103.019  \n47          0.000000    0.1320    0.331  119.930  \n48          0.000000    0.1040    0.244   75.089  \n49          0.000000    0.2050    0.668  114.635  ",
      "text/html": "<div>\n<style scoped>\n    .dataframe tbody tr th:only-of-type {\n        vertical-align: middle;\n    }\n\n    .dataframe tbody tr th {\n        vertical-align: top;\n    }\n\n    .dataframe thead th {\n        text-align: right;\n    }\n</style>\n<table border=\"1\" class=\"dataframe\">\n  <thead>\n    <tr style=\"text-align: right;\">\n      <th></th>\n      <th>danceability</th>\n      <th>energy</th>\n      <th>loudness</th>\n      <th>speechiness</th>\n      <th>acousticness</th>\n      <th>instrumentalness</th>\n      <th>liveness</th>\n      <th>valence</th>\n      <th>tempo</th>\n    </tr>\n  </thead>\n  <tbody>\n    <tr>\n      <th>0</th>\n      <td>0.792</td>\n      <td>0.625</td>\n      <td>-5.609</td>\n      <td>0.0536</td>\n      <td>0.007760</td>\n      <td>0.001880</td>\n      <td>0.3290</td>\n      <td>0.370</td>\n      <td>103.967</td>\n    </tr>\n    <tr>\n      <th>1</th>\n      <td>0.723</td>\n      <td>0.809</td>\n      <td>-3.081</td>\n      <td>0.0625</td>\n      <td>0.003460</td>\n      <td>0.001230</td>\n      <td>0.5650</td>\n      <td>0.274</td>\n      <td>98.007</td>\n    </tr>\n    <tr>\n      <th>2</th>\n      <td>0.755</td>\n      <td>0.522</td>\n      <td>-4.368</td>\n      <td>0.0575</td>\n      <td>0.533000</td>\n      <td>0.000000</td>\n      <td>0.0685</td>\n      <td>0.925</td>\n      <td>89.960</td>\n    </tr>\n    <tr>\n      <th>3</th>\n      <td>0.865</td>\n      <td>0.521</td>\n      <td>-6.932</td>\n      <td>0.0371</td>\n      <td>0.548000</td>\n      <td>0.000115</td>\n      <td>0.0989</td>\n      <td>0.748</td>\n      <td>129.059</td>\n    </tr>\n    <tr>\n      <th>4</th>\n      <td>0.729</td>\n      <td>0.756</td>\n      <td>-5.119</td>\n      <td>0.0294</td>\n      <td>0.131000</td>\n      <td>0.000000</td>\n      <td>0.0527</td>\n      <td>0.522</td>\n      <td>104.945</td>\n    </tr>\n    <tr>\n      <th>5</th>\n      <td>0.641</td>\n      <td>0.922</td>\n      <td>-4.457</td>\n      <td>0.0786</td>\n      <td>0.029100</td>\n      <td>0.000000</td>\n      <td>0.0862</td>\n      <td>0.847</td>\n      <td>146.078</td>\n    </tr>\n    <tr>\n      <th>6</th>\n      <td>0.778</td>\n      <td>0.317</td>\n      <td>-10.732</td>\n      <td>0.3340</td>\n      <td>0.592000</td>\n      <td>0.000000</td>\n      <td>0.0881</td>\n      <td>0.327</td>\n      <td>140.048</td>\n    </tr>\n    <tr>\n      <th>7</th>\n      <td>0.532</td>\n      <td>0.783</td>\n      <td>-5.697</td>\n      <td>0.0523</td>\n      <td>0.003800</td>\n      <td>0.001200</td>\n      <td>0.1610</td>\n      <td>0.643</td>\n      <td>124.080</td>\n    </tr>\n    <tr>\n      <th>8</th>\n      <td>0.749</td>\n      <td>0.925</td>\n      <td>-5.034</td>\n      <td>0.2270</td>\n      <td>0.241000</td>\n      <td>0.000000</td>\n      <td>0.5200</td>\n      <td>0.641</td>\n      <td>86.989</td>\n    </tr>\n    <tr>\n      <th>9</th>\n      <td>0.701</td>\n      <td>0.425</td>\n      <td>-10.965</td>\n      <td>0.3750</td>\n      <td>0.328000</td>\n      <td>0.130000</td>\n      <td>0.1000</td>\n      <td>0.562</td>\n      <td>135.128</td>\n    </tr>\n    <tr>\n      <th>10</th>\n      <td>0.799</td>\n      <td>0.586</td>\n      <td>-6.735</td>\n      <td>0.0377</td>\n      <td>0.162000</td>\n      <td>0.000002</td>\n      <td>0.1930</td>\n      <td>0.549</td>\n      <td>120.970</td>\n    </tr>\n    <tr>\n      <th>11</th>\n      <td>0.783</td>\n      <td>0.580</td>\n      <td>-6.548</td>\n      <td>0.0408</td>\n      <td>0.011400</td>\n      <td>0.000002</td>\n      <td>0.1080</td>\n      <td>0.660</td>\n      <td>120.021</td>\n    </tr>\n    <tr>\n      <th>12</th>\n      <td>0.378</td>\n      <td>0.638</td>\n      <td>-5.576</td>\n      <td>0.0750</td>\n      <td>0.020000</td>\n      <td>0.000077</td>\n      <td>0.0849</td>\n      <td>0.735</td>\n      <td>184.086</td>\n    </tr>\n    <tr>\n      <th>13</th>\n      <td>0.825</td>\n      <td>0.652</td>\n      <td>-3.183</td>\n      <td>0.0802</td>\n      <td>0.581000</td>\n      <td>0.000000</td>\n      <td>0.0931</td>\n      <td>0.931</td>\n      <td>95.977</td>\n    </tr>\n    <tr>\n      <th>14</th>\n      <td>0.748</td>\n      <td>0.524</td>\n      <td>-5.599</td>\n      <td>0.0338</td>\n      <td>0.414000</td>\n      <td>0.000000</td>\n      <td>0.1110</td>\n      <td>0.661</td>\n      <td>95.010</td>\n    </tr>\n    <tr>\n      <th>15</th>\n      <td>0.782</td>\n      <td>0.685</td>\n      <td>-6.237</td>\n      <td>0.0309</td>\n      <td>0.166000</td>\n      <td>0.000012</td>\n      <td>0.1600</td>\n      <td>0.603</td>\n      <td>118.016</td>\n    </tr>\n    <tr>\n      <th>16</th>\n      <td>0.448</td>\n      <td>0.784</td>\n      <td>-3.686</td>\n      <td>0.0627</td>\n      <td>0.106000</td>\n      <td>0.000108</td>\n      <td>0.6680</td>\n      <td>0.236</td>\n      <td>136.245</td>\n    </tr>\n    <tr>\n      <th>17</th>\n      <td>0.759</td>\n      <td>0.548</td>\n      <td>-6.049</td>\n      <td>0.0290</td>\n      <td>0.039200</td>\n      <td>0.000000</td>\n      <td>0.0828</td>\n      <td>0.749</td>\n      <td>116.967</td>\n    </tr>\n    <tr>\n      <th>18</th>\n      <td>0.660</td>\n      <td>0.867</td>\n      <td>-4.285</td>\n      <td>0.1160</td>\n      <td>0.110000</td>\n      <td>0.000000</td>\n      <td>0.0368</td>\n      <td>0.377</td>\n      <td>93.033</td>\n    </tr>\n    <tr>\n      <th>19</th>\n      <td>0.740</td>\n      <td>0.613</td>\n      <td>-4.880</td>\n      <td>0.1450</td>\n      <td>0.258000</td>\n      <td>0.003720</td>\n      <td>0.1230</td>\n      <td>0.473</td>\n      <td>75.023</td>\n    </tr>\n    <tr>\n      <th>20</th>\n      <td>0.781</td>\n      <td>0.445</td>\n      <td>-6.061</td>\n      <td>0.0295</td>\n      <td>0.474000</td>\n      <td>0.000000</td>\n      <td>0.1840</td>\n      <td>0.591</td>\n      <td>78.998</td>\n    </tr>\n    <tr>\n      <th>21</th>\n      <td>0.689</td>\n      <td>0.481</td>\n      <td>-7.503</td>\n      <td>0.0815</td>\n      <td>0.369000</td>\n      <td>0.000001</td>\n      <td>0.0649</td>\n      <td>0.283</td>\n      <td>80.025</td>\n    </tr>\n    <tr>\n      <th>22</th>\n      <td>0.596</td>\n      <td>0.856</td>\n      <td>-3.556</td>\n      <td>0.0346</td>\n      <td>0.021100</td>\n      <td>0.017800</td>\n      <td>0.1410</td>\n      <td>0.743</td>\n      <td>127.949</td>\n    </tr>\n    <tr>\n      <th>23</th>\n      <td>0.754</td>\n      <td>0.449</td>\n      <td>-9.211</td>\n      <td>0.1090</td>\n      <td>0.033200</td>\n      <td>0.000083</td>\n      <td>0.5520</td>\n      <td>0.357</td>\n      <td>77.169</td>\n    </tr>\n    <tr>\n      <th>24</th>\n      <td>0.542</td>\n      <td>0.859</td>\n      <td>-5.651</td>\n      <td>0.1970</td>\n      <td>0.160000</td>\n      <td>0.004660</td>\n      <td>0.1370</td>\n      <td>0.403</td>\n      <td>159.797</td>\n    </tr>\n    <tr>\n      <th>25</th>\n      <td>0.781</td>\n      <td>0.526</td>\n      <td>-6.985</td>\n      <td>0.2930</td>\n      <td>0.061900</td>\n      <td>0.000000</td>\n      <td>0.0457</td>\n      <td>0.662</td>\n      <td>94.992</td>\n    </tr>\n    <tr>\n      <th>26</th>\n      <td>0.585</td>\n      <td>0.520</td>\n      <td>-6.136</td>\n      <td>0.0712</td>\n      <td>0.124000</td>\n      <td>0.000070</td>\n      <td>0.1310</td>\n      <td>0.129</td>\n      <td>159.801</td>\n    </tr>\n    <tr>\n      <th>27</th>\n      <td>0.706</td>\n      <td>0.558</td>\n      <td>-7.237</td>\n      <td>0.0593</td>\n      <td>0.146000</td>\n      <td>0.000000</td>\n      <td>0.1180</td>\n      <td>0.227</td>\n      <td>110.443</td>\n    </tr>\n    <tr>\n      <th>28</th>\n      <td>0.664</td>\n      <td>0.714</td>\n      <td>-6.645</td>\n      <td>0.1110</td>\n      <td>0.035300</td>\n      <td>0.000008</td>\n      <td>0.0843</td>\n      <td>0.710</td>\n      <td>101.969</td>\n    </tr>\n    <tr>\n      <th>29</th>\n      <td>0.655</td>\n      <td>0.797</td>\n      <td>-4.787</td>\n      <td>0.1530</td>\n      <td>0.198000</td>\n      <td>0.000000</td>\n      <td>0.0670</td>\n      <td>0.839</td>\n      <td>177.928</td>\n    </tr>\n    <tr>\n      <th>30</th>\n      <td>0.908</td>\n      <td>0.621</td>\n      <td>-6.638</td>\n      <td>0.1020</td>\n      <td>0.000282</td>\n      <td>0.000054</td>\n      <td>0.0958</td>\n      <td>0.421</td>\n      <td>150.011</td>\n    </tr>\n    <tr>\n      <th>31</th>\n      <td>0.878</td>\n      <td>0.619</td>\n      <td>-5.560</td>\n      <td>0.1020</td>\n      <td>0.053300</td>\n      <td>0.000000</td>\n      <td>0.1130</td>\n      <td>0.639</td>\n      <td>136.041</td>\n    </tr>\n    <tr>\n      <th>32</th>\n      <td>0.766</td>\n      <td>0.873</td>\n      <td>-6.381</td>\n      <td>0.1430</td>\n      <td>0.006270</td>\n      <td>0.000000</td>\n      <td>0.0764</td>\n      <td>0.743</td>\n      <td>126.988</td>\n    </tr>\n    <tr>\n      <th>33</th>\n      <td>0.400</td>\n      <td>0.915</td>\n      <td>-4.890</td>\n      <td>0.2800</td>\n      <td>0.084600</td>\n      <td>0.000000</td>\n      <td>0.0503</td>\n      <td>0.878</td>\n      <td>88.917</td>\n    </tr>\n    <tr>\n      <th>34</th>\n      <td>0.645</td>\n      <td>0.585</td>\n      <td>-6.122</td>\n      <td>0.0513</td>\n      <td>0.003140</td>\n      <td>0.000000</td>\n      <td>0.1650</td>\n      <td>0.353</td>\n      <td>131.931</td>\n    </tr>\n    <tr>\n      <th>35</th>\n      <td>0.628</td>\n      <td>0.698</td>\n      <td>-5.608</td>\n      <td>0.1050</td>\n      <td>0.047200</td>\n      <td>0.001430</td>\n      <td>0.0907</td>\n      <td>0.732</td>\n      <td>89.976</td>\n    </tr>\n    <tr>\n      <th>36</th>\n      <td>0.856</td>\n      <td>0.609</td>\n      <td>-7.223</td>\n      <td>0.0824</td>\n      <td>0.008010</td>\n      <td>0.000082</td>\n      <td>0.0344</td>\n      <td>0.928</td>\n      <td>114.988</td>\n    </tr>\n    <tr>\n      <th>37</th>\n      <td>0.649</td>\n      <td>0.798</td>\n      <td>-4.346</td>\n      <td>0.1780</td>\n      <td>0.226000</td>\n      <td>0.000000</td>\n      <td>0.0711</td>\n      <td>0.857</td>\n      <td>177.899</td>\n    </tr>\n    <tr>\n      <th>38</th>\n      <td>0.789</td>\n      <td>0.716</td>\n      <td>-4.241</td>\n      <td>0.0432</td>\n      <td>0.129000</td>\n      <td>0.000011</td>\n      <td>0.0690</td>\n      <td>0.611</td>\n      <td>125.906</td>\n    </tr>\n    <tr>\n      <th>39</th>\n      <td>0.750</td>\n      <td>0.560</td>\n      <td>-8.094</td>\n      <td>0.1050</td>\n      <td>0.546000</td>\n      <td>0.000000</td>\n      <td>0.1110</td>\n      <td>0.459</td>\n      <td>140.060</td>\n    </tr>\n    <tr>\n      <th>40</th>\n      <td>0.647</td>\n      <td>0.822</td>\n      <td>-4.662</td>\n      <td>0.1830</td>\n      <td>0.219000</td>\n      <td>0.000000</td>\n      <td>0.0908</td>\n      <td>0.962</td>\n      <td>160.019</td>\n    </tr>\n    <tr>\n      <th>41</th>\n      <td>0.758</td>\n      <td>0.686</td>\n      <td>-6.346</td>\n      <td>0.0792</td>\n      <td>0.084800</td>\n      <td>0.001270</td>\n      <td>0.1420</td>\n      <td>0.444</td>\n      <td>130.007</td>\n    </tr>\n    <tr>\n      <th>42</th>\n      <td>0.747</td>\n      <td>0.716</td>\n      <td>-2.457</td>\n      <td>0.0750</td>\n      <td>0.135000</td>\n      <td>0.000000</td>\n      <td>0.2510</td>\n      <td>0.751</td>\n      <td>125.008</td>\n    </tr>\n    <tr>\n      <th>43</th>\n      <td>0.747</td>\n      <td>0.937</td>\n      <td>-5.746</td>\n      <td>0.0453</td>\n      <td>0.020800</td>\n      <td>0.000000</td>\n      <td>0.2900</td>\n      <td>0.739</td>\n      <td>103.976</td>\n    </tr>\n    <tr>\n      <th>44</th>\n      <td>0.751</td>\n      <td>0.736</td>\n      <td>-4.168</td>\n      <td>0.1560</td>\n      <td>0.020600</td>\n      <td>0.000000</td>\n      <td>0.2650</td>\n      <td>0.352</td>\n      <td>130.014</td>\n    </tr>\n    <tr>\n      <th>45</th>\n      <td>0.835</td>\n      <td>0.626</td>\n      <td>-5.833</td>\n      <td>0.1250</td>\n      <td>0.058900</td>\n      <td>0.000060</td>\n      <td>0.3960</td>\n      <td>0.350</td>\n      <td>91.030</td>\n    </tr>\n    <tr>\n      <th>46</th>\n      <td>0.617</td>\n      <td>0.635</td>\n      <td>-6.769</td>\n      <td>0.0317</td>\n      <td>0.049800</td>\n      <td>0.000014</td>\n      <td>0.1640</td>\n      <td>0.446</td>\n      <td>103.019</td>\n    </tr>\n    <tr>\n      <th>47</th>\n      <td>0.422</td>\n      <td>0.264</td>\n      <td>-7.064</td>\n      <td>0.0322</td>\n      <td>0.922000</td>\n      <td>0.000000</td>\n      <td>0.1320</td>\n      <td>0.331</td>\n      <td>119.930</td>\n    </tr>\n    <tr>\n      <th>48</th>\n      <td>0.509</td>\n      <td>0.538</td>\n      <td>-7.335</td>\n      <td>0.0572</td>\n      <td>0.385000</td>\n      <td>0.000000</td>\n      <td>0.1040</td>\n      <td>0.244</td>\n      <td>75.089</td>\n    </tr>\n    <tr>\n      <th>49</th>\n      <td>0.855</td>\n      <td>0.954</td>\n      <td>-1.190</td>\n      <td>0.2640</td>\n      <td>0.529000</td>\n      <td>0.000000</td>\n      <td>0.2050</td>\n      <td>0.668</td>\n      <td>114.635</td>\n    </tr>\n  </tbody>\n</table>\n</div>"
     },
     "metadata": {},
     "execution_count": 38
    }
   ],
   "source": [
    "import spotipy\n",
    "import pandas as pd\n",
    "from spotipy.oauth2 import SpotifyClientCredentials # To access authorised Spotify data\n",
    "import os\n",
    "from dotenv import load_dotenv\n",
    "\n",
    "load_dotenv()\n",
    "\n",
    "CLIENT_ID = os.getenv(\"MY_ID\")\n",
    "CLIENT_SECRET = os.getenv(\"MY_SECRET\")\n",
    "\n",
    "PLAYLIST_ID = '37i9dQZF1DWYJ5kmTbkZiz' # Spotify playlist id\n",
    "\n",
    "# API Login\n",
    "client_credentials_manager = SpotifyClientCredentials(client_id=CLIENT_ID, client_secret=CLIENT_SECRET)\n",
    "sp = spotipy.Spotify(client_credentials_manager=client_credentials_manager) #spotify object to access API\n",
    "\n",
    "# Getting tracks of the playlist\n",
    "tracks = sp.user_playlist_tracks(user = 'spotify', playlist_id = PLAYLIST_ID)\n",
    "tracks_uri_list = [x['track']['uri'] for x in tracks['items']]\n",
    "\n",
    "# Getting features of tracks\n",
    "features = []\n",
    "for i in tracks_uri_list:\n",
    "    features = features + sp.audio_features(i)\n",
    "\n",
    "# Creating feature dataframe\n",
    "cols_to_drop = ['id', 'analysis_url', 'key', 'time_signature', 'track_href', 'type', 'uri', 'mode', 'duration_ms']\n",
    "features_df = pd.DataFrame(features).drop(cols_to_drop, axis=1)\n",
    "features_df"
   ]
  },
  {
   "cell_type": "code",
   "execution_count": null,
   "metadata": {},
   "outputs": [],
   "source": []
  }
 ],
 "metadata": {
  "language_info": {
   "codemirror_mode": {
    "name": "ipython",
    "version": 3
   },
   "file_extension": ".py",
   "mimetype": "text/x-python",
   "name": "python",
   "nbconvert_exporter": "python",
   "pygments_lexer": "ipython3",
   "version": "3.7.7-final"
  },
  "orig_nbformat": 2,
  "kernelspec": {
   "name": "unit4-s1-nlp",
   "display_name": "U4-S1-NLP (Python3)"
  }
 },
 "nbformat": 4,
 "nbformat_minor": 2
}