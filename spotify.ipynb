{
 "cells": [
  {
   "cell_type": "code",
   "execution_count": 1,
   "metadata": {},
   "outputs": [],
   "source": [
    "import pandas as pd\n",
    "import numpy as np\n",
    "from sklearn.preprocessing import StandardScaler\n",
    "from sklearn.neighbors import NearestNeighbors\n",
    "import pickle\n",
    "\n",
    "def load_and_clean():\n",
    "    \"\"\"\n",
    "    spotify, identify = load_and_clean()\n",
    "    \"\"\"\n",
    "    spotify = pd.read_csv('SpotifyFeatures.csv')\n",
    "\n",
    "    # dataframe that serves to identify songs\n",
    "    identify = spotify[['artist_name', 'track_id', 'track_name']]\n",
    "\n",
    "    # dataframe consisting of audio features we want to train on\n",
    "    spotify = spotify.drop(columns = ['genre',\n",
    "                                    'mode',\n",
    "                                    'time_signature',\n",
    "                                    'key',\n",
    "                                    'track_id',\n",
    "                                    'artist_name',\n",
    "                                    'popularity',\n",
    "                                    'track_name',\n",
    "                                    'duration_ms',\n",
    "                                    'speechiness'])\n",
    "\n",
    "    return spotify, identify\n",
    "\n",
    "spotify, identify = load_and_clean()\n",
    "\n",
    "# spotify.to_csv('spotify.csv', index=False)\n",
    "# print(spotify.shape)\n",
    "# print(spotify.head())\n",
    "# print('-----------------')\n",
    "# print(identify.shape)\n",
    "# print(identify.head())"
   ]
  },
  {
   "cell_type": "code",
   "execution_count": 2,
   "metadata": {},
   "outputs": [
    {
     "output_type": "execute_result",
     "data": {
      "text/plain": "acousticness        0\ndanceability        0\nenergy              0\ninstrumentalness    0\nliveness            0\nloudness            0\ntempo               0\nvalence             0\ndtype: int64"
     },
     "metadata": {},
     "execution_count": 2
    }
   ],
   "source": [
    "spotify.isnull().sum(0)"
   ]
  },
  {
   "cell_type": "code",
   "execution_count": 3,
   "metadata": {},
   "outputs": [
    {
     "output_type": "execute_result",
     "data": {
      "text/plain": "   acousticness  danceability  energy  instrumentalness  liveness  loudness  \\\n0         0.611         0.389   0.910             0.000    0.3460    -1.828   \n1         0.246         0.590   0.737             0.000    0.1510    -5.559   \n2         0.952         0.663   0.131             0.000    0.1030   -13.879   \n3         0.703         0.240   0.326             0.000    0.0985   -12.178   \n4         0.950         0.331   0.225             0.123    0.2020   -21.150   \n\n     tempo  valence  \n0  166.969    0.814  \n1  174.003    0.816  \n2   99.488    0.368  \n3  171.758    0.227  \n4  140.576    0.390  ",
      "text/html": "<div>\n<style scoped>\n    .dataframe tbody tr th:only-of-type {\n        vertical-align: middle;\n    }\n\n    .dataframe tbody tr th {\n        vertical-align: top;\n    }\n\n    .dataframe thead th {\n        text-align: right;\n    }\n</style>\n<table border=\"1\" class=\"dataframe\">\n  <thead>\n    <tr style=\"text-align: right;\">\n      <th></th>\n      <th>acousticness</th>\n      <th>danceability</th>\n      <th>energy</th>\n      <th>instrumentalness</th>\n      <th>liveness</th>\n      <th>loudness</th>\n      <th>tempo</th>\n      <th>valence</th>\n    </tr>\n  </thead>\n  <tbody>\n    <tr>\n      <th>0</th>\n      <td>0.611</td>\n      <td>0.389</td>\n      <td>0.910</td>\n      <td>0.000</td>\n      <td>0.3460</td>\n      <td>-1.828</td>\n      <td>166.969</td>\n      <td>0.814</td>\n    </tr>\n    <tr>\n      <th>1</th>\n      <td>0.246</td>\n      <td>0.590</td>\n      <td>0.737</td>\n      <td>0.000</td>\n      <td>0.1510</td>\n      <td>-5.559</td>\n      <td>174.003</td>\n      <td>0.816</td>\n    </tr>\n    <tr>\n      <th>2</th>\n      <td>0.952</td>\n      <td>0.663</td>\n      <td>0.131</td>\n      <td>0.000</td>\n      <td>0.1030</td>\n      <td>-13.879</td>\n      <td>99.488</td>\n      <td>0.368</td>\n    </tr>\n    <tr>\n      <th>3</th>\n      <td>0.703</td>\n      <td>0.240</td>\n      <td>0.326</td>\n      <td>0.000</td>\n      <td>0.0985</td>\n      <td>-12.178</td>\n      <td>171.758</td>\n      <td>0.227</td>\n    </tr>\n    <tr>\n      <th>4</th>\n      <td>0.950</td>\n      <td>0.331</td>\n      <td>0.225</td>\n      <td>0.123</td>\n      <td>0.2020</td>\n      <td>-21.150</td>\n      <td>140.576</td>\n      <td>0.390</td>\n    </tr>\n  </tbody>\n</table>\n</div>"
     },
     "metadata": {},
     "execution_count": 3
    }
   ],
   "source": [
    "spotify.head()"
   ]
  },
  {
   "cell_type": "code",
   "execution_count": 7,
   "metadata": {},
   "outputs": [
    {
     "output_type": "execute_result",
     "data": {
      "text/plain": "              artist_name                track_id   track_name\n77647   Foster The People  7lVoniii4QwhNjCeHij2xZ  Worst Nites\n93170   Foster The People  7lVoniii4QwhNjCeHij2xZ  Worst Nites\n111450  Foster The People  7lVoniii4QwhNjCeHij2xZ  Worst Nites\n166863  Foster The People  7lVoniii4QwhNjCeHij2xZ  Worst Nites",
      "text/html": "<div>\n<style scoped>\n    .dataframe tbody tr th:only-of-type {\n        vertical-align: middle;\n    }\n\n    .dataframe tbody tr th {\n        vertical-align: top;\n    }\n\n    .dataframe thead th {\n        text-align: right;\n    }\n</style>\n<table border=\"1\" class=\"dataframe\">\n  <thead>\n    <tr style=\"text-align: right;\">\n      <th></th>\n      <th>artist_name</th>\n      <th>track_id</th>\n      <th>track_name</th>\n    </tr>\n  </thead>\n  <tbody>\n    <tr>\n      <th>77647</th>\n      <td>Foster The People</td>\n      <td>7lVoniii4QwhNjCeHij2xZ</td>\n      <td>Worst Nites</td>\n    </tr>\n    <tr>\n      <th>93170</th>\n      <td>Foster The People</td>\n      <td>7lVoniii4QwhNjCeHij2xZ</td>\n      <td>Worst Nites</td>\n    </tr>\n    <tr>\n      <th>111450</th>\n      <td>Foster The People</td>\n      <td>7lVoniii4QwhNjCeHij2xZ</td>\n      <td>Worst Nites</td>\n    </tr>\n    <tr>\n      <th>166863</th>\n      <td>Foster The People</td>\n      <td>7lVoniii4QwhNjCeHij2xZ</td>\n      <td>Worst Nites</td>\n    </tr>\n  </tbody>\n</table>\n</div>"
     },
     "metadata": {},
     "execution_count": 7
    }
   ],
   "source": [
    "identify[identify['track_name'] == 'Worst Nites']"
   ]
  },
  {
   "cell_type": "code",
   "execution_count": 10,
   "metadata": {},
   "outputs": [
    {
     "output_type": "execute_result",
     "data": {
      "text/plain": "[0.00834, 0.741, 0.752, 0.00165, 0.0438, -4.968, 114.02, 0.609]"
     },
     "metadata": {},
     "execution_count": 10
    }
   ],
   "source": [
    "worst_nites = spotify.iloc[77647].tolist()\n",
    "worst_nites"
   ]
  },
  {
   "cell_type": "code",
   "execution_count": 9,
   "metadata": {},
   "outputs": [
    {
     "output_type": "execute_result",
     "data": {
      "text/plain": "   acousticness  danceability  energy  instrumentalness  liveness  loudness  \\\n0         0.611         0.389   0.910             0.000    0.3460    -1.828   \n1         0.246         0.590   0.737             0.000    0.1510    -5.559   \n2         0.952         0.663   0.131             0.000    0.1030   -13.879   \n3         0.703         0.240   0.326             0.000    0.0985   -12.178   \n4         0.950         0.331   0.225             0.123    0.2020   -21.150   \n\n     tempo  valence  \n0  166.969    0.814  \n1  174.003    0.816  \n2   99.488    0.368  \n3  171.758    0.227  \n4  140.576    0.390  ",
      "text/html": "<div>\n<style scoped>\n    .dataframe tbody tr th:only-of-type {\n        vertical-align: middle;\n    }\n\n    .dataframe tbody tr th {\n        vertical-align: top;\n    }\n\n    .dataframe thead th {\n        text-align: right;\n    }\n</style>\n<table border=\"1\" class=\"dataframe\">\n  <thead>\n    <tr style=\"text-align: right;\">\n      <th></th>\n      <th>acousticness</th>\n      <th>danceability</th>\n      <th>energy</th>\n      <th>instrumentalness</th>\n      <th>liveness</th>\n      <th>loudness</th>\n      <th>tempo</th>\n      <th>valence</th>\n    </tr>\n  </thead>\n  <tbody>\n    <tr>\n      <th>0</th>\n      <td>0.611</td>\n      <td>0.389</td>\n      <td>0.910</td>\n      <td>0.000</td>\n      <td>0.3460</td>\n      <td>-1.828</td>\n      <td>166.969</td>\n      <td>0.814</td>\n    </tr>\n    <tr>\n      <th>1</th>\n      <td>0.246</td>\n      <td>0.590</td>\n      <td>0.737</td>\n      <td>0.000</td>\n      <td>0.1510</td>\n      <td>-5.559</td>\n      <td>174.003</td>\n      <td>0.816</td>\n    </tr>\n    <tr>\n      <th>2</th>\n      <td>0.952</td>\n      <td>0.663</td>\n      <td>0.131</td>\n      <td>0.000</td>\n      <td>0.1030</td>\n      <td>-13.879</td>\n      <td>99.488</td>\n      <td>0.368</td>\n    </tr>\n    <tr>\n      <th>3</th>\n      <td>0.703</td>\n      <td>0.240</td>\n      <td>0.326</td>\n      <td>0.000</td>\n      <td>0.0985</td>\n      <td>-12.178</td>\n      <td>171.758</td>\n      <td>0.227</td>\n    </tr>\n    <tr>\n      <th>4</th>\n      <td>0.950</td>\n      <td>0.331</td>\n      <td>0.225</td>\n      <td>0.123</td>\n      <td>0.2020</td>\n      <td>-21.150</td>\n      <td>140.576</td>\n      <td>0.390</td>\n    </tr>\n  </tbody>\n</table>\n</div>"
     },
     "metadata": {},
     "execution_count": 9
    }
   ],
   "source": [
    "spotify.head()"
   ]
  },
  {
   "cell_type": "code",
   "execution_count": 123,
   "metadata": {},
   "outputs": [],
   "source": [
    "from sklearn.cluster import KMeans\n",
    "import json"
   ]
  },
  {
   "cell_type": "code",
   "execution_count": 17,
   "metadata": {
    "tags": []
   },
   "outputs": [
    {
     "output_type": "stream",
     "name": "stdout",
     "text": "track_id  acousticness  danceability    energy  \\\n0  4Tfobc8QPPPKVlk7KKJpYZ      0.074866      0.016163  0.011387   \n1  66eQL4ghCuYWdcqz50BPXF      0.089523      0.172407  0.106280   \n2  6kRBYjaEtuCsPNAqoLCR34      0.051188      0.016163  0.041753   \n3  0JfAMd3xTqm7ZYhBmQjYzt      0.074020      0.086203  0.091097   \n4  4sJoIeb8zWYCLHSLM0az3b      0.102490      0.043102  0.053140   \n5  6aAHtvwGUJIIFcczWauwWc      0.104181      0.118529  0.189786   \n6  21RzyxY3EFaxVy6K4RqaU9      0.110664      0.059265  0.045549   \n7  79UX8fkSsowWI1HOd8VoYt      0.021786      0.059265  0.098689   \n8  7HjK2whApIuUgRVP8akqjk      0.012853      0.210120  0.197377   \n9  0HqkqqlMMKeyhC3I7mNV7b      0.006088      0.247834  0.068323   \n\n   instrumentalness  liveness  loudness     tempo   valence       sum  \n0          0.005450  0.179551  0.126538  0.032137  0.099975  0.546067  \n1          0.005450  0.031270  0.003001  0.129293  0.023071  0.560295  \n2          0.008819  0.283449  0.024674  0.097609  0.049988  0.573642  \n3          0.005371  0.129620  0.007836  0.034144  0.173034  0.601324  \n4          0.005450  0.045897  0.106532  0.031652  0.238402  0.626663  \n5          0.005405  0.112976  0.065186  0.094437  0.015381  0.705882  \n6          0.005138  0.052958  0.094862  0.256903  0.103820  0.729158  \n7          0.005450  0.235030  0.011170  0.197257  0.126891  0.755538  \n8          0.002517  0.091289  0.096863  0.130879  0.023071  0.764969  \n9          0.005383  0.149794  0.166384  0.034370  0.134582  0.812758  \n[{\"track_id\":\"4Tfobc8QPPPKVlk7KKJpYZ\",\"acousticness\":0.0748659804,\"danceability\":0.0161631115,\"energy\":0.0113871441,\"instrumentalness\":0.0054497224,\"liveness\":0.1795511795,\"loudness\":0.1265381566,\"tempo\":0.0321371286,\"valence\":0.0999750349,\"sum\":0.5460674581},{\"track_id\":\"66eQL4ghCuYWdcqz50BPXF\",\"acousticness\":0.0895234765,\"danceability\":0.172406523,\"energy\":0.1062800114,\"instrumentalness\":0.0054497224,\"liveness\":0.0312701492,\"loudness\":0.0030009049,\"tempo\":0.1292928788,\"valence\":0.0230711619,\"sum\":0.5602948282},{\"track_id\":\"6kRBYjaEtuCsPNAqoLCR34\",\"acousticness\":0.0511884866,\"danceability\":0.0161631115,\"energy\":0.0417528616,\"instrumentalness\":0.0088186417,\"liveness\":0.2834487722,\"loudness\":0.024674107,\"tempo\":0.0976088417,\"valence\":0.0499875175,\"sum\":0.5736423398},{\"track_id\":\"0JfAMd3xTqm7ZYhBmQjYzt\",\"acousticness\":0.0740203556,\"danceability\":0.0862032615,\"energy\":0.0910971526,\"instrumentalness\":0.005370784,\"liveness\":0.1296198122,\"loudness\":0.0078356961,\"tempo\":0.0341436764,\"valence\":0.1730337143,\"sum\":0.6013244527},{\"track_id\":\"4sJoIeb8zWYCLHSLM0az3b\",\"acousticness\":0.1024897231,\"danceability\":0.0431016307,\"energy\":0.0531400057,\"instrumentalness\":0.0054497224,\"liveness\":0.0458965094,\"loudness\":0.106532124,\"tempo\":0.0316516735,\"valence\":0.2384020063,\"sum\":0.6266633952},{\"track_id\":\"6aAHtvwGUJIIFcczWauwWc\",\"acousticness\":0.1041809727,\"danceability\":0.1185294845,\"energy\":0.1897857347,\"instrumentalness\":0.0054051338,\"liveness\":0.1129760231,\"loudness\":0.0651863231,\"tempo\":0.0944372016,\"valence\":0.0153807746,\"sum\":0.7058816481},{\"track_id\":\"21RzyxY3EFaxVy6K4RqaU9\",\"acousticness\":0.110664096,\"danceability\":0.0592647423,\"energy\":0.0455485763,\"instrumentalness\":0.0051379322,\"liveness\":0.0529575108,\"loudness\":0.0948619382,\"tempo\":0.2569028465,\"valence\":0.1038202286,\"sum\":0.729157871},{\"track_id\":\"79UX8fkSsowWI1HOd8VoYt\",\"acousticness\":0.021786113,\"danceability\":0.0592647423,\"energy\":0.098688582,\"instrumentalness\":0.0054497224,\"liveness\":0.2350304766,\"loudness\":0.0111700349,\"tempo\":0.1972565948,\"valence\":0.1268913905,\"sum\":0.7555376566},{\"track_id\":\"7HjK2whApIuUgRVP8akqjk\",\"acousticness\":0.0128534966,\"danceability\":0.2101204499,\"energy\":0.1973771641,\"instrumentalness\":0.0025167809,\"liveness\":0.0912886615,\"loudness\":0.0968625415,\"tempo\":0.1308786988,\"valence\":0.0230711619,\"sum\":0.7649689552},{\"track_id\":\"0HqkqqlMMKeyhC3I7mNV7b\",\"acousticness\":0.0060884984,\"danceability\":0.2478343768,\"energy\":0.0683228645,\"instrumentalness\":0.0053826743,\"liveness\":0.149794102,\"loudness\":0.166383505,\"tempo\":0.0343702221,\"valence\":0.1345817778,\"sum\":0.8127580209}]\n"
    }
   ],
   "source": [
    "def knn_predictor(audio_feats, k=20):\n",
    "    \"\"\"\n",
    "    similar_song_ids, visual_df = knn_predictor(audio_features)\n",
    "    \"\"\"\n",
    "    # Scale the data with standard scaler\n",
    "    scaler = StandardScaler()\n",
    "    spotify_scaled = scaler.fit_transform(spotify)\n",
    "\n",
    "    ################################################\n",
    "    audio_feats_scaled = scaler.transform([audio_feats])\n",
    "\n",
    "    ## Nearest Neighbors model\n",
    "    knn = NearestNeighbors(n_neighbors=k, algorithm='kd_tree')\n",
    "    knn.fit(spotify_scaled)\n",
    "\n",
    "    # prediction \n",
    "    prediction = knn.kneighbors(audio_feats_scaled)\n",
    "\n",
    "    # # Get the indexes of the list of similar songs\n",
    "    # if prediction[0][0][0] == 0.0:\n",
    "    #     similar_songs_index = prediction[1][0][1:].tolist()\n",
    "    # else:\n",
    "    similar_songs_index = prediction[1][0][:k].tolist()\n",
    "    \n",
    "    # Create an empty list to store simlar song names\n",
    "    similar_song_ids = []\n",
    "    similar_song_names = []\n",
    "\n",
    "    # loop over the indexes and append song names to empty list above\n",
    "    for i in similar_songs_index:\n",
    "        song_id = identify['track_id'].iloc[i]\n",
    "        similar_song_ids.append(song_id)\n",
    "        song_name = identify['track_name'].iloc[i]\n",
    "        similar_song_names.append(song_name)\n",
    "\n",
    "    #################################################\n",
    "\n",
    "    column_names = spotify.columns.tolist()\n",
    "\n",
    "    # put scaled audio features into a dataframe\n",
    "    audio_feats_scaled_df = pd.DataFrame(audio_feats_scaled, columns=column_names)\n",
    "\n",
    "    # create empty list of similar songs' features\n",
    "    similar_songs_features = []\n",
    "\n",
    "    # loop through the indexes of similar songs to get audio features for each\n",
    "    #. similar song\n",
    "    for index in similar_songs_index:\n",
    "        list_of_feats = spotify.iloc[index].tolist()\n",
    "        similar_songs_features.append(list_of_feats)\n",
    "\n",
    "    # scale the features and turn them into a dataframe\n",
    "    similar_feats_scaled = scaler.transform(similar_songs_features)\n",
    "    similar_feats_scaled_df = pd.DataFrame(similar_feats_scaled, columns=column_names)\n",
    "\n",
    "    \n",
    "\n",
    "    # get the % difference between the outputs and input songs\n",
    "    col_names = similar_feats_scaled_df.columns.to_list()\n",
    "    diff_df = pd.DataFrame(columns=col_names)\n",
    "    for i in range(k):\n",
    "        diff = abs(similar_feats_scaled_df.iloc[i] - audio_feats_scaled_df.iloc[0])\n",
    "        # print('type: ', type(similar_feats_scaled_df.iloc[i]))\n",
    "        diff_df.loc[i] = diff\n",
    "    \n",
    "    # add sums of differences \n",
    "    diff_df['sum'] = diff_df.sum(axis=1)\n",
    "    diff_df = diff_df.sort_values(by=['sum'])\n",
    "    diff_df = diff_df.reset_index(drop=True)\n",
    "\n",
    "    # add track_id to DF\n",
    "    diff_df['track_id'] = similar_song_ids\n",
    "\n",
    "    # reorder cols to have track_id as first column\n",
    "    cols = list(diff_df)\n",
    "    cols.insert(0, cols.pop(cols.index('track_id')))\n",
    "    diff_df = diff_df.loc[:, cols]\n",
    "\n",
    "    # Remove the suggestion of the same song (all 0's)\n",
    "    diff_df = diff_df[~(diff_df == 0).any(axis=1)]\n",
    "\n",
    "    # Grab only the unique 10 songs\n",
    "    diff_df = diff_df.drop_duplicates(subset=['sum'])[:10]\n",
    "\n",
    "    diff_df = diff_df.reset_index(drop=True)\n",
    "\n",
    "    print(diff_df)\n",
    "\n",
    "    return diff_df\n",
    "\n",
    "\n",
    "worst_nites = spotify.iloc[77647].tolist()\n",
    "\n",
    "test_audio_features = worst_nites\n",
    "\n",
    "diff_df = knn_predictor(test_audio_features)\n",
    "\n",
    "diff_json = diff_df.to_json(orient='records')\n",
    "\n",
    "print(diff_json)\n",
    "# print(diff_json)\n",
    "# print('-----------------')\n",
    "# print('Recommended song_ids:')\n",
    "# print(similar_song_ids)\n",
    "# print('Recommended song_names:')\n",
    "# print(similar_song_names)\n",
    "# print('-----------------')\n",
    "# print(visual_df)"
   ]
  },
  {
   "cell_type": "code",
   "execution_count": null,
   "metadata": {},
   "outputs": [],
   "source": [
    "# # create empty list for averaged features of recommended songs\n",
    "    # similar_feats_averaged = []\n",
    "\n",
    "    # # loop through columns of audio features and get average of each column for 5\n",
    "    # #. recommended songs\n",
    "    # for col in column_names:\n",
    "    #     avg = similar_feats_scaled_df[col].mean()\n",
    "    #     similar_feats_averaged.append(avg)\n",
    "    \n",
    "    # # print('Sum of means of all predicted songs: ', sum(similar_feats_averaged))\n",
    "\n",
    "    # # turn averages into 1 row dataframe\n",
    "    # similar_feats_averaged_df = pd.DataFrame([similar_feats_averaged], columns=column_names)\n",
    "\n",
    "    # # concatenate this with input songs audio features to be used for visualizing\n",
    "    # visual_df = pd.concat([audio_feats_scaled_df, similar_feats_averaged_df], ignore_index=True)\n",
    "\n",
    "    # genre_map = {'Movie': 0, 'R&B': 1, 'A Capella': 2, 'Alternative': 3, 'Country': 4, 'Dance': 5, 'Electronic': 6, 'Anime': 7, 'Folk': 8, 'Blues': 9, 'Opera': 10, 'Hip-Hop': 11,     \"Children's Music\": 12, 'Children’s Music': 12, 'Rap': 13, 'Indie': 14, 'Classical': 15, 'Pop': 16, 'Reggae': 17, 'Reggaeton': 18, 'Jazz': 19, 'Rock': 20, 'Ska': 21, 'Comedy':      22, 'Soul': 23, 'Soundtrack': 24, 'World': 25}\n",
    "\n",
    "    # spotify['genre'] = spotify['genre'].map(genre_map)"
   ]
  }
 ],
 "metadata": {
  "language_info": {
   "codemirror_mode": {
    "name": "ipython",
    "version": 3
   },
   "file_extension": ".py",
   "mimetype": "text/x-python",
   "name": "python",
   "nbconvert_exporter": "python",
   "pygments_lexer": "ipython3",
   "version": "3.7.7-final"
  },
  "orig_nbformat": 2,
  "kernelspec": {
   "name": "python3",
   "display_name": "Python 3"
  }
 },
 "nbformat": 4,
 "nbformat_minor": 2
}