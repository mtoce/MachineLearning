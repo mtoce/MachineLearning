{
 "cells": [
  {
   "cell_type": "code",
   "execution_count": 35,
   "metadata": {
    "tags": []
   },
   "outputs": [],
   "source": [
    "import pandas as pd\n",
    "import numpy as np\n",
    "from sklearn.preprocessing import StandardScaler\n",
    "from sklearn.neighbors import NearestNeighbors\n",
    "import pickle\n",
    "\n",
    "def load_and_clean():\n",
    "    \"\"\"\n",
    "    spotify, identify = load_and_clean()\n",
    "    \"\"\"\n",
    "    spotify = pd.read_csv('https://raw.githubusercontent.com/BW-pilot/MachineLearning/master/CSVs/spotify_final.csv')\n",
    "\n",
    "    # spotify = spotify.drop(columns=['genre',\n",
    "    #                                 'mode',\n",
    "    #                                 'time_signature',\n",
    "    #                                 'key',\n",
    "    #                                 'popularity',\n",
    "    #                                 'duration_ms',\n",
    "    #                                 'speechiness'])\n",
    "    # spotify.to_csv('spotify_final.csv')\n",
    "\n",
    "    # dataframe that serves to identify songs\n",
    "    identify = spotify[['artist_name', 'track_id', 'track_name']]\n",
    "\n",
    "    # identify.to_csv('identify_tracks.csv')\n",
    "\n",
    "    # dataframe consisting of audio features we want to train on\n",
    "    spotify = spotify.drop(columns = ['track_id',\n",
    "                                    'artist_name',\n",
    "                                    'track_name'])\n",
    "\n",
    "    return spotify, identify\n",
    "\n",
    "spotify, identify = load_and_clean()\n",
    "\n",
    "# spotify.to_csv('spotify.csv', index=False)\n",
    "# print(spotify.shape)\n",
    "# print(spotify.head())\n",
    "# print('-----------------')\n",
    "# print(identify.shape)\n",
    "# print(identify.head())"
   ]
  },
  {
   "cell_type": "code",
   "execution_count": 36,
   "metadata": {},
   "outputs": [
    {
     "output_type": "execute_result",
     "data": {
      "text/plain": "Unnamed: 0          0\nacousticness        0\ndanceability        0\nenergy              0\ninstrumentalness    0\nliveness            0\nloudness            0\ntempo               0\nvalence             0\ndtype: int64"
     },
     "metadata": {},
     "execution_count": 36
    }
   ],
   "source": [
    "spotify.isnull().sum(0)"
   ]
  },
  {
   "cell_type": "code",
   "execution_count": 37,
   "metadata": {},
   "outputs": [
    {
     "output_type": "execute_result",
     "data": {
      "text/plain": "   Unnamed: 0  acousticness  danceability  energy  instrumentalness  liveness  \\\n0           0         0.611         0.389   0.910             0.000    0.3460   \n1           1         0.246         0.590   0.737             0.000    0.1510   \n2           2         0.952         0.663   0.131             0.000    0.1030   \n3           3         0.703         0.240   0.326             0.000    0.0985   \n4           4         0.950         0.331   0.225             0.123    0.2020   \n\n   loudness    tempo  valence  \n0    -1.828  166.969    0.814  \n1    -5.559  174.003    0.816  \n2   -13.879   99.488    0.368  \n3   -12.178  171.758    0.227  \n4   -21.150  140.576    0.390  ",
      "text/html": "<div>\n<style scoped>\n    .dataframe tbody tr th:only-of-type {\n        vertical-align: middle;\n    }\n\n    .dataframe tbody tr th {\n        vertical-align: top;\n    }\n\n    .dataframe thead th {\n        text-align: right;\n    }\n</style>\n<table border=\"1\" class=\"dataframe\">\n  <thead>\n    <tr style=\"text-align: right;\">\n      <th></th>\n      <th>Unnamed: 0</th>\n      <th>acousticness</th>\n      <th>danceability</th>\n      <th>energy</th>\n      <th>instrumentalness</th>\n      <th>liveness</th>\n      <th>loudness</th>\n      <th>tempo</th>\n      <th>valence</th>\n    </tr>\n  </thead>\n  <tbody>\n    <tr>\n      <th>0</th>\n      <td>0</td>\n      <td>0.611</td>\n      <td>0.389</td>\n      <td>0.910</td>\n      <td>0.000</td>\n      <td>0.3460</td>\n      <td>-1.828</td>\n      <td>166.969</td>\n      <td>0.814</td>\n    </tr>\n    <tr>\n      <th>1</th>\n      <td>1</td>\n      <td>0.246</td>\n      <td>0.590</td>\n      <td>0.737</td>\n      <td>0.000</td>\n      <td>0.1510</td>\n      <td>-5.559</td>\n      <td>174.003</td>\n      <td>0.816</td>\n    </tr>\n    <tr>\n      <th>2</th>\n      <td>2</td>\n      <td>0.952</td>\n      <td>0.663</td>\n      <td>0.131</td>\n      <td>0.000</td>\n      <td>0.1030</td>\n      <td>-13.879</td>\n      <td>99.488</td>\n      <td>0.368</td>\n    </tr>\n    <tr>\n      <th>3</th>\n      <td>3</td>\n      <td>0.703</td>\n      <td>0.240</td>\n      <td>0.326</td>\n      <td>0.000</td>\n      <td>0.0985</td>\n      <td>-12.178</td>\n      <td>171.758</td>\n      <td>0.227</td>\n    </tr>\n    <tr>\n      <th>4</th>\n      <td>4</td>\n      <td>0.950</td>\n      <td>0.331</td>\n      <td>0.225</td>\n      <td>0.123</td>\n      <td>0.2020</td>\n      <td>-21.150</td>\n      <td>140.576</td>\n      <td>0.390</td>\n    </tr>\n  </tbody>\n</table>\n</div>"
     },
     "metadata": {},
     "execution_count": 37
    }
   ],
   "source": [
    "spotify.head()"
   ]
  },
  {
   "cell_type": "code",
   "execution_count": null,
   "metadata": {},
   "outputs": [],
   "source": []
  },
  {
   "cell_type": "code",
   "execution_count": 16,
   "metadata": {},
   "outputs": [
    {
     "output_type": "execute_result",
     "data": {
      "text/plain": "              artist_name                track_id   track_name\n77647   Foster The People  7lVoniii4QwhNjCeHij2xZ  Worst Nites\n93170   Foster The People  7lVoniii4QwhNjCeHij2xZ  Worst Nites\n111450  Foster The People  7lVoniii4QwhNjCeHij2xZ  Worst Nites\n166863  Foster The People  7lVoniii4QwhNjCeHij2xZ  Worst Nites",
      "text/html": "<div>\n<style scoped>\n    .dataframe tbody tr th:only-of-type {\n        vertical-align: middle;\n    }\n\n    .dataframe tbody tr th {\n        vertical-align: top;\n    }\n\n    .dataframe thead th {\n        text-align: right;\n    }\n</style>\n<table border=\"1\" class=\"dataframe\">\n  <thead>\n    <tr style=\"text-align: right;\">\n      <th></th>\n      <th>artist_name</th>\n      <th>track_id</th>\n      <th>track_name</th>\n    </tr>\n  </thead>\n  <tbody>\n    <tr>\n      <th>77647</th>\n      <td>Foster The People</td>\n      <td>7lVoniii4QwhNjCeHij2xZ</td>\n      <td>Worst Nites</td>\n    </tr>\n    <tr>\n      <th>93170</th>\n      <td>Foster The People</td>\n      <td>7lVoniii4QwhNjCeHij2xZ</td>\n      <td>Worst Nites</td>\n    </tr>\n    <tr>\n      <th>111450</th>\n      <td>Foster The People</td>\n      <td>7lVoniii4QwhNjCeHij2xZ</td>\n      <td>Worst Nites</td>\n    </tr>\n    <tr>\n      <th>166863</th>\n      <td>Foster The People</td>\n      <td>7lVoniii4QwhNjCeHij2xZ</td>\n      <td>Worst Nites</td>\n    </tr>\n  </tbody>\n</table>\n</div>"
     },
     "metadata": {},
     "execution_count": 16
    }
   ],
   "source": [
    "identify[identify['track_name'] == 'Worst Nites']"
   ]
  },
  {
   "cell_type": "code",
   "execution_count": 17,
   "metadata": {},
   "outputs": [
    {
     "output_type": "execute_result",
     "data": {
      "text/plain": "[77647.0, 0.00834, 0.741, 0.752, 0.00165, 0.0438, -4.968, 114.02, 0.609]"
     },
     "metadata": {},
     "execution_count": 17
    }
   ],
   "source": [
    "worst_nites = spotify.iloc[77647].tolist()\n",
    "worst_nites"
   ]
  },
  {
   "cell_type": "code",
   "execution_count": 18,
   "metadata": {},
   "outputs": [
    {
     "output_type": "execute_result",
     "data": {
      "text/plain": "   Unnamed: 0  acousticness  danceability  energy  instrumentalness  liveness  \\\n0           0         0.611         0.389   0.910             0.000    0.3460   \n1           1         0.246         0.590   0.737             0.000    0.1510   \n2           2         0.952         0.663   0.131             0.000    0.1030   \n3           3         0.703         0.240   0.326             0.000    0.0985   \n4           4         0.950         0.331   0.225             0.123    0.2020   \n\n   loudness    tempo  valence  \n0    -1.828  166.969    0.814  \n1    -5.559  174.003    0.816  \n2   -13.879   99.488    0.368  \n3   -12.178  171.758    0.227  \n4   -21.150  140.576    0.390  ",
      "text/html": "<div>\n<style scoped>\n    .dataframe tbody tr th:only-of-type {\n        vertical-align: middle;\n    }\n\n    .dataframe tbody tr th {\n        vertical-align: top;\n    }\n\n    .dataframe thead th {\n        text-align: right;\n    }\n</style>\n<table border=\"1\" class=\"dataframe\">\n  <thead>\n    <tr style=\"text-align: right;\">\n      <th></th>\n      <th>Unnamed: 0</th>\n      <th>acousticness</th>\n      <th>danceability</th>\n      <th>energy</th>\n      <th>instrumentalness</th>\n      <th>liveness</th>\n      <th>loudness</th>\n      <th>tempo</th>\n      <th>valence</th>\n    </tr>\n  </thead>\n  <tbody>\n    <tr>\n      <th>0</th>\n      <td>0</td>\n      <td>0.611</td>\n      <td>0.389</td>\n      <td>0.910</td>\n      <td>0.000</td>\n      <td>0.3460</td>\n      <td>-1.828</td>\n      <td>166.969</td>\n      <td>0.814</td>\n    </tr>\n    <tr>\n      <th>1</th>\n      <td>1</td>\n      <td>0.246</td>\n      <td>0.590</td>\n      <td>0.737</td>\n      <td>0.000</td>\n      <td>0.1510</td>\n      <td>-5.559</td>\n      <td>174.003</td>\n      <td>0.816</td>\n    </tr>\n    <tr>\n      <th>2</th>\n      <td>2</td>\n      <td>0.952</td>\n      <td>0.663</td>\n      <td>0.131</td>\n      <td>0.000</td>\n      <td>0.1030</td>\n      <td>-13.879</td>\n      <td>99.488</td>\n      <td>0.368</td>\n    </tr>\n    <tr>\n      <th>3</th>\n      <td>3</td>\n      <td>0.703</td>\n      <td>0.240</td>\n      <td>0.326</td>\n      <td>0.000</td>\n      <td>0.0985</td>\n      <td>-12.178</td>\n      <td>171.758</td>\n      <td>0.227</td>\n    </tr>\n    <tr>\n      <th>4</th>\n      <td>4</td>\n      <td>0.950</td>\n      <td>0.331</td>\n      <td>0.225</td>\n      <td>0.123</td>\n      <td>0.2020</td>\n      <td>-21.150</td>\n      <td>140.576</td>\n      <td>0.390</td>\n    </tr>\n  </tbody>\n</table>\n</div>"
     },
     "metadata": {},
     "execution_count": 18
    }
   ],
   "source": [
    "spotify.head()"
   ]
  },
  {
   "cell_type": "code",
   "execution_count": 19,
   "metadata": {
    "tags": []
   },
   "outputs": [
    {
     "output_type": "stream",
     "name": "stdout",
     "text": "(232725, 9)\n"
    }
   ],
   "source": [
    "print(spotify.shape)"
   ]
  },
  {
   "cell_type": "code",
   "execution_count": 27,
   "metadata": {
    "tags": []
   },
   "outputs": [
    {
     "output_type": "stream",
     "name": "stdout",
     "text": "Index(['track_id', 'Unnamed: 0', 'acousticness', 'danceability', 'energy',\n       'instrumentalness', 'liveness', 'loudness', 'tempo', 'valence', 'sum'],\n      dtype='object')\n                 track_id  Unnamed: 0  acousticness  danceability    energy  \\\n0  0HqkqqlMMKeyhC3I7mNV7b    0.126522      0.074866      0.016163  0.011387   \n1  6vSq5q5DCs1IvwKIq53hj2    0.252821      0.036813      0.070040  0.049344   \n2  6ayTAnEwP3Yo4DOjLsN5r2    0.245215      0.021786      0.059265  0.098689   \n3  2BhkQtorT9Vka8GLUzUeH4    0.087479      0.157455      0.037714  0.394754   \n4  2GHkACm48ILzrwW6NoWsnL    0.018755      0.020182      0.177794  0.068323   \n5  0PGxTaUcMggyJxTyLy0uOx    0.130630      0.039350      0.032326  0.113871   \n6  1FK0sZfZzCAIDUn7htCemp    0.176923      0.034840      0.086203  0.155624   \n7  7lVoniii4QwhNjCeHij2xZ    0.092689      0.017927      0.167019  0.037957   \n8  6vSq5q5DCs1IvwKIq53hj2    0.085321      0.045551      0.290936  0.254313   \n9  5KNoyjCDbXVPhzAX3CZsnC    0.248415      0.008541      0.145468  0.265700   \n\n   instrumentalness  liveness  loudness     tempo   valence       sum  \n0          0.005450  0.179551  0.126538  0.032137  0.099975  0.672590  \n1          0.005428  0.354059  0.036344  0.033140  0.138427  0.976417  \n2          0.005450  0.235030  0.011170  0.197257  0.126891  1.000752  \n3          0.003881  0.002017  0.062686  0.032590  0.234557  1.013133  \n4          0.005393  0.249657  0.261412  0.129487  0.115356  1.046359  \n5          0.005450  0.234022  0.107032  0.000971  0.415281  1.078933  \n6          0.005349  0.333884  0.120870  0.032169  0.153808  1.099671  \n7          0.005450  0.067584  0.292255  0.355353  0.096130  1.132363  \n8          0.068204  0.023705  0.120203  0.194020  0.053833  1.136085  \n9          0.005450  0.313710  0.018672  0.128322  0.042297  1.176575  \n[{\"track_id\":\"0HqkqqlMMKeyhC3I7mNV7b\",\"Unnamed: 0\":0.1265221344,\"acousticness\":0.0748659804,\"danceability\":0.0161631115,\"energy\":0.0113871441,\"instrumentalness\":0.0054497224,\"liveness\":0.1795511795,\"loudness\":0.1265381566,\"tempo\":0.0321371286,\"valence\":0.0999750349,\"sum\":0.6725895925},{\"track_id\":\"6vSq5q5DCs1IvwKIq53hj2\",\"Unnamed: 0\":0.2528209945,\"acousticness\":0.0368128654,\"danceability\":0.07004015,\"energy\":0.049344291,\"instrumentalness\":0.0054280557,\"liveness\":0.3540587866,\"loudness\":0.0363442927,\"tempo\":0.0331404025,\"valence\":0.1384269714,\"sum\":0.9764168096},{\"track_id\":\"6ayTAnEwP3Yo4DOjLsN5r2\",\"Unnamed: 0\":0.2452147814,\"acousticness\":0.021786113,\"danceability\":0.0592647423,\"energy\":0.098688582,\"instrumentalness\":0.0054497224,\"liveness\":0.2350304766,\"loudness\":0.0111700349,\"tempo\":0.1972565948,\"valence\":0.1268913905,\"sum\":1.000752438},{\"track_id\":\"2BhkQtorT9Vka8GLUzUeH4\",\"Unnamed: 0\":0.0874788922,\"acousticness\":0.1574553337,\"danceability\":0.0377139269,\"energy\":0.3947543281,\"instrumentalness\":0.0038808629,\"liveness\":0.002017429,\"loudness\":0.062685569,\"tempo\":0.03259022,\"valence\":0.2345568127,\"sum\":1.0131333746},{\"track_id\":\"2GHkACm48ILzrwW6NoWsnL\",\"Unnamed: 0\":0.0187550458,\"acousticness\":0.0201822447,\"danceability\":0.1777942268,\"energy\":0.0683228645,\"instrumentalness\":0.0053932435,\"liveness\":0.2496568367,\"loudness\":0.2614121602,\"tempo\":0.1294870608,\"valence\":0.1153558095,\"sum\":1.0463594926},{\"track_id\":\"0PGxTaUcMggyJxTyLy0uOx\",\"Unnamed: 0\":0.1306303825,\"acousticness\":0.0393497397,\"danceability\":0.0323262231,\"energy\":0.1138714408,\"instrumentalness\":0.0054497224,\"liveness\":0.2340217621,\"loudness\":0.1070322748,\"tempo\":0.0009709102,\"valence\":0.4152809143,\"sum\":1.0789333699},{\"track_id\":\"1FK0sZfZzCAIDUn7htCemp\",\"Unnamed: 0\":0.1769225988,\"acousticness\":0.0348397409,\"danceability\":0.0862032615,\"energy\":0.1556243024,\"instrumentalness\":0.0053493154,\"liveness\":0.3338844968,\"loudness\":0.1208697807,\"tempo\":0.0321694922,\"valence\":0.153807746,\"sum\":1.0996707347},{\"track_id\":\"7lVoniii4QwhNjCeHij2xZ\",\"Unnamed: 0\":0.0926886272,\"acousticness\":0.0179272453,\"danceability\":0.1670188191,\"energy\":0.0379571469,\"instrumentalness\":0.0054497224,\"liveness\":0.067583871,\"loudness\":0.2922547939,\"tempo\":0.3553531437,\"valence\":0.0961298413,\"sum\":1.1323632108},{\"track_id\":\"6vSq5q5DCs1IvwKIq53hj2\",\"Unnamed: 0\":0.0853205735,\"acousticness\":0.0455509881,\"danceability\":0.2909360075,\"energy\":0.2543128845,\"instrumentalness\":0.0682041019,\"liveness\":0.0237047906,\"loudness\":0.120202913,\"tempo\":0.1940202274,\"valence\":0.0538327111,\"sum\":1.1360851974},{\"track_id\":\"5KNoyjCDbXVPhzAX3CZsnC\",\"Unnamed: 0\":0.2484150472,\"acousticness\":0.0085408103,\"danceability\":0.1454680038,\"energy\":0.2657000286,\"instrumentalness\":0.0054497224,\"liveness\":0.313710207,\"loudness\":0.0186722972,\"tempo\":0.1283219686,\"valence\":0.0422971302,\"sum\":1.176575215}]\n"
    }
   ],
   "source": [
    "def nn_predictor(audio_feats, k=25):\n",
    "    \"\"\"\n",
    "    similar_song_ids, visual_df = knn_predictor(audio_features)\n",
    "    \"\"\"\n",
    "    # Scale the data with standard scaler\n",
    "    scaler = StandardScaler()\n",
    "    spotify_scaled = scaler.fit_transform(spotify)\n",
    "\n",
    "    ################################################\n",
    "    audio_feats_scaled = scaler.transform([audio_feats])\n",
    "\n",
    "    ## Nearest Neighbors model\n",
    "    nn = NearestNeighbors(n_neighbors=k, algorithm='kd_tree')\n",
    "    nn.fit(spotify_scaled)\n",
    "    \n",
    "    # prediction\n",
    "    prediction = nn.kneighbors(audio_feats_scaled)\n",
    "    \n",
    "    \n",
    "    # # Get the indexes of the list of similar songs\n",
    "    # if prediction[0][0][0] == 0.0:\n",
    "    #     similar_songs_index = prediction[1][0][1:].tolist()\n",
    "    # else:\n",
    "    similar_songs_index = prediction[1][0][:k].tolist()\n",
    "    \n",
    "    # Create an empty list to store simlar song names\n",
    "    similar_song_ids = []\n",
    "    similar_song_names = []\n",
    "\n",
    "    # loop over the indexes and append song names to empty list above\n",
    "    for i in similar_songs_index:\n",
    "        song_id = identify['track_id'].iloc[i]\n",
    "        similar_song_ids.append(song_id)\n",
    "        song_name = identify['track_name'].iloc[i]\n",
    "        similar_song_names.append(song_name)\n",
    "\n",
    "    #################################################\n",
    "\n",
    "    column_names = spotify.columns.tolist()\n",
    "\n",
    "    # put scaled audio features into a dataframe\n",
    "    audio_feats_scaled_df = pd.DataFrame(audio_feats_scaled, columns=column_names)\n",
    "\n",
    "    # create empty list of similar songs' features\n",
    "    similar_songs_features = []\n",
    "\n",
    "    # loop through the indexes of similar songs to get audio features for each\n",
    "    #. similar song\n",
    "    for index in similar_songs_index:\n",
    "        list_of_feats = spotify.iloc[index].tolist()\n",
    "        similar_songs_features.append(list_of_feats)\n",
    "\n",
    "    # scale the features and turn them into a dataframe\n",
    "    similar_feats_scaled = scaler.transform(similar_songs_features)\n",
    "    similar_feats_scaled_df = pd.DataFrame(similar_feats_scaled, columns=column_names)\n",
    "\n",
    "    \n",
    "\n",
    "    # get the % difference between the outputs and input songs\n",
    "    col_names = similar_feats_scaled_df.columns.to_list()\n",
    "    diff_df = pd.DataFrame(columns=col_names)\n",
    "    for i in range(k):\n",
    "        diff = abs(similar_feats_scaled_df.iloc[i] - audio_feats_scaled_df.iloc[0])\n",
    "        # print('type: ', type(similar_feats_scaled_df.iloc[i]))\n",
    "        diff_df.loc[i] = diff\n",
    "    \n",
    "    # add sums of differences \n",
    "    diff_df['sum'] = diff_df.sum(axis=1)\n",
    "    diff_df = diff_df.sort_values(by=['sum'])\n",
    "    diff_df = diff_df.reset_index(drop=True)\n",
    "\n",
    "    # add track_id to DF\n",
    "    diff_df['track_id'] = similar_song_ids\n",
    "\n",
    "    # reorder cols to have track_id as first column\n",
    "    cols = list(diff_df)\n",
    "    cols.insert(0, cols.pop(cols.index('track_id')))\n",
    "    diff_df = diff_df.loc[:, cols]\n",
    "\n",
    "    # Remove the suggestion of the same song (all 0's)\n",
    "    diff_df = diff_df[~(diff_df == 0).any(axis=1)]\n",
    "\n",
    "    # Grab only the unique 10 songs\n",
    "    diff_df = diff_df.drop_duplicates(subset=['sum'])[:10]\n",
    "\n",
    "    diff_df = diff_df.reset_index(drop=True)\n",
    "\n",
    "    # print(diff_df)\n",
    "\n",
    "    return diff_df\n",
    "\n",
    "\n",
    "worst_nites = spotify.iloc[77647].tolist()\n",
    "wn_id = identify.iloc[77647]\n",
    "worst_nites_json = wn_id.to_json(orient='records')\n",
    "# print(worst_nites_json)\n",
    "test_audio_features = worst_nites\n",
    "\n",
    "diff_df = nn_predictor(test_audio_features)\n",
    "print(diff_df.columns)\n",
    "print(diff_df)\n",
    "\n",
    "diff_json = diff_df.to_json(orient='records')\n",
    "\n",
    "print(diff_json)\n",
    "# print(diff_json)\n",
    "# print('-----------------')\n",
    "# print('Recommended song_ids:')\n",
    "# print(similar_song_ids)\n",
    "# print('Recommended song_names:')\n",
    "# print(similar_song_names)\n",
    "# print('-----------------')\n",
    "# print(visual_df)"
   ]
  },
  {
   "cell_type": "code",
   "execution_count": 21,
   "metadata": {},
   "outputs": [],
   "source": [
    "# # create empty list for averaged features of recommended songs\n",
    "    # similar_feats_averaged = []\n",
    "\n",
    "    # # loop through columns of audio features and get average of each column for 5\n",
    "    # #. recommended songs\n",
    "    # for col in column_names:\n",
    "    #     avg = similar_feats_scaled_df[col].mean()\n",
    "    #     similar_feats_averaged.append(avg)\n",
    "    \n",
    "    # # print('Sum of means of all predicted songs: ', sum(similar_feats_averaged))\n",
    "\n",
    "    # # turn averages into 1 row dataframe\n",
    "    # similar_feats_averaged_df = pd.DataFrame([similar_feats_averaged], columns=column_names)\n",
    "\n",
    "    # # concatenate this with input songs audio features to be used for visualizing\n",
    "    # visual_df = pd.concat([audio_feats_scaled_df, similar_feats_averaged_df], ignore_index=True)\n",
    "\n",
    "    # genre_map = {'Movie': 0, 'R&B': 1, 'A Capella': 2, 'Alternative': 3, 'Country': 4, 'Dance': 5, 'Electronic': 6, 'Anime': 7, 'Folk': 8, 'Blues': 9, 'Opera': 10, 'Hip-Hop': 11,     \"Children's Music\": 12, 'Children’s Music': 12, 'Rap': 13, 'Indie': 14, 'Classical': 15, 'Pop': 16, 'Reggae': 17, 'Reggaeton': 18, 'Jazz': 19, 'Rock': 20, 'Ska': 21, 'Comedy':      22, 'Soul': 23, 'Soundtrack': 24, 'World': 25}\n",
    "\n",
    "    # spotify['genre'] = spotify['genre'].map(genre_map)"
   ]
  },
  {
   "cell_type": "code",
   "execution_count": 22,
   "metadata": {},
   "outputs": [],
   "source": [
    "from sklearn.cluster import KMeans\n",
    "from sklearn.model_selection import train_test_split\n",
    "%matplotlib inline\n",
    "import matplotlib.pyplot as plt\n",
    "import seaborn as sns; sns.set()  # for plot styling"
   ]
  },
  {
   "cell_type": "markdown",
   "metadata": {},
   "source": [
    "## Using a Neural Network"
   ]
  },
  {
   "cell_type": "code",
   "execution_count": 34,
   "metadata": {},
   "outputs": [
    {
     "output_type": "execute_result",
     "data": {
      "text/plain": "   Unnamed: 0        artist_name                        track_name  \\\n0           0     Henri Salvador       C'est beau de faire un Show   \n1           1  Martin & les fées  Perdu d'avance (par Gad Elmaleh)   \n2           2    Joseph Williams    Don't Let Me Be Lonely Tonight   \n3           3     Henri Salvador    Dis-moi Monsieur Gordon Cooper   \n4           4       Fabien Nataf                         Ouverture   \n\n                 track_id  acousticness  danceability  energy  \\\n0  0BRjO6ga9RKCKjfDqeFgWV         0.611         0.389   0.910   \n1  0BjC1NfoEOOusryehmNudP         0.246         0.590   0.737   \n2  0CoSDzoNIKCRs124s9uTVy         0.952         0.663   0.131   \n3  0Gc6TVm52BwZD07Ki6tIvf         0.703         0.240   0.326   \n4  0IuslXpMROHdEPvSl1fTQK         0.950         0.331   0.225   \n\n   instrumentalness  liveness  loudness    tempo  valence  \n0             0.000    0.3460    -1.828  166.969    0.814  \n1             0.000    0.1510    -5.559  174.003    0.816  \n2             0.000    0.1030   -13.879   99.488    0.368  \n3             0.000    0.0985   -12.178  171.758    0.227  \n4             0.123    0.2020   -21.150  140.576    0.390  ",
      "text/html": "<div>\n<style scoped>\n    .dataframe tbody tr th:only-of-type {\n        vertical-align: middle;\n    }\n\n    .dataframe tbody tr th {\n        vertical-align: top;\n    }\n\n    .dataframe thead th {\n        text-align: right;\n    }\n</style>\n<table border=\"1\" class=\"dataframe\">\n  <thead>\n    <tr style=\"text-align: right;\">\n      <th></th>\n      <th>Unnamed: 0</th>\n      <th>artist_name</th>\n      <th>track_name</th>\n      <th>track_id</th>\n      <th>acousticness</th>\n      <th>danceability</th>\n      <th>energy</th>\n      <th>instrumentalness</th>\n      <th>liveness</th>\n      <th>loudness</th>\n      <th>tempo</th>\n      <th>valence</th>\n    </tr>\n  </thead>\n  <tbody>\n    <tr>\n      <th>0</th>\n      <td>0</td>\n      <td>Henri Salvador</td>\n      <td>C'est beau de faire un Show</td>\n      <td>0BRjO6ga9RKCKjfDqeFgWV</td>\n      <td>0.611</td>\n      <td>0.389</td>\n      <td>0.910</td>\n      <td>0.000</td>\n      <td>0.3460</td>\n      <td>-1.828</td>\n      <td>166.969</td>\n      <td>0.814</td>\n    </tr>\n    <tr>\n      <th>1</th>\n      <td>1</td>\n      <td>Martin &amp; les fées</td>\n      <td>Perdu d'avance (par Gad Elmaleh)</td>\n      <td>0BjC1NfoEOOusryehmNudP</td>\n      <td>0.246</td>\n      <td>0.590</td>\n      <td>0.737</td>\n      <td>0.000</td>\n      <td>0.1510</td>\n      <td>-5.559</td>\n      <td>174.003</td>\n      <td>0.816</td>\n    </tr>\n    <tr>\n      <th>2</th>\n      <td>2</td>\n      <td>Joseph Williams</td>\n      <td>Don't Let Me Be Lonely Tonight</td>\n      <td>0CoSDzoNIKCRs124s9uTVy</td>\n      <td>0.952</td>\n      <td>0.663</td>\n      <td>0.131</td>\n      <td>0.000</td>\n      <td>0.1030</td>\n      <td>-13.879</td>\n      <td>99.488</td>\n      <td>0.368</td>\n    </tr>\n    <tr>\n      <th>3</th>\n      <td>3</td>\n      <td>Henri Salvador</td>\n      <td>Dis-moi Monsieur Gordon Cooper</td>\n      <td>0Gc6TVm52BwZD07Ki6tIvf</td>\n      <td>0.703</td>\n      <td>0.240</td>\n      <td>0.326</td>\n      <td>0.000</td>\n      <td>0.0985</td>\n      <td>-12.178</td>\n      <td>171.758</td>\n      <td>0.227</td>\n    </tr>\n    <tr>\n      <th>4</th>\n      <td>4</td>\n      <td>Fabien Nataf</td>\n      <td>Ouverture</td>\n      <td>0IuslXpMROHdEPvSl1fTQK</td>\n      <td>0.950</td>\n      <td>0.331</td>\n      <td>0.225</td>\n      <td>0.123</td>\n      <td>0.2020</td>\n      <td>-21.150</td>\n      <td>140.576</td>\n      <td>0.390</td>\n    </tr>\n  </tbody>\n</table>\n</div>"
     },
     "metadata": {},
     "execution_count": 34
    }
   ],
   "source": [
    "spotify = pd.read_csv('https://raw.githubusercontent.com/BW-pilot/MachineLearning/master/CSVs/spotify_final.csv')\n",
    "spotify.head()"
   ]
  },
  {
   "cell_type": "code",
   "execution_count": 32,
   "metadata": {
    "tags": []
   },
   "outputs": [
    {
     "output_type": "stream",
     "name": "stderr",
     "text": "ERROR:root:Internal Python error in the inspect module.\nBelow is the traceback from this internal error.\n\nERROR:root:Internal Python error in the inspect module.\nBelow is the traceback from this internal error.\n\nERROR:root:Internal Python error in the inspect module.\nBelow is the traceback from this internal error.\n\n   Unnamed: 0        artist_name                        track_name  \\\n0           0     Henri Salvador       C'est beau de faire un Show   \n1           1  Martin & les fées  Perdu d'avance (par Gad Elmaleh)   \n2           2    Joseph Williams    Don't Let Me Be Lonely Tonight   \n3           3     Henri Salvador    Dis-moi Monsieur Gordon Cooper   \n4           4       Fabien Nataf                         Ouverture   \n\n                 track_id  acousticness  danceability  energy  \\\n0  0BRjO6ga9RKCKjfDqeFgWV         0.611         0.389   0.910   \n1  0BjC1NfoEOOusryehmNudP         0.246         0.590   0.737   \n2  0CoSDzoNIKCRs124s9uTVy         0.952         0.663   0.131   \n3  0Gc6TVm52BwZD07Ki6tIvf         0.703         0.240   0.326   \n4  0IuslXpMROHdEPvSl1fTQK         0.950         0.331   0.225   \n\n   instrumentalness  liveness  loudness    tempo  valence  \n0             0.000    0.3460    -1.828  166.969    0.814  \n1             0.000    0.1510    -5.559  174.003    0.816  \n2             0.000    0.1030   -13.879   99.488    0.368  \n3             0.000    0.0985   -12.178  171.758    0.227  \n4             0.123    0.2020   -21.150  140.576    0.390  \nTraceback (most recent call last):\n  File \"C:\\Users\\Mike\\anaconda3\\envs\\unit4\\lib\\site-packages\\pandas\\core\\indexes\\base.py\", line 2646, in get_loc\n    return self._engine.get_loc(key)\n  File \"pandas\\_libs\\index.pyx\", line 111, in pandas._libs.index.IndexEngine.get_loc\n  File \"pandas\\_libs\\index.pyx\", line 138, in pandas._libs.index.IndexEngine.get_loc\n  File \"pandas\\_libs\\hashtable_class_helper.pxi\", line 1619, in pandas._libs.hashtable.PyObjectHashTable.get_item\n  File \"pandas\\_libs\\hashtable_class_helper.pxi\", line 1627, in pandas._libs.hashtable.PyObjectHashTable.get_item\nKeyError: 'id'\n\nDuring handling of the above exception, another exception occurred:\n\nTraceback (most recent call last):\n  File \"C:\\Users\\Mike\\anaconda3\\envs\\unit4\\lib\\site-packages\\IPython\\core\\interactiveshell.py\", line 3331, in run_code\n    exec(code_obj, self.user_global_ns, self.user_ns)\n  File \"<ipython-input-32-7a493277df56>\", line 73, in <module>\n    results_1 = get_results(spotify.iloc[0], spotify, amount=5)\n  File \"<ipython-input-32-7a493277df56>\", line 52, in get_results\n    ids = features['id']\n  File \"C:\\Users\\Mike\\anaconda3\\envs\\unit4\\lib\\site-packages\\pandas\\core\\frame.py\", line 2800, in __getitem__\n    indexer = self.columns.get_loc(key)\n  File \"C:\\Users\\Mike\\anaconda3\\envs\\unit4\\lib\\site-packages\\pandas\\core\\indexes\\base.py\", line 2648, in get_loc\n    return self._engine.get_loc(self._maybe_cast_indexer(key))\n  File \"pandas\\_libs\\index.pyx\", line 111, in pandas._libs.index.IndexEngine.get_loc\n  File \"pandas\\_libs\\index.pyx\", line 138, in pandas._libs.index.IndexEngine.get_loc\n  File \"pandas\\_libs\\hashtable_class_helper.pxi\", line 1619, in pandas._libs.hashtable.PyObjectHashTable.get_item\n  File \"pandas\\_libs\\hashtable_class_helper.pxi\", line 1627, in pandas._libs.hashtable.PyObjectHashTable.get_item\nKeyError: 'id'\n\nDuring handling of the above exception, another exception occurred:\n\nTraceback (most recent call last):\n  File \"C:\\Users\\Mike\\anaconda3\\envs\\unit4\\lib\\site-packages\\IPython\\core\\interactiveshell.py\", line 2044, in showtraceback\n    stb = value._render_traceback_()\nAttributeError: 'KeyError' object has no attribute '_render_traceback_'\n\nDuring handling of the above exception, another exception occurred:\n\nTraceback (most recent call last):\n  File \"C:\\Users\\Mike\\anaconda3\\envs\\unit4\\lib\\site-packages\\IPython\\core\\ultratb.py\", line 1148, in get_records\n    return _fixed_getinnerframes(etb, number_of_lines_of_context, tb_offset)\n  File \"C:\\Users\\Mike\\anaconda3\\envs\\unit4\\lib\\site-packages\\IPython\\core\\ultratb.py\", line 316, in wrapped\n    return f(*args, **kwargs)\n  File \"C:\\Users\\Mike\\anaconda3\\envs\\unit4\\lib\\site-packages\\IPython\\core\\ultratb.py\", line 350, in _fixed_getinnerframes\n    records = fix_frame_records_filenames(inspect.getinnerframes(etb, context))\n  File \"C:\\Users\\Mike\\anaconda3\\envs\\unit4\\lib\\inspect.py\", line 1502, in getinnerframes\n    frameinfo = (tb.tb_frame,) + getframeinfo(tb, context)\n  File \"C:\\Users\\Mike\\anaconda3\\envs\\unit4\\lib\\inspect.py\", line 1460, in getframeinfo\n    filename = getsourcefile(frame) or getfile(frame)\n  File \"C:\\Users\\Mike\\anaconda3\\envs\\unit4\\lib\\inspect.py\", line 696, in getsourcefile\n    if getattr(getmodule(object, filename), '__loader__', None) is not None:\n  File \"C:\\Users\\Mike\\anaconda3\\envs\\unit4\\lib\\inspect.py\", line 733, in getmodule\n    if ismodule(module) and hasattr(module, '__file__'):\n  File \"C:\\Users\\Mike\\anaconda3\\envs\\unit4\\lib\\site-packages\\tensorflow\\__init__.py\", line 50, in __getattr__\n    module = self._load()\n  File \"C:\\Users\\Mike\\anaconda3\\envs\\unit4\\lib\\site-packages\\tensorflow\\__init__.py\", line 44, in _load\n    module = _importlib.import_module(self.__name__)\n  File \"C:\\Users\\Mike\\anaconda3\\envs\\unit4\\lib\\importlib\\__init__.py\", line 127, in import_module\n    return _bootstrap._gcd_import(name[level:], package, level)\n  File \"<frozen importlib._bootstrap>\", line 1006, in _gcd_import\n  File \"<frozen importlib._bootstrap>\", line 983, in _find_and_load\n  File \"<frozen importlib._bootstrap>\", line 965, in _find_and_load_unlocked\nModuleNotFoundError: No module named 'tensorflow_core.estimator'\nTraceback (most recent call last):\n  File \"C:\\Users\\Mike\\anaconda3\\envs\\unit4\\lib\\site-packages\\pandas\\core\\indexes\\base.py\", line 2646, in get_loc\n    return self._engine.get_loc(key)\n  File \"pandas\\_libs\\index.pyx\", line 111, in pandas._libs.index.IndexEngine.get_loc\n  File \"pandas\\_libs\\index.pyx\", line 138, in pandas._libs.index.IndexEngine.get_loc\n  File \"pandas\\_libs\\hashtable_class_helper.pxi\", line 1619, in pandas._libs.hashtable.PyObjectHashTable.get_item\n  File \"pandas\\_libs\\hashtable_class_helper.pxi\", line 1627, in pandas._libs.hashtable.PyObjectHashTable.get_item\nKeyError: 'id'\n\nDuring handling of the above exception, another exception occurred:\n\nTraceback (most recent call last):\n  File \"C:\\Users\\Mike\\anaconda3\\envs\\unit4\\lib\\site-packages\\IPython\\core\\interactiveshell.py\", line 3331, in run_code\n    exec(code_obj, self.user_global_ns, self.user_ns)\n  File \"<ipython-input-32-7a493277df56>\", line 73, in <module>\n    results_1 = get_results(spotify.iloc[0], spotify, amount=5)\n  File \"<ipython-input-32-7a493277df56>\", line 52, in get_results\n    ids = features['id']\n  File \"C:\\Users\\Mike\\anaconda3\\envs\\unit4\\lib\\site-packages\\pandas\\core\\frame.py\", line 2800, in __getitem__\n    indexer = self.columns.get_loc(key)\n  File \"C:\\Users\\Mike\\anaconda3\\envs\\unit4\\lib\\site-packages\\pandas\\core\\indexes\\base.py\", line 2648, in get_loc\n    return self._engine.get_loc(self._maybe_cast_indexer(key))\n  File \"pandas\\_libs\\index.pyx\", line 111, in pandas._libs.index.IndexEngine.get_loc\n  File \"pandas\\_libs\\index.pyx\", line 138, in pandas._libs.index.IndexEngine.get_loc\n  File \"pandas\\_libs\\hashtable_class_helper.pxi\", line 1619, in pandas._libs.hashtable.PyObjectHashTable.get_item\n  File \"pandas\\_libs\\hashtable_class_helper.pxi\", line 1627, in pandas._libs.hashtable.PyObjectHashTable.get_item\nKeyError: 'id'\n\nDuring handling of the above exception, another exception occurred:\n\nTraceback (most recent call last):\n  File \"C:\\Users\\Mike\\anaconda3\\envs\\unit4\\lib\\site-packages\\IPython\\core\\interactiveshell.py\", line 2044, in showtraceback\n    stb = value._render_traceback_()\nAttributeError: 'KeyError' object has no attribute '_render_traceback_'\n\nDuring handling of the above exception, another exception occurred:\n\nTraceback (most recent call last):\n  File \"C:\\Users\\Mike\\anaconda3\\envs\\unit4\\lib\\site-packages\\IPython\\core\\interactiveshell.py\", line 3254, in run_ast_nodes\n    if (await self.run_code(code, result,  async_=asy)):\n  File \"C:\\Users\\Mike\\anaconda3\\envs\\unit4\\lib\\site-packages\\IPython\\core\\interactiveshell.py\", line 3348, in run_code\n    self.showtraceback(running_compiled_code=True)\n  File \"C:\\Users\\Mike\\anaconda3\\envs\\unit4\\lib\\site-packages\\IPython\\core\\interactiveshell.py\", line 2047, in showtraceback\n    value, tb, tb_offset=tb_offset)\n  File \"C:\\Users\\Mike\\anaconda3\\envs\\unit4\\lib\\site-packages\\IPython\\core\\ultratb.py\", line 1415, in structured_traceback\n    self, etype, value, tb, tb_offset, number_of_lines_of_context)\n  File \"C:\\Users\\Mike\\anaconda3\\envs\\unit4\\lib\\site-packages\\IPython\\core\\ultratb.py\", line 1315, in structured_traceback\n    self, etype, value, tb, tb_offset, number_of_lines_of_context\n  File \"C:\\Users\\Mike\\anaconda3\\envs\\unit4\\lib\\site-packages\\IPython\\core\\ultratb.py\", line 1183, in structured_traceback\n    formatted_exceptions += self.prepare_chained_exception_message(evalue.__cause__)\nTypeError: can only concatenate str (not \"list\") to str\n\nDuring handling of the above exception, another exception occurred:\n\nTraceback (most recent call last):\n  File \"C:\\Users\\Mike\\anaconda3\\envs\\unit4\\lib\\site-packages\\IPython\\core\\interactiveshell.py\", line 2044, in showtraceback\n    stb = value._render_traceback_()\nAttributeError: 'TypeError' object has no attribute '_render_traceback_'\n\nDuring handling of the above exception, another exception occurred:\n\nTraceback (most recent call last):\n  File \"C:\\Users\\Mike\\anaconda3\\envs\\unit4\\lib\\site-packages\\IPython\\core\\ultratb.py\", line 1148, in get_records\n    return _fixed_getinnerframes(etb, number_of_lines_of_context, tb_offset)\n  File \"C:\\Users\\Mike\\anaconda3\\envs\\unit4\\lib\\site-packages\\IPython\\core\\ultratb.py\", line 316, in wrapped\n    return f(*args, **kwargs)\n  File \"C:\\Users\\Mike\\anaconda3\\envs\\unit4\\lib\\site-packages\\IPython\\core\\ultratb.py\", line 350, in _fixed_getinnerframes\n    records = fix_frame_records_filenames(inspect.getinnerframes(etb, context))\n  File \"C:\\Users\\Mike\\anaconda3\\envs\\unit4\\lib\\inspect.py\", line 1502, in getinnerframes\n    frameinfo = (tb.tb_frame,) + getframeinfo(tb, context)\n  File \"C:\\Users\\Mike\\anaconda3\\envs\\unit4\\lib\\inspect.py\", line 1460, in getframeinfo\n    filename = getsourcefile(frame) or getfile(frame)\n  File \"C:\\Users\\Mike\\anaconda3\\envs\\unit4\\lib\\inspect.py\", line 696, in getsourcefile\n    if getattr(getmodule(object, filename), '__loader__', None) is not None:\n  File \"C:\\Users\\Mike\\anaconda3\\envs\\unit4\\lib\\inspect.py\", line 733, in getmodule\n    if ismodule(module) and hasattr(module, '__file__'):\n  File \"C:\\Users\\Mike\\anaconda3\\envs\\unit4\\lib\\site-packages\\tensorflow\\__init__.py\", line 50, in __getattr__\n    module = self._load()\n  File \"C:\\Users\\Mike\\anaconda3\\envs\\unit4\\lib\\site-packages\\tensorflow\\__init__.py\", line 44, in _load\n    module = _importlib.import_module(self.__name__)\n  File \"C:\\Users\\Mike\\anaconda3\\envs\\unit4\\lib\\importlib\\__init__.py\", line 127, in import_module\n    return _bootstrap._gcd_import(name[level:], package, level)\n  File \"<frozen importlib._bootstrap>\", line 1006, in _gcd_import\n  File \"<frozen importlib._bootstrap>\", line 983, in _find_and_load\n  File \"<frozen importlib._bootstrap>\", line 965, in _find_and_load_unlocked\nModuleNotFoundError: No module named 'tensorflow_core.estimator'\nTraceback (most recent call last):\n  File \"C:\\Users\\Mike\\anaconda3\\envs\\unit4\\lib\\site-packages\\pandas\\core\\indexes\\base.py\", line 2646, in get_loc\n    return self._engine.get_loc(key)\n  File \"pandas\\_libs\\index.pyx\", line 111, in pandas._libs.index.IndexEngine.get_loc\n  File \"pandas\\_libs\\index.pyx\", line 138, in pandas._libs.index.IndexEngine.get_loc\n  File \"pandas\\_libs\\hashtable_class_helper.pxi\", line 1619, in pandas._libs.hashtable.PyObjectHashTable.get_item\n  File \"pandas\\_libs\\hashtable_class_helper.pxi\", line 1627, in pandas._libs.hashtable.PyObjectHashTable.get_item\nKeyError: 'id'\n\nDuring handling of the above exception, another exception occurred:\n\nTraceback (most recent call last):\n  File \"C:\\Users\\Mike\\anaconda3\\envs\\unit4\\lib\\site-packages\\IPython\\core\\interactiveshell.py\", line 3331, in run_code\n    exec(code_obj, self.user_global_ns, self.user_ns)\n  File \"<ipython-input-32-7a493277df56>\", line 73, in <module>\n    results_1 = get_results(spotify.iloc[0], spotify, amount=5)\n  File \"<ipython-input-32-7a493277df56>\", line 52, in get_results\n    ids = features['id']\n  File \"C:\\Users\\Mike\\anaconda3\\envs\\unit4\\lib\\site-packages\\pandas\\core\\frame.py\", line 2800, in __getitem__\n    indexer = self.columns.get_loc(key)\n  File \"C:\\Users\\Mike\\anaconda3\\envs\\unit4\\lib\\site-packages\\pandas\\core\\indexes\\base.py\", line 2648, in get_loc\n    return self._engine.get_loc(self._maybe_cast_indexer(key))\n  File \"pandas\\_libs\\index.pyx\", line 111, in pandas._libs.index.IndexEngine.get_loc\n  File \"pandas\\_libs\\index.pyx\", line 138, in pandas._libs.index.IndexEngine.get_loc\n  File \"pandas\\_libs\\hashtable_class_helper.pxi\", line 1619, in pandas._libs.hashtable.PyObjectHashTable.get_item\n  File \"pandas\\_libs\\hashtable_class_helper.pxi\", line 1627, in pandas._libs.hashtable.PyObjectHashTable.get_item\nKeyError: 'id'\n\nDuring handling of the above exception, another exception occurred:\n\nTraceback (most recent call last):\n  File \"C:\\Users\\Mike\\anaconda3\\envs\\unit4\\lib\\site-packages\\IPython\\core\\interactiveshell.py\", line 2044, in showtraceback\n    stb = value._render_traceback_()\nAttributeError: 'KeyError' object has no attribute '_render_traceback_'\n\nDuring handling of the above exception, another exception occurred:\n\nTraceback (most recent call last):\n  File \"C:\\Users\\Mike\\anaconda3\\envs\\unit4\\lib\\site-packages\\IPython\\core\\interactiveshell.py\", line 3254, in run_ast_nodes\n    if (await self.run_code(code, result,  async_=asy)):\n  File \"C:\\Users\\Mike\\anaconda3\\envs\\unit4\\lib\\site-packages\\IPython\\core\\interactiveshell.py\", line 3348, in run_code\n    self.showtraceback(running_compiled_code=True)\n  File \"C:\\Users\\Mike\\anaconda3\\envs\\unit4\\lib\\site-packages\\IPython\\core\\interactiveshell.py\", line 2047, in showtraceback\n    value, tb, tb_offset=tb_offset)\n  File \"C:\\Users\\Mike\\anaconda3\\envs\\unit4\\lib\\site-packages\\IPython\\core\\ultratb.py\", line 1415, in structured_traceback\n    self, etype, value, tb, tb_offset, number_of_lines_of_context)\n  File \"C:\\Users\\Mike\\anaconda3\\envs\\unit4\\lib\\site-packages\\IPython\\core\\ultratb.py\", line 1315, in structured_traceback\n    self, etype, value, tb, tb_offset, number_of_lines_of_context\n  File \"C:\\Users\\Mike\\anaconda3\\envs\\unit4\\lib\\site-packages\\IPython\\core\\ultratb.py\", line 1183, in structured_traceback\n    formatted_exceptions += self.prepare_chained_exception_message(evalue.__cause__)\nTypeError: can only concatenate str (not \"list\") to str\n\nDuring handling of the above exception, another exception occurred:\n\nTraceback (most recent call last):\n  File \"C:\\Users\\Mike\\anaconda3\\envs\\unit4\\lib\\site-packages\\IPython\\core\\interactiveshell.py\", line 2044, in showtraceback\n    stb = value._render_traceback_()\nAttributeError: 'TypeError' object has no attribute '_render_traceback_'\n\nDuring handling of the above exception, another exception occurred:\n\nTraceback (most recent call last):\n  File \"C:\\Users\\Mike\\anaconda3\\envs\\unit4\\lib\\site-packages\\IPython\\core\\ultratb.py\", line 1148, in get_records\n    return _fixed_getinnerframes(etb, number_of_lines_of_context, tb_offset)\n  File \"C:\\Users\\Mike\\anaconda3\\envs\\unit4\\lib\\site-packages\\IPython\\core\\ultratb.py\", line 316, in wrapped\n    return f(*args, **kwargs)\n  File \"C:\\Users\\Mike\\anaconda3\\envs\\unit4\\lib\\site-packages\\IPython\\core\\ultratb.py\", line 350, in _fixed_getinnerframes\n    records = fix_frame_records_filenames(inspect.getinnerframes(etb, context))\n  File \"C:\\Users\\Mike\\anaconda3\\envs\\unit4\\lib\\inspect.py\", line 1502, in getinnerframes\n    frameinfo = (tb.tb_frame,) + getframeinfo(tb, context)\n  File \"C:\\Users\\Mike\\anaconda3\\envs\\unit4\\lib\\inspect.py\", line 1460, in getframeinfo\n    filename = getsourcefile(frame) or getfile(frame)\n  File \"C:\\Users\\Mike\\anaconda3\\envs\\unit4\\lib\\inspect.py\", line 696, in getsourcefile\n    if getattr(getmodule(object, filename), '__loader__', None) is not None:\n  File \"C:\\Users\\Mike\\anaconda3\\envs\\unit4\\lib\\inspect.py\", line 733, in getmodule\n    if ismodule(module) and hasattr(module, '__file__'):\n  File \"C:\\Users\\Mike\\anaconda3\\envs\\unit4\\lib\\site-packages\\tensorflow\\__init__.py\", line 50, in __getattr__\n    module = self._load()\n  File \"C:\\Users\\Mike\\anaconda3\\envs\\unit4\\lib\\site-packages\\tensorflow\\__init__.py\", line 44, in _load\n    module = _importlib.import_module(self.__name__)\n  File \"C:\\Users\\Mike\\anaconda3\\envs\\unit4\\lib\\importlib\\__init__.py\", line 127, in import_module\n    return _bootstrap._gcd_import(name[level:], package, level)\n  File \"<frozen importlib._bootstrap>\", line 1006, in _gcd_import\n  File \"<frozen importlib._bootstrap>\", line 983, in _find_and_load\n  File \"<frozen importlib._bootstrap>\", line 965, in _find_and_load_unlocked\nModuleNotFoundError: No module named 'tensorflow_core.estimator'\n"
    },
    {
     "output_type": "error",
     "ename": "TypeError",
     "evalue": "can only concatenate str (not \"list\") to str",
     "traceback": [
      "\u001b[1;31m---------------------------------------------------------------------------\u001b[0m",
      "\nDuring handling of the above exception, another exception occurred:\n",
      "\nDuring handling of the above exception, another exception occurred:\n",
      "\u001b[1;31mAttributeError\u001b[0m                            Traceback (most recent call last)",
      "\u001b[1;32m~\\anaconda3\\envs\\unit4\\lib\\site-packages\\IPython\\core\\interactiveshell.py\u001b[0m in \u001b[0;36mshowtraceback\u001b[1;34m(self, exc_tuple, filename, tb_offset, exception_only, running_compiled_code)\u001b[0m\n\u001b[0;32m   2043\u001b[0m                         \u001b[1;31m# in the engines. This should return a list of strings.\u001b[0m\u001b[1;33m\u001b[0m\u001b[1;33m\u001b[0m\u001b[1;33m\u001b[0m\u001b[0m\n\u001b[1;32m-> 2044\u001b[1;33m                         \u001b[0mstb\u001b[0m \u001b[1;33m=\u001b[0m \u001b[0mvalue\u001b[0m\u001b[1;33m.\u001b[0m\u001b[0m_render_traceback_\u001b[0m\u001b[1;33m(\u001b[0m\u001b[1;33m)\u001b[0m\u001b[1;33m\u001b[0m\u001b[1;33m\u001b[0m\u001b[0m\n\u001b[0m\u001b[0;32m   2045\u001b[0m                     \u001b[1;32mexcept\u001b[0m \u001b[0mException\u001b[0m\u001b[1;33m:\u001b[0m\u001b[1;33m\u001b[0m\u001b[1;33m\u001b[0m\u001b[0m\n",
      "\u001b[1;31mAttributeError\u001b[0m: 'KeyError' object has no attribute '_render_traceback_'",
      "\nDuring handling of the above exception, another exception occurred:\n",
      "\u001b[1;31mTypeError\u001b[0m                                 Traceback (most recent call last)",
      "\u001b[1;32m~\\anaconda3\\envs\\unit4\\lib\\site-packages\\IPython\\core\\interactiveshell.py\u001b[0m in \u001b[0;36mrun_code\u001b[1;34m(self, code_obj, result, async_)\u001b[0m\n\u001b[0;32m   3346\u001b[0m             \u001b[1;32mif\u001b[0m \u001b[0mresult\u001b[0m \u001b[1;32mis\u001b[0m \u001b[1;32mnot\u001b[0m \u001b[1;32mNone\u001b[0m\u001b[1;33m:\u001b[0m\u001b[1;33m\u001b[0m\u001b[1;33m\u001b[0m\u001b[0m\n\u001b[0;32m   3347\u001b[0m                 \u001b[0mresult\u001b[0m\u001b[1;33m.\u001b[0m\u001b[0merror_in_exec\u001b[0m \u001b[1;33m=\u001b[0m \u001b[0msys\u001b[0m\u001b[1;33m.\u001b[0m\u001b[0mexc_info\u001b[0m\u001b[1;33m(\u001b[0m\u001b[1;33m)\u001b[0m\u001b[1;33m[\u001b[0m\u001b[1;36m1\u001b[0m\u001b[1;33m]\u001b[0m\u001b[1;33m\u001b[0m\u001b[1;33m\u001b[0m\u001b[0m\n\u001b[1;32m-> 3348\u001b[1;33m             \u001b[0mself\u001b[0m\u001b[1;33m.\u001b[0m\u001b[0mshowtraceback\u001b[0m\u001b[1;33m(\u001b[0m\u001b[0mrunning_compiled_code\u001b[0m\u001b[1;33m=\u001b[0m\u001b[1;32mTrue\u001b[0m\u001b[1;33m)\u001b[0m\u001b[1;33m\u001b[0m\u001b[1;33m\u001b[0m\u001b[0m\n\u001b[0m\u001b[0;32m   3349\u001b[0m         \u001b[1;32melse\u001b[0m\u001b[1;33m:\u001b[0m\u001b[1;33m\u001b[0m\u001b[1;33m\u001b[0m\u001b[0m\n\u001b[0;32m   3350\u001b[0m             \u001b[0moutflag\u001b[0m \u001b[1;33m=\u001b[0m \u001b[1;32mFalse\u001b[0m\u001b[1;33m\u001b[0m\u001b[1;33m\u001b[0m\u001b[0m\n",
      "\u001b[1;32m~\\anaconda3\\envs\\unit4\\lib\\site-packages\\IPython\\core\\interactiveshell.py\u001b[0m in \u001b[0;36mshowtraceback\u001b[1;34m(self, exc_tuple, filename, tb_offset, exception_only, running_compiled_code)\u001b[0m\n\u001b[0;32m   2045\u001b[0m                     \u001b[1;32mexcept\u001b[0m \u001b[0mException\u001b[0m\u001b[1;33m:\u001b[0m\u001b[1;33m\u001b[0m\u001b[1;33m\u001b[0m\u001b[0m\n\u001b[0;32m   2046\u001b[0m                         stb = self.InteractiveTB.structured_traceback(etype,\n\u001b[1;32m-> 2047\u001b[1;33m                                             value, tb, tb_offset=tb_offset)\n\u001b[0m\u001b[0;32m   2048\u001b[0m \u001b[1;33m\u001b[0m\u001b[0m\n\u001b[0;32m   2049\u001b[0m                     \u001b[0mself\u001b[0m\u001b[1;33m.\u001b[0m\u001b[0m_showtraceback\u001b[0m\u001b[1;33m(\u001b[0m\u001b[0metype\u001b[0m\u001b[1;33m,\u001b[0m \u001b[0mvalue\u001b[0m\u001b[1;33m,\u001b[0m \u001b[0mstb\u001b[0m\u001b[1;33m)\u001b[0m\u001b[1;33m\u001b[0m\u001b[1;33m\u001b[0m\u001b[0m\n",
      "\u001b[1;32m~\\anaconda3\\envs\\unit4\\lib\\site-packages\\IPython\\core\\ultratb.py\u001b[0m in \u001b[0;36mstructured_traceback\u001b[1;34m(self, etype, value, tb, tb_offset, number_of_lines_of_context)\u001b[0m\n\u001b[0;32m   1413\u001b[0m             \u001b[0mself\u001b[0m\u001b[1;33m.\u001b[0m\u001b[0mtb\u001b[0m \u001b[1;33m=\u001b[0m \u001b[0mtb\u001b[0m\u001b[1;33m\u001b[0m\u001b[1;33m\u001b[0m\u001b[0m\n\u001b[0;32m   1414\u001b[0m         return FormattedTB.structured_traceback(\n\u001b[1;32m-> 1415\u001b[1;33m             self, etype, value, tb, tb_offset, number_of_lines_of_context)\n\u001b[0m\u001b[0;32m   1416\u001b[0m \u001b[1;33m\u001b[0m\u001b[0m\n\u001b[0;32m   1417\u001b[0m \u001b[1;33m\u001b[0m\u001b[0m\n",
      "\u001b[1;32m~\\anaconda3\\envs\\unit4\\lib\\site-packages\\IPython\\core\\ultratb.py\u001b[0m in \u001b[0;36mstructured_traceback\u001b[1;34m(self, etype, value, tb, tb_offset, number_of_lines_of_context)\u001b[0m\n\u001b[0;32m   1313\u001b[0m             \u001b[1;31m# Verbose modes need a full traceback\u001b[0m\u001b[1;33m\u001b[0m\u001b[1;33m\u001b[0m\u001b[1;33m\u001b[0m\u001b[0m\n\u001b[0;32m   1314\u001b[0m             return VerboseTB.structured_traceback(\n\u001b[1;32m-> 1315\u001b[1;33m                 \u001b[0mself\u001b[0m\u001b[1;33m,\u001b[0m \u001b[0metype\u001b[0m\u001b[1;33m,\u001b[0m \u001b[0mvalue\u001b[0m\u001b[1;33m,\u001b[0m \u001b[0mtb\u001b[0m\u001b[1;33m,\u001b[0m \u001b[0mtb_offset\u001b[0m\u001b[1;33m,\u001b[0m \u001b[0mnumber_of_lines_of_context\u001b[0m\u001b[1;33m\u001b[0m\u001b[1;33m\u001b[0m\u001b[0m\n\u001b[0m\u001b[0;32m   1316\u001b[0m             )\n\u001b[0;32m   1317\u001b[0m         \u001b[1;32melif\u001b[0m \u001b[0mmode\u001b[0m \u001b[1;33m==\u001b[0m \u001b[1;34m'Minimal'\u001b[0m\u001b[1;33m:\u001b[0m\u001b[1;33m\u001b[0m\u001b[1;33m\u001b[0m\u001b[0m\n",
      "\u001b[1;32m~\\anaconda3\\envs\\unit4\\lib\\site-packages\\IPython\\core\\ultratb.py\u001b[0m in \u001b[0;36mstructured_traceback\u001b[1;34m(self, etype, evalue, etb, tb_offset, number_of_lines_of_context)\u001b[0m\n\u001b[0;32m   1181\u001b[0m         \u001b[0mexception\u001b[0m \u001b[1;33m=\u001b[0m \u001b[0mself\u001b[0m\u001b[1;33m.\u001b[0m\u001b[0mget_parts_of_chained_exception\u001b[0m\u001b[1;33m(\u001b[0m\u001b[0mevalue\u001b[0m\u001b[1;33m)\u001b[0m\u001b[1;33m\u001b[0m\u001b[1;33m\u001b[0m\u001b[0m\n\u001b[0;32m   1182\u001b[0m         \u001b[1;32mif\u001b[0m \u001b[0mexception\u001b[0m\u001b[1;33m:\u001b[0m\u001b[1;33m\u001b[0m\u001b[1;33m\u001b[0m\u001b[0m\n\u001b[1;32m-> 1183\u001b[1;33m             \u001b[0mformatted_exceptions\u001b[0m \u001b[1;33m+=\u001b[0m \u001b[0mself\u001b[0m\u001b[1;33m.\u001b[0m\u001b[0mprepare_chained_exception_message\u001b[0m\u001b[1;33m(\u001b[0m\u001b[0mevalue\u001b[0m\u001b[1;33m.\u001b[0m\u001b[0m__cause__\u001b[0m\u001b[1;33m)\u001b[0m\u001b[1;33m\u001b[0m\u001b[1;33m\u001b[0m\u001b[0m\n\u001b[0m\u001b[0;32m   1184\u001b[0m             \u001b[0metype\u001b[0m\u001b[1;33m,\u001b[0m \u001b[0mevalue\u001b[0m\u001b[1;33m,\u001b[0m \u001b[0metb\u001b[0m \u001b[1;33m=\u001b[0m \u001b[0mexception\u001b[0m\u001b[1;33m\u001b[0m\u001b[1;33m\u001b[0m\u001b[0m\n\u001b[0;32m   1185\u001b[0m         \u001b[1;32melse\u001b[0m\u001b[1;33m:\u001b[0m\u001b[1;33m\u001b[0m\u001b[1;33m\u001b[0m\u001b[0m\n",
      "\u001b[1;31mTypeError\u001b[0m: can only concatenate str (not \"list\") to str"
     ]
    }
   ],
   "source": [
    "from tensorflow.keras.models import Sequential\n",
    "from tensorflow.keras.layers import Dense\n",
    "\n",
    "# load in the data\n",
    "spotify = pd.read_csv('https://raw.githubusercontent.com/BW-pilot/MachineLearning/master/CSVs/spotify_final.csv')\n",
    "print(spotify.head())\n",
    "\n",
    "\n",
    "def normalize(vectors):\n",
    "    return vectors / np.linalg.norm(vectors, axis=1, keepdims=True)\n",
    "\n",
    "\n",
    "def predict(model, input_vector):\n",
    "    return model.predict(input_vector).argsort()\n",
    "\n",
    "\n",
    "def build_model(weights):\n",
    "    model = Sequential([\n",
    "        # Dot product between feature vector and reference vectors\n",
    "        Dense(input_shape=(weights.shape[1],),\n",
    "              units=weights.shape[0],\n",
    "              activation='linear',\n",
    "              name='dense_1',\n",
    "              use_bias=False)\n",
    "    ])\n",
    "    model.set_weights([weights.T])\n",
    "    return model\n",
    "\n",
    "\n",
    "def get_results(input_vector, features, best_match=True, amount=5):\n",
    "    \"\"\"\n",
    "    get_results(input_vector, features, best_match=True, amount=5)\n",
    "    input_vector: audio features of the song to suggest similar songs to,\n",
    "    plus track_id\n",
    "    features: full database to suggest songs from\n",
    "    best_match=True: True if you want most similar songs, False if least\n",
    "    similar\n",
    "    amount=5: amount of results to return.\n",
    "    returns a list (might be a numpy array?) of indices from the original\n",
    "    database\n",
    "    \"\"\"\n",
    "\n",
    "    col_names = ['acousticness', 'danceability', 'energy', 'instrumentalness',\n",
    "                 'key', 'liveness',\t'loudness',\t'speechiness', 'tempo',\n",
    "                 'valence', 'id']\n",
    "    input_vector_df = pd.DataFrame([input_vector], columns=col_names)\n",
    "\n",
    "    cols_to_drop = ['Unnamed: 0', 'artists', 'duration_ms', 'explicit', 'id',\n",
    "                    'mode', 'name', 'popularity', 'release_date', 'year']\n",
    "    \n",
    "    tr_id = input_vector_df['id'].values[0]\n",
    "    ids = features['id']\n",
    "    input_vec = input_vector_df.drop(columns=['id'])\n",
    "    feats = features.drop(columns=cols_to_drop)\n",
    "    # norm_vector = normalize(input_vec.values)\n",
    "    norm_vector = normalize(input_vec)\n",
    "    norm_features = normalize(feats)\n",
    "    model = build_model(norm_features)\n",
    "    prediction = np.array(predict(model, norm_vector).argsort())\n",
    "    prediction = prediction.reshape(prediction.shape[1])\n",
    "    feats['id'] = ids\n",
    "\n",
    "    if best_match:\n",
    "        if tr_id in ids[prediction[-amount:]]:\n",
    "            return feats.loc[prediction[-amount-1:-1]]\n",
    "        return feats.loc[prediction[-amount:]]\n",
    "    return feats.loc[prediction[:amount]]\n",
    "\n",
    "    \n",
    "test_audio_features = [0.5,\t0.7, 0.7, 0.0, 3, 0.1, -3, 0.03, 130, 0.9,\n",
    "                       '6oXghnUUe9u2iIZPNfCxjl']   \n",
    "\n",
    "results_1 = get_results(spotify.iloc[0], spotify, amount=5)\n",
    "# print('-------------------------')\n",
    "# print(results_1)\n",
    "\n",
    "# results_2 = get_results(test_audio_features, spotify, amount=10)\n",
    "# print('-------------------------')\n",
    "# print(results_2)"
   ]
  },
  {
   "cell_type": "markdown",
   "metadata": {},
   "source": [
    "## Experimenting with connecting to Spotify API"
   ]
  },
  {
   "cell_type": "code",
   "execution_count": 24,
   "metadata": {},
   "outputs": [
    {
     "output_type": "execute_result",
     "data": {
      "text/plain": "    danceability  energy  loudness  speechiness  acousticness  \\\n0          0.792   0.625    -5.609       0.0536      0.007760   \n1          0.723   0.809    -3.081       0.0625      0.003460   \n2          0.755   0.522    -4.368       0.0575      0.533000   \n3          0.865   0.521    -6.932       0.0371      0.548000   \n4          0.729   0.756    -5.119       0.0294      0.131000   \n5          0.641   0.922    -4.457       0.0786      0.029100   \n6          0.778   0.317   -10.732       0.3340      0.592000   \n7          0.532   0.783    -5.697       0.0523      0.003800   \n8          0.749   0.925    -5.034       0.2270      0.241000   \n9          0.701   0.425   -10.965       0.3750      0.328000   \n10         0.799   0.586    -6.735       0.0377      0.162000   \n11         0.783   0.580    -6.548       0.0408      0.011400   \n12         0.378   0.638    -5.576       0.0750      0.020000   \n13         0.825   0.652    -3.183       0.0802      0.581000   \n14         0.748   0.524    -5.599       0.0338      0.414000   \n15         0.782   0.685    -6.237       0.0309      0.166000   \n16         0.448   0.784    -3.686       0.0627      0.106000   \n17         0.759   0.548    -6.049       0.0290      0.039200   \n18         0.660   0.867    -4.285       0.1160      0.110000   \n19         0.740   0.613    -4.880       0.1450      0.258000   \n20         0.781   0.445    -6.061       0.0295      0.474000   \n21         0.689   0.481    -7.503       0.0815      0.369000   \n22         0.596   0.856    -3.556       0.0346      0.021100   \n23         0.754   0.449    -9.211       0.1090      0.033200   \n24         0.542   0.859    -5.651       0.1970      0.160000   \n25         0.781   0.526    -6.985       0.2930      0.061900   \n26         0.585   0.520    -6.136       0.0712      0.124000   \n27         0.706   0.558    -7.237       0.0593      0.146000   \n28         0.664   0.714    -6.645       0.1110      0.035300   \n29         0.655   0.797    -4.787       0.1530      0.198000   \n30         0.908   0.621    -6.638       0.1020      0.000282   \n31         0.878   0.619    -5.560       0.1020      0.053300   \n32         0.766   0.873    -6.381       0.1430      0.006270   \n33         0.400   0.915    -4.890       0.2800      0.084600   \n34         0.645   0.585    -6.122       0.0513      0.003140   \n35         0.628   0.698    -5.608       0.1050      0.047200   \n36         0.856   0.609    -7.223       0.0824      0.008010   \n37         0.649   0.798    -4.346       0.1780      0.226000   \n38         0.789   0.716    -4.241       0.0432      0.129000   \n39         0.750   0.560    -8.094       0.1050      0.546000   \n40         0.647   0.822    -4.662       0.1830      0.219000   \n41         0.758   0.686    -6.346       0.0792      0.084800   \n42         0.747   0.716    -2.457       0.0750      0.135000   \n43         0.747   0.937    -5.746       0.0453      0.020800   \n44         0.751   0.736    -4.168       0.1560      0.020600   \n45         0.835   0.626    -5.833       0.1250      0.058900   \n46         0.617   0.635    -6.769       0.0317      0.049800   \n47         0.422   0.264    -7.064       0.0322      0.922000   \n48         0.509   0.538    -7.335       0.0572      0.385000   \n49         0.855   0.954    -1.190       0.2640      0.529000   \n\n    instrumentalness  liveness  valence    tempo  \n0           0.001880    0.3290    0.370  103.967  \n1           0.001230    0.5650    0.274   98.007  \n2           0.000000    0.0685    0.925   89.960  \n3           0.000115    0.0989    0.748  129.059  \n4           0.000000    0.0527    0.522  104.945  \n5           0.000000    0.0862    0.847  146.078  \n6           0.000000    0.0881    0.327  140.048  \n7           0.001200    0.1610    0.643  124.080  \n8           0.000000    0.5200    0.641   86.989  \n9           0.130000    0.1000    0.562  135.128  \n10          0.000002    0.1930    0.549  120.970  \n11          0.000002    0.1080    0.660  120.021  \n12          0.000077    0.0849    0.735  184.086  \n13          0.000000    0.0931    0.931   95.977  \n14          0.000000    0.1110    0.661   95.010  \n15          0.000012    0.1600    0.603  118.016  \n16          0.000108    0.6680    0.236  136.245  \n17          0.000000    0.0828    0.749  116.967  \n18          0.000000    0.0368    0.377   93.033  \n19          0.003720    0.1230    0.473   75.023  \n20          0.000000    0.1840    0.591   78.998  \n21          0.000001    0.0649    0.283   80.025  \n22          0.017800    0.1410    0.743  127.949  \n23          0.000083    0.5520    0.357   77.169  \n24          0.004660    0.1370    0.403  159.797  \n25          0.000000    0.0457    0.662   94.992  \n26          0.000070    0.1310    0.129  159.801  \n27          0.000000    0.1180    0.227  110.443  \n28          0.000008    0.0843    0.710  101.969  \n29          0.000000    0.0670    0.839  177.928  \n30          0.000054    0.0958    0.421  150.011  \n31          0.000000    0.1130    0.639  136.041  \n32          0.000000    0.0764    0.743  126.988  \n33          0.000000    0.0503    0.878   88.917  \n34          0.000000    0.1650    0.353  131.931  \n35          0.001430    0.0907    0.732   89.976  \n36          0.000082    0.0344    0.928  114.988  \n37          0.000000    0.0711    0.857  177.899  \n38          0.000011    0.0690    0.611  125.906  \n39          0.000000    0.1110    0.459  140.060  \n40          0.000000    0.0908    0.962  160.019  \n41          0.001270    0.1420    0.444  130.007  \n42          0.000000    0.2510    0.751  125.008  \n43          0.000000    0.2900    0.739  103.976  \n44          0.000000    0.2650    0.352  130.014  \n45          0.000060    0.3960    0.350   91.030  \n46          0.000014    0.1640    0.446  103.019  \n47          0.000000    0.1320    0.331  119.930  \n48          0.000000    0.1040    0.244   75.089  \n49          0.000000    0.2050    0.668  114.635  ",
      "text/html": "<div>\n<style scoped>\n    .dataframe tbody tr th:only-of-type {\n        vertical-align: middle;\n    }\n\n    .dataframe tbody tr th {\n        vertical-align: top;\n    }\n\n    .dataframe thead th {\n        text-align: right;\n    }\n</style>\n<table border=\"1\" class=\"dataframe\">\n  <thead>\n    <tr style=\"text-align: right;\">\n      <th></th>\n      <th>danceability</th>\n      <th>energy</th>\n      <th>loudness</th>\n      <th>speechiness</th>\n      <th>acousticness</th>\n      <th>instrumentalness</th>\n      <th>liveness</th>\n      <th>valence</th>\n      <th>tempo</th>\n    </tr>\n  </thead>\n  <tbody>\n    <tr>\n      <th>0</th>\n      <td>0.792</td>\n      <td>0.625</td>\n      <td>-5.609</td>\n      <td>0.0536</td>\n      <td>0.007760</td>\n      <td>0.001880</td>\n      <td>0.3290</td>\n      <td>0.370</td>\n      <td>103.967</td>\n    </tr>\n    <tr>\n      <th>1</th>\n      <td>0.723</td>\n      <td>0.809</td>\n      <td>-3.081</td>\n      <td>0.0625</td>\n      <td>0.003460</td>\n      <td>0.001230</td>\n      <td>0.5650</td>\n      <td>0.274</td>\n      <td>98.007</td>\n    </tr>\n    <tr>\n      <th>2</th>\n      <td>0.755</td>\n      <td>0.522</td>\n      <td>-4.368</td>\n      <td>0.0575</td>\n      <td>0.533000</td>\n      <td>0.000000</td>\n      <td>0.0685</td>\n      <td>0.925</td>\n      <td>89.960</td>\n    </tr>\n    <tr>\n      <th>3</th>\n      <td>0.865</td>\n      <td>0.521</td>\n      <td>-6.932</td>\n      <td>0.0371</td>\n      <td>0.548000</td>\n      <td>0.000115</td>\n      <td>0.0989</td>\n      <td>0.748</td>\n      <td>129.059</td>\n    </tr>\n    <tr>\n      <th>4</th>\n      <td>0.729</td>\n      <td>0.756</td>\n      <td>-5.119</td>\n      <td>0.0294</td>\n      <td>0.131000</td>\n      <td>0.000000</td>\n      <td>0.0527</td>\n      <td>0.522</td>\n      <td>104.945</td>\n    </tr>\n    <tr>\n      <th>5</th>\n      <td>0.641</td>\n      <td>0.922</td>\n      <td>-4.457</td>\n      <td>0.0786</td>\n      <td>0.029100</td>\n      <td>0.000000</td>\n      <td>0.0862</td>\n      <td>0.847</td>\n      <td>146.078</td>\n    </tr>\n    <tr>\n      <th>6</th>\n      <td>0.778</td>\n      <td>0.317</td>\n      <td>-10.732</td>\n      <td>0.3340</td>\n      <td>0.592000</td>\n      <td>0.000000</td>\n      <td>0.0881</td>\n      <td>0.327</td>\n      <td>140.048</td>\n    </tr>\n    <tr>\n      <th>7</th>\n      <td>0.532</td>\n      <td>0.783</td>\n      <td>-5.697</td>\n      <td>0.0523</td>\n      <td>0.003800</td>\n      <td>0.001200</td>\n      <td>0.1610</td>\n      <td>0.643</td>\n      <td>124.080</td>\n    </tr>\n    <tr>\n      <th>8</th>\n      <td>0.749</td>\n      <td>0.925</td>\n      <td>-5.034</td>\n      <td>0.2270</td>\n      <td>0.241000</td>\n      <td>0.000000</td>\n      <td>0.5200</td>\n      <td>0.641</td>\n      <td>86.989</td>\n    </tr>\n    <tr>\n      <th>9</th>\n      <td>0.701</td>\n      <td>0.425</td>\n      <td>-10.965</td>\n      <td>0.3750</td>\n      <td>0.328000</td>\n      <td>0.130000</td>\n      <td>0.1000</td>\n      <td>0.562</td>\n      <td>135.128</td>\n    </tr>\n    <tr>\n      <th>10</th>\n      <td>0.799</td>\n      <td>0.586</td>\n      <td>-6.735</td>\n      <td>0.0377</td>\n      <td>0.162000</td>\n      <td>0.000002</td>\n      <td>0.1930</td>\n      <td>0.549</td>\n      <td>120.970</td>\n    </tr>\n    <tr>\n      <th>11</th>\n      <td>0.783</td>\n      <td>0.580</td>\n      <td>-6.548</td>\n      <td>0.0408</td>\n      <td>0.011400</td>\n      <td>0.000002</td>\n      <td>0.1080</td>\n      <td>0.660</td>\n      <td>120.021</td>\n    </tr>\n    <tr>\n      <th>12</th>\n      <td>0.378</td>\n      <td>0.638</td>\n      <td>-5.576</td>\n      <td>0.0750</td>\n      <td>0.020000</td>\n      <td>0.000077</td>\n      <td>0.0849</td>\n      <td>0.735</td>\n      <td>184.086</td>\n    </tr>\n    <tr>\n      <th>13</th>\n      <td>0.825</td>\n      <td>0.652</td>\n      <td>-3.183</td>\n      <td>0.0802</td>\n      <td>0.581000</td>\n      <td>0.000000</td>\n      <td>0.0931</td>\n      <td>0.931</td>\n      <td>95.977</td>\n    </tr>\n    <tr>\n      <th>14</th>\n      <td>0.748</td>\n      <td>0.524</td>\n      <td>-5.599</td>\n      <td>0.0338</td>\n      <td>0.414000</td>\n      <td>0.000000</td>\n      <td>0.1110</td>\n      <td>0.661</td>\n      <td>95.010</td>\n    </tr>\n    <tr>\n      <th>15</th>\n      <td>0.782</td>\n      <td>0.685</td>\n      <td>-6.237</td>\n      <td>0.0309</td>\n      <td>0.166000</td>\n      <td>0.000012</td>\n      <td>0.1600</td>\n      <td>0.603</td>\n      <td>118.016</td>\n    </tr>\n    <tr>\n      <th>16</th>\n      <td>0.448</td>\n      <td>0.784</td>\n      <td>-3.686</td>\n      <td>0.0627</td>\n      <td>0.106000</td>\n      <td>0.000108</td>\n      <td>0.6680</td>\n      <td>0.236</td>\n      <td>136.245</td>\n    </tr>\n    <tr>\n      <th>17</th>\n      <td>0.759</td>\n      <td>0.548</td>\n      <td>-6.049</td>\n      <td>0.0290</td>\n      <td>0.039200</td>\n      <td>0.000000</td>\n      <td>0.0828</td>\n      <td>0.749</td>\n      <td>116.967</td>\n    </tr>\n    <tr>\n      <th>18</th>\n      <td>0.660</td>\n      <td>0.867</td>\n      <td>-4.285</td>\n      <td>0.1160</td>\n      <td>0.110000</td>\n      <td>0.000000</td>\n      <td>0.0368</td>\n      <td>0.377</td>\n      <td>93.033</td>\n    </tr>\n    <tr>\n      <th>19</th>\n      <td>0.740</td>\n      <td>0.613</td>\n      <td>-4.880</td>\n      <td>0.1450</td>\n      <td>0.258000</td>\n      <td>0.003720</td>\n      <td>0.1230</td>\n      <td>0.473</td>\n      <td>75.023</td>\n    </tr>\n    <tr>\n      <th>20</th>\n      <td>0.781</td>\n      <td>0.445</td>\n      <td>-6.061</td>\n      <td>0.0295</td>\n      <td>0.474000</td>\n      <td>0.000000</td>\n      <td>0.1840</td>\n      <td>0.591</td>\n      <td>78.998</td>\n    </tr>\n    <tr>\n      <th>21</th>\n      <td>0.689</td>\n      <td>0.481</td>\n      <td>-7.503</td>\n      <td>0.0815</td>\n      <td>0.369000</td>\n      <td>0.000001</td>\n      <td>0.0649</td>\n      <td>0.283</td>\n      <td>80.025</td>\n    </tr>\n    <tr>\n      <th>22</th>\n      <td>0.596</td>\n      <td>0.856</td>\n      <td>-3.556</td>\n      <td>0.0346</td>\n      <td>0.021100</td>\n      <td>0.017800</td>\n      <td>0.1410</td>\n      <td>0.743</td>\n      <td>127.949</td>\n    </tr>\n    <tr>\n      <th>23</th>\n      <td>0.754</td>\n      <td>0.449</td>\n      <td>-9.211</td>\n      <td>0.1090</td>\n      <td>0.033200</td>\n      <td>0.000083</td>\n      <td>0.5520</td>\n      <td>0.357</td>\n      <td>77.169</td>\n    </tr>\n    <tr>\n      <th>24</th>\n      <td>0.542</td>\n      <td>0.859</td>\n      <td>-5.651</td>\n      <td>0.1970</td>\n      <td>0.160000</td>\n      <td>0.004660</td>\n      <td>0.1370</td>\n      <td>0.403</td>\n      <td>159.797</td>\n    </tr>\n    <tr>\n      <th>25</th>\n      <td>0.781</td>\n      <td>0.526</td>\n      <td>-6.985</td>\n      <td>0.2930</td>\n      <td>0.061900</td>\n      <td>0.000000</td>\n      <td>0.0457</td>\n      <td>0.662</td>\n      <td>94.992</td>\n    </tr>\n    <tr>\n      <th>26</th>\n      <td>0.585</td>\n      <td>0.520</td>\n      <td>-6.136</td>\n      <td>0.0712</td>\n      <td>0.124000</td>\n      <td>0.000070</td>\n      <td>0.1310</td>\n      <td>0.129</td>\n      <td>159.801</td>\n    </tr>\n    <tr>\n      <th>27</th>\n      <td>0.706</td>\n      <td>0.558</td>\n      <td>-7.237</td>\n      <td>0.0593</td>\n      <td>0.146000</td>\n      <td>0.000000</td>\n      <td>0.1180</td>\n      <td>0.227</td>\n      <td>110.443</td>\n    </tr>\n    <tr>\n      <th>28</th>\n      <td>0.664</td>\n      <td>0.714</td>\n      <td>-6.645</td>\n      <td>0.1110</td>\n      <td>0.035300</td>\n      <td>0.000008</td>\n      <td>0.0843</td>\n      <td>0.710</td>\n      <td>101.969</td>\n    </tr>\n    <tr>\n      <th>29</th>\n      <td>0.655</td>\n      <td>0.797</td>\n      <td>-4.787</td>\n      <td>0.1530</td>\n      <td>0.198000</td>\n      <td>0.000000</td>\n      <td>0.0670</td>\n      <td>0.839</td>\n      <td>177.928</td>\n    </tr>\n    <tr>\n      <th>30</th>\n      <td>0.908</td>\n      <td>0.621</td>\n      <td>-6.638</td>\n      <td>0.1020</td>\n      <td>0.000282</td>\n      <td>0.000054</td>\n      <td>0.0958</td>\n      <td>0.421</td>\n      <td>150.011</td>\n    </tr>\n    <tr>\n      <th>31</th>\n      <td>0.878</td>\n      <td>0.619</td>\n      <td>-5.560</td>\n      <td>0.1020</td>\n      <td>0.053300</td>\n      <td>0.000000</td>\n      <td>0.1130</td>\n      <td>0.639</td>\n      <td>136.041</td>\n    </tr>\n    <tr>\n      <th>32</th>\n      <td>0.766</td>\n      <td>0.873</td>\n      <td>-6.381</td>\n      <td>0.1430</td>\n      <td>0.006270</td>\n      <td>0.000000</td>\n      <td>0.0764</td>\n      <td>0.743</td>\n      <td>126.988</td>\n    </tr>\n    <tr>\n      <th>33</th>\n      <td>0.400</td>\n      <td>0.915</td>\n      <td>-4.890</td>\n      <td>0.2800</td>\n      <td>0.084600</td>\n      <td>0.000000</td>\n      <td>0.0503</td>\n      <td>0.878</td>\n      <td>88.917</td>\n    </tr>\n    <tr>\n      <th>34</th>\n      <td>0.645</td>\n      <td>0.585</td>\n      <td>-6.122</td>\n      <td>0.0513</td>\n      <td>0.003140</td>\n      <td>0.000000</td>\n      <td>0.1650</td>\n      <td>0.353</td>\n      <td>131.931</td>\n    </tr>\n    <tr>\n      <th>35</th>\n      <td>0.628</td>\n      <td>0.698</td>\n      <td>-5.608</td>\n      <td>0.1050</td>\n      <td>0.047200</td>\n      <td>0.001430</td>\n      <td>0.0907</td>\n      <td>0.732</td>\n      <td>89.976</td>\n    </tr>\n    <tr>\n      <th>36</th>\n      <td>0.856</td>\n      <td>0.609</td>\n      <td>-7.223</td>\n      <td>0.0824</td>\n      <td>0.008010</td>\n      <td>0.000082</td>\n      <td>0.0344</td>\n      <td>0.928</td>\n      <td>114.988</td>\n    </tr>\n    <tr>\n      <th>37</th>\n      <td>0.649</td>\n      <td>0.798</td>\n      <td>-4.346</td>\n      <td>0.1780</td>\n      <td>0.226000</td>\n      <td>0.000000</td>\n      <td>0.0711</td>\n      <td>0.857</td>\n      <td>177.899</td>\n    </tr>\n    <tr>\n      <th>38</th>\n      <td>0.789</td>\n      <td>0.716</td>\n      <td>-4.241</td>\n      <td>0.0432</td>\n      <td>0.129000</td>\n      <td>0.000011</td>\n      <td>0.0690</td>\n      <td>0.611</td>\n      <td>125.906</td>\n    </tr>\n    <tr>\n      <th>39</th>\n      <td>0.750</td>\n      <td>0.560</td>\n      <td>-8.094</td>\n      <td>0.1050</td>\n      <td>0.546000</td>\n      <td>0.000000</td>\n      <td>0.1110</td>\n      <td>0.459</td>\n      <td>140.060</td>\n    </tr>\n    <tr>\n      <th>40</th>\n      <td>0.647</td>\n      <td>0.822</td>\n      <td>-4.662</td>\n      <td>0.1830</td>\n      <td>0.219000</td>\n      <td>0.000000</td>\n      <td>0.0908</td>\n      <td>0.962</td>\n      <td>160.019</td>\n    </tr>\n    <tr>\n      <th>41</th>\n      <td>0.758</td>\n      <td>0.686</td>\n      <td>-6.346</td>\n      <td>0.0792</td>\n      <td>0.084800</td>\n      <td>0.001270</td>\n      <td>0.1420</td>\n      <td>0.444</td>\n      <td>130.007</td>\n    </tr>\n    <tr>\n      <th>42</th>\n      <td>0.747</td>\n      <td>0.716</td>\n      <td>-2.457</td>\n      <td>0.0750</td>\n      <td>0.135000</td>\n      <td>0.000000</td>\n      <td>0.2510</td>\n      <td>0.751</td>\n      <td>125.008</td>\n    </tr>\n    <tr>\n      <th>43</th>\n      <td>0.747</td>\n      <td>0.937</td>\n      <td>-5.746</td>\n      <td>0.0453</td>\n      <td>0.020800</td>\n      <td>0.000000</td>\n      <td>0.2900</td>\n      <td>0.739</td>\n      <td>103.976</td>\n    </tr>\n    <tr>\n      <th>44</th>\n      <td>0.751</td>\n      <td>0.736</td>\n      <td>-4.168</td>\n      <td>0.1560</td>\n      <td>0.020600</td>\n      <td>0.000000</td>\n      <td>0.2650</td>\n      <td>0.352</td>\n      <td>130.014</td>\n    </tr>\n    <tr>\n      <th>45</th>\n      <td>0.835</td>\n      <td>0.626</td>\n      <td>-5.833</td>\n      <td>0.1250</td>\n      <td>0.058900</td>\n      <td>0.000060</td>\n      <td>0.3960</td>\n      <td>0.350</td>\n      <td>91.030</td>\n    </tr>\n    <tr>\n      <th>46</th>\n      <td>0.617</td>\n      <td>0.635</td>\n      <td>-6.769</td>\n      <td>0.0317</td>\n      <td>0.049800</td>\n      <td>0.000014</td>\n      <td>0.1640</td>\n      <td>0.446</td>\n      <td>103.019</td>\n    </tr>\n    <tr>\n      <th>47</th>\n      <td>0.422</td>\n      <td>0.264</td>\n      <td>-7.064</td>\n      <td>0.0322</td>\n      <td>0.922000</td>\n      <td>0.000000</td>\n      <td>0.1320</td>\n      <td>0.331</td>\n      <td>119.930</td>\n    </tr>\n    <tr>\n      <th>48</th>\n      <td>0.509</td>\n      <td>0.538</td>\n      <td>-7.335</td>\n      <td>0.0572</td>\n      <td>0.385000</td>\n      <td>0.000000</td>\n      <td>0.1040</td>\n      <td>0.244</td>\n      <td>75.089</td>\n    </tr>\n    <tr>\n      <th>49</th>\n      <td>0.855</td>\n      <td>0.954</td>\n      <td>-1.190</td>\n      <td>0.2640</td>\n      <td>0.529000</td>\n      <td>0.000000</td>\n      <td>0.2050</td>\n      <td>0.668</td>\n      <td>114.635</td>\n    </tr>\n  </tbody>\n</table>\n</div>"
     },
     "metadata": {},
     "execution_count": 24
    }
   ],
   "source": [
    "import spotipy\n",
    "import pandas as pd\n",
    "from spotipy.oauth2 import SpotifyClientCredentials # To access authorised Spotify data\n",
    "import os\n",
    "from dotenv import load_dotenv\n",
    "\n",
    "load_dotenv()\n",
    "\n",
    "CLIENT_ID = os.getenv(\"MY_ID\")\n",
    "CLIENT_SECRET = os.getenv(\"MY_SECRET\")\n",
    "\n",
    "PLAYLIST_ID = '37i9dQZF1DWYJ5kmTbkZiz' # Spotify playlist id\n",
    "\n",
    "# API Login\n",
    "client_credentials_manager = SpotifyClientCredentials(client_id=CLIENT_ID, client_secret=CLIENT_SECRET)\n",
    "sp = spotipy.Spotify(client_credentials_manager=client_credentials_manager) #spotify object to access API\n",
    "\n",
    "# Getting tracks of the playlist\n",
    "tracks = sp.user_playlist_tracks(user = 'spotify', playlist_id = PLAYLIST_ID)\n",
    "tracks_uri_list = [x['track']['uri'] for x in tracks['items']]\n",
    "\n",
    "# Getting features of tracks\n",
    "features = []\n",
    "for i in tracks_uri_list:\n",
    "    features = features + sp.audio_features(i)\n",
    "\n",
    "# Creating feature dataframe\n",
    "cols_to_drop = ['id', 'analysis_url', 'key', 'time_signature', 'track_href', 'type', 'uri', 'mode', 'duration_ms']\n",
    "features_df = pd.DataFrame(features).drop(cols_to_drop, axis=1)\n",
    "features_df"
   ]
  },
  {
   "cell_type": "code",
   "execution_count": null,
   "metadata": {},
   "outputs": [],
   "source": []
  }
 ],
 "metadata": {
  "language_info": {
   "codemirror_mode": {
    "name": "ipython",
    "version": 3
   },
   "file_extension": ".py",
   "mimetype": "text/x-python",
   "name": "python",
   "nbconvert_exporter": "python",
   "pygments_lexer": "ipython3",
   "version": "3.7.7-final"
  },
  "orig_nbformat": 2,
  "kernelspec": {
   "name": "unit4-s1-nlp",
   "display_name": "U4-S1-NLP (Python3)"
  }
 },
 "nbformat": 4,
 "nbformat_minor": 2
}