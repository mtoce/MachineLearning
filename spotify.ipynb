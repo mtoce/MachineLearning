{
 "cells": [
  {
   "cell_type": "code",
   "execution_count": 31,
   "metadata": {},
   "outputs": [
    {
     "output_type": "stream",
     "name": "stdout",
     "text": "(232725, 12)\n   genre  popularity  acousticness  danceability  duration_ms  energy  \\\n0      0           0         0.611         0.389        99373   0.910   \n1      0           1         0.246         0.590       137373   0.737   \n2      0           3         0.952         0.663       170267   0.131   \n3      0           0         0.703         0.240       152427   0.326   \n4      0           4         0.950         0.331        82625   0.225   \n\n   instrumentalness  liveness  loudness  speechiness    tempo  valence  \n0             0.000    0.3460    -1.828       0.0525  166.969    0.814  \n1             0.000    0.1510    -5.559       0.0868  174.003    0.816  \n2             0.000    0.1030   -13.879       0.0362   99.488    0.368  \n3             0.000    0.0985   -12.178       0.0395  171.758    0.227  \n4             0.123    0.2020   -21.150       0.0456  140.576    0.390  \n-----------------\n(232725, 3)\n         artist_name                track_id                        track_name\n0     Henri Salvador  0BRjO6ga9RKCKjfDqeFgWV       C'est beau de faire un Show\n1  Martin & les fées  0BjC1NfoEOOusryehmNudP  Perdu d'avance (par Gad Elmaleh)\n2    Joseph Williams  0CoSDzoNIKCRs124s9uTVy    Don't Let Me Be Lonely Tonight\n3     Henri Salvador  0Gc6TVm52BwZD07Ki6tIvf    Dis-moi Monsieur Gordon Cooper\n4       Fabien Nataf  0IuslXpMROHdEPvSl1fTQK                         Ouverture\n"
    }
   ],
   "source": [
    "import pandas as pd\n",
    "\n",
    "from sklearn.preprocessing import StandardScaler\n",
    "from sklearn.neighbors import NearestNeighbors\n",
    "\n",
    "def load_and_clean():\n",
    "    \"\"\"\n",
    "    spotify, identify = load_and_clean()\n",
    "    \"\"\"\n",
    "    spotify = pd.read_csv('SpotifyFeatures.csv')\n",
    "\n",
    "    # dataframe that serves to identify songs\n",
    "    identify = spotify[['artist_name', 'track_id', 'track_name']]\n",
    "\n",
    "    # dataframe consisting of audio features we want to train on\n",
    "    spotify = spotify.drop(columns = ['mode',\n",
    "                                    'time_signature',\n",
    "                                    'key',\n",
    "                                    'track_id',\n",
    "                                    'artist_name',\n",
    "                                    'track_name'])\n",
    "\n",
    "    genre_map = {'Movie': 0, 'R&B': 1, 'A Capella': 2, 'Alternative': 3, 'Country': 4, 'Dance': 5, 'Electronic': 6, 'Anime': 7, 'Folk': 8, 'Blues': 9, 'Opera': 10, 'Hip-Hop': 11, \"Children's Music\": 12, 'Children’s Music': 12, 'Rap': 13, 'Indie': 14, 'Classical': 15, 'Pop': 16, 'Reggae': 17, 'Reggaeton': 18, 'Jazz': 19, 'Rock': 20, 'Ska': 21, 'Comedy': 22, 'Soul': 23, 'Soundtrack': 24, 'World': 25}\n",
    "\n",
    "    spotify['genre'] = spotify['genre'].map(genre_map)\n",
    "\n",
    "    return spotify, identify\n",
    "\n",
    "spotify, identify = load_and_clean()\n",
    "print(spotify.shape)\n",
    "print(spotify.head())\n",
    "print('-----------------')\n",
    "print(identify.shape)\n",
    "print(identify.head())"
   ]
  },
  {
   "cell_type": "code",
   "execution_count": 32,
   "metadata": {},
   "outputs": [
    {
     "output_type": "execute_result",
     "data": {
      "text/plain": "genre               0\npopularity          0\nacousticness        0\ndanceability        0\nduration_ms         0\nenergy              0\ninstrumentalness    0\nliveness            0\nloudness            0\nspeechiness         0\ntempo               0\nvalence             0\ndtype: int64"
     },
     "metadata": {},
     "execution_count": 32
    }
   ],
   "source": [
    "spotify.isnull().sum(0)"
   ]
  },
  {
   "cell_type": "code",
   "execution_count": 33,
   "metadata": {},
   "outputs": [
    {
     "output_type": "execute_result",
     "data": {
      "text/plain": "array([ 0,  1,  2,  3,  4,  5,  6,  7,  8,  9, 10, 11, 12, 13, 14, 15, 16,\n       17, 18, 19, 20, 21, 22, 23, 24, 25], dtype=int64)"
     },
     "metadata": {},
     "execution_count": 33
    }
   ],
   "source": [
    "spotify['genre'].unique()"
   ]
  },
  {
   "cell_type": "code",
   "execution_count": 34,
   "metadata": {},
   "outputs": [],
   "source": [
    "genre_map = {'Movie': 0, 'R&B': 1, 'A Capella': 2, 'Alternative': 3, 'Country': 4, 'Dance': 5, 'Electronic': 6, 'Anime': 7, 'Folk': 8, 'Blues': 9, 'Opera': 10, 'Hip-Hop': 11, \"Children's Music\": 12, 'Children’s Music': 12, 'Rap': 13, 'Indie': 14, 'Classical': 15, 'Pop': 16, 'Reggae': 17, 'Reggaeton': 18, 'Jazz': 19, 'Rock': 20, 'Ska': 21, 'Comedy': 22, 'Soul': 23, 'Soundtrack': 24, 'World': 25}"
   ]
  },
  {
   "cell_type": "code",
   "execution_count": 35,
   "metadata": {},
   "outputs": [
    {
     "output_type": "execute_result",
     "data": {
      "text/plain": "   genre  popularity  acousticness  danceability  duration_ms  energy  \\\n0      0           0         0.611         0.389        99373   0.910   \n1      0           1         0.246         0.590       137373   0.737   \n2      0           3         0.952         0.663       170267   0.131   \n3      0           0         0.703         0.240       152427   0.326   \n4      0           4         0.950         0.331        82625   0.225   \n\n   instrumentalness  liveness  loudness  speechiness    tempo  valence  \n0             0.000    0.3460    -1.828       0.0525  166.969    0.814  \n1             0.000    0.1510    -5.559       0.0868  174.003    0.816  \n2             0.000    0.1030   -13.879       0.0362   99.488    0.368  \n3             0.000    0.0985   -12.178       0.0395  171.758    0.227  \n4             0.123    0.2020   -21.150       0.0456  140.576    0.390  ",
      "text/html": "<div>\n<style scoped>\n    .dataframe tbody tr th:only-of-type {\n        vertical-align: middle;\n    }\n\n    .dataframe tbody tr th {\n        vertical-align: top;\n    }\n\n    .dataframe thead th {\n        text-align: right;\n    }\n</style>\n<table border=\"1\" class=\"dataframe\">\n  <thead>\n    <tr style=\"text-align: right;\">\n      <th></th>\n      <th>genre</th>\n      <th>popularity</th>\n      <th>acousticness</th>\n      <th>danceability</th>\n      <th>duration_ms</th>\n      <th>energy</th>\n      <th>instrumentalness</th>\n      <th>liveness</th>\n      <th>loudness</th>\n      <th>speechiness</th>\n      <th>tempo</th>\n      <th>valence</th>\n    </tr>\n  </thead>\n  <tbody>\n    <tr>\n      <th>0</th>\n      <td>0</td>\n      <td>0</td>\n      <td>0.611</td>\n      <td>0.389</td>\n      <td>99373</td>\n      <td>0.910</td>\n      <td>0.000</td>\n      <td>0.3460</td>\n      <td>-1.828</td>\n      <td>0.0525</td>\n      <td>166.969</td>\n      <td>0.814</td>\n    </tr>\n    <tr>\n      <th>1</th>\n      <td>0</td>\n      <td>1</td>\n      <td>0.246</td>\n      <td>0.590</td>\n      <td>137373</td>\n      <td>0.737</td>\n      <td>0.000</td>\n      <td>0.1510</td>\n      <td>-5.559</td>\n      <td>0.0868</td>\n      <td>174.003</td>\n      <td>0.816</td>\n    </tr>\n    <tr>\n      <th>2</th>\n      <td>0</td>\n      <td>3</td>\n      <td>0.952</td>\n      <td>0.663</td>\n      <td>170267</td>\n      <td>0.131</td>\n      <td>0.000</td>\n      <td>0.1030</td>\n      <td>-13.879</td>\n      <td>0.0362</td>\n      <td>99.488</td>\n      <td>0.368</td>\n    </tr>\n    <tr>\n      <th>3</th>\n      <td>0</td>\n      <td>0</td>\n      <td>0.703</td>\n      <td>0.240</td>\n      <td>152427</td>\n      <td>0.326</td>\n      <td>0.000</td>\n      <td>0.0985</td>\n      <td>-12.178</td>\n      <td>0.0395</td>\n      <td>171.758</td>\n      <td>0.227</td>\n    </tr>\n    <tr>\n      <th>4</th>\n      <td>0</td>\n      <td>4</td>\n      <td>0.950</td>\n      <td>0.331</td>\n      <td>82625</td>\n      <td>0.225</td>\n      <td>0.123</td>\n      <td>0.2020</td>\n      <td>-21.150</td>\n      <td>0.0456</td>\n      <td>140.576</td>\n      <td>0.390</td>\n    </tr>\n  </tbody>\n</table>\n</div>"
     },
     "metadata": {},
     "execution_count": 35
    }
   ],
   "source": [
    "spotify.head()"
   ]
  },
  {
   "cell_type": "code",
   "execution_count": 49,
   "metadata": {},
   "outputs": [
    {
     "output_type": "stream",
     "name": "stdout",
     "text": "-----------------\nRecommended song_ids:\n['4tygYGKESZsvsHDjgHKeCS', '2ENL43xerIA73IypQohcKh', '6molwsVZCgoAUlnSSzdb5b', '5IUdhVJhpNiwr3C5KMrPvn', '6j2fR9yEGXutTaTp6pZLXp']\nRecommended song_names:\n['Goosey Goosey Gander (Wurlitzer)', \"Edward's Harp\", 'The Crooked Man', 'Pat a Cake for Bedtime', 'The Crooked Man']\n-----------------\n      genre  popularity  acousticness  danceability  duration_ms    energy  \\\n0 -1.114815   -2.096080      0.370495     -0.292900    -1.136096  0.869379   \n1 -0.283534   -2.008119      1.492357      0.431208    -1.228306 -0.673958   \n\n   instrumentalness  liveness   loudness  speechiness     tempo     valence  \n0          1.161613  0.176478 -15.076232    -0.543155  0.237336  382.770122  \n1          2.018375 -0.446302  -1.729674    -0.280431  1.043496    2.089798  \n"
    }
   ],
   "source": [
    "def knn_predictor(audio_feats):\n",
    "  \"\"\"\n",
    "  similar_song_ids, visual_df = knn_predictor(audio_features)\n",
    "  \"\"\"\n",
    "  # Scale the data with standard scaler\n",
    "  scaler = StandardScaler()\n",
    "  spotify_scaled = scaler.fit_transform(spotify) \n",
    "\n",
    "  ################################################\n",
    "  audio_feats_scaled = scaler.transform([audio_feats])\n",
    "\n",
    "  ## Nearest Neighbors model\n",
    "  nn = NearestNeighbors(n_neighbors=10, algorithm='kd_tree')\n",
    "  nn.fit(spotify_scaled)\n",
    "\n",
    "  # prediction \n",
    "  prediction = nn.kneighbors(audio_feats_scaled)\n",
    "\n",
    "  # Get the indexes of the list of similar songs\n",
    "  if prediction[0][0][0] == 0.0:\n",
    "    similar_songs_index = prediction[1][0][1:].tolist()\n",
    "  else:\n",
    "    similar_songs_index = prediction[1][0][:5].tolist()\n",
    "  \n",
    "  # Create an empty list to store simlar song names\n",
    "  similar_song_ids = []\n",
    "  similar_song_names = []\n",
    "\n",
    "  # loop over the indexes and append song names to empty list above\n",
    "  for i in similar_songs_index:\n",
    "    song_id = identify['track_id'].iloc[i]\n",
    "    similar_song_ids.append(song_id)\n",
    "    song_name = identify['track_name'].iloc[i]\n",
    "    similar_song_names.append(song_name)\n",
    "\n",
    "  #################################################\n",
    "  \n",
    "  column_names = spotify.columns.tolist()\n",
    "\n",
    "  # put scaled audio features into a dataframe\n",
    "  audio_feats_scaled_df = pd.DataFrame(audio_feats_scaled, columns=column_names)\n",
    "\n",
    "  # create empty list of similar songs' features\n",
    "  similar_songs_features = []\n",
    "\n",
    "  # loop through the indexes of similar songs to get audio features for each\n",
    "  #. similar song\n",
    "  for index in similar_songs_index:\n",
    "    list_of_feats = spotify.iloc[index].tolist()\n",
    "    similar_songs_features.append(list_of_feats)\n",
    "\n",
    "  # scale the features and turn them into a dataframe\n",
    "  similar_feats_scaled = scaler.transform(similar_songs_features)\n",
    "  similar_feats_scaled_df = pd.DataFrame(similar_feats_scaled, columns=column_names)\n",
    "\n",
    "  # create empty list for averaged features of recommended songs\n",
    "  similar_feats_averaged = []\n",
    "  \n",
    "  # loop through columns of audio features and get average of each column for 5\n",
    "  #. recommended songs\n",
    "  for col in column_names:\n",
    "    avg = similar_feats_scaled_df[col].mean()\n",
    "    similar_feats_averaged.append(avg)\n",
    "\n",
    "  # turn averages into 1 row dataframe\n",
    "  similar_feats_averaged_df = pd.DataFrame([similar_feats_averaged], columns=column_names)\n",
    "\n",
    "  # concatenate this with input songs audio features to be used for visualizing\n",
    "  visual_df = pd.concat([audio_feats_scaled_df, similar_feats_averaged_df], ignore_index=True)\n",
    "\n",
    "  return similar_song_ids, similar_song_names, visual_df\n",
    "\n",
    "\n",
    "test_audio_features = [5, 3, .5, .5, 100000, 0.8, 0.5, 0.25, -100.0, 0.02, 125.0, 100.0]\n",
    "similar_song_ids, similar_song_names, visual_df = knn_predictor(test_audio_features)\n",
    "\n",
    "print('-----------------')\n",
    "print('Recommended song_ids:')\n",
    "print(similar_song_ids)\n",
    "print('Recommended song_names:')\n",
    "print(similar_song_names)\n",
    "print('-----------------')\n",
    "print(visual_df)"
   ]
  },
  {
   "cell_type": "code",
   "execution_count": null,
   "metadata": {},
   "outputs": [],
   "source": []
  }
 ],
 "metadata": {
  "language_info": {
   "codemirror_mode": {
    "name": "ipython",
    "version": 3
   },
   "file_extension": ".py",
   "mimetype": "text/x-python",
   "name": "python",
   "nbconvert_exporter": "python",
   "pygments_lexer": "ipython3",
   "version": "3.7.6-final"
  },
  "orig_nbformat": 2,
  "kernelspec": {
   "name": "python3",
   "display_name": "Python 3"
  }
 },
 "nbformat": 4,
 "nbformat_minor": 2
}