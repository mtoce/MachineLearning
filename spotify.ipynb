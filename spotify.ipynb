{
 "cells": [
  {
   "cell_type": "code",
   "execution_count": 120,
   "metadata": {},
   "outputs": [
    {
     "output_type": "stream",
     "name": "stdout",
     "text": "(232725, 8)\n   acousticness  danceability  energy  instrumentalness  liveness  loudness  \\\n0         0.611         0.389   0.910             0.000    0.3460    -1.828   \n1         0.246         0.590   0.737             0.000    0.1510    -5.559   \n2         0.952         0.663   0.131             0.000    0.1030   -13.879   \n3         0.703         0.240   0.326             0.000    0.0985   -12.178   \n4         0.950         0.331   0.225             0.123    0.2020   -21.150   \n\n     tempo  valence  \n0  166.969    0.814  \n1  174.003    0.816  \n2   99.488    0.368  \n3  171.758    0.227  \n4  140.576    0.390  \n-----------------\n(232725, 3)\n         artist_name                track_id                        track_name\n0     Henri Salvador  0BRjO6ga9RKCKjfDqeFgWV       C'est beau de faire un Show\n1  Martin & les fées  0BjC1NfoEOOusryehmNudP  Perdu d'avance (par Gad Elmaleh)\n2    Joseph Williams  0CoSDzoNIKCRs124s9uTVy    Don't Let Me Be Lonely Tonight\n3     Henri Salvador  0Gc6TVm52BwZD07Ki6tIvf    Dis-moi Monsieur Gordon Cooper\n4       Fabien Nataf  0IuslXpMROHdEPvSl1fTQK                         Ouverture\n"
    }
   ],
   "source": [
    "import pandas as pd\n",
    "import numpy as np\n",
    "from sklearn.preprocessing import StandardScaler\n",
    "from sklearn.neighbors import NearestNeighbors\n",
    "\n",
    "def load_and_clean():\n",
    "    \"\"\"\n",
    "    spotify, identify = load_and_clean()\n",
    "    \"\"\"\n",
    "    spotify = pd.read_csv('SpotifyFeatures.csv')\n",
    "\n",
    "    # dataframe that serves to identify songs\n",
    "    identify = spotify[['artist_name', 'track_id', 'track_name']]\n",
    "\n",
    "    # dataframe consisting of audio features we want to train on\n",
    "    spotify = spotify.drop(columns = ['genre',\n",
    "                                    'mode',\n",
    "                                    'time_signature',\n",
    "                                    'key',\n",
    "                                    'track_id',\n",
    "                                    'artist_name',\n",
    "                                    'popularity',\n",
    "                                    'track_name',\n",
    "                                    'duration_ms',\n",
    "                                    'speechiness'])\n",
    "\n",
    "    # genre_map = {'Movie': 0, 'R&B': 1, 'A Capella': 2, 'Alternative': 3, 'Country': 4, 'Dance': 5, 'Electronic': 6, 'Anime': 7, 'Folk': 8, 'Blues': 9, 'Opera': 10, 'Hip-Hop': 11, \"Children's Music\": 12, 'Children’s Music': 12, 'Rap': 13, 'Indie': 14, 'Classical': 15, 'Pop': 16, 'Reggae': 17, 'Reggaeton': 18, 'Jazz': 19, 'Rock': 20, 'Ska': 21, 'Comedy': 22, 'Soul': 23, 'Soundtrack': 24, 'World': 25}\n",
    "\n",
    "    # spotify['genre'] = spotify['genre'].map(genre_map)\n",
    "\n",
    "    return spotify, identify\n",
    "\n",
    "spotify, identify = load_and_clean()\n",
    "print(spotify.shape)\n",
    "print(spotify.head())\n",
    "print('-----------------')\n",
    "print(identify.shape)\n",
    "print(identify.head())"
   ]
  },
  {
   "cell_type": "code",
   "execution_count": 121,
   "metadata": {},
   "outputs": [
    {
     "output_type": "execute_result",
     "data": {
      "text/plain": "acousticness        0\ndanceability        0\nenergy              0\ninstrumentalness    0\nliveness            0\nloudness            0\ntempo               0\nvalence             0\ndtype: int64"
     },
     "metadata": {},
     "execution_count": 121
    }
   ],
   "source": [
    "spotify.isnull().sum(0)"
   ]
  },
  {
   "cell_type": "code",
   "execution_count": 122,
   "metadata": {},
   "outputs": [
    {
     "output_type": "execute_result",
     "data": {
      "text/plain": "   acousticness  danceability  energy  instrumentalness  liveness  loudness  \\\n0         0.611         0.389   0.910             0.000    0.3460    -1.828   \n1         0.246         0.590   0.737             0.000    0.1510    -5.559   \n2         0.952         0.663   0.131             0.000    0.1030   -13.879   \n3         0.703         0.240   0.326             0.000    0.0985   -12.178   \n4         0.950         0.331   0.225             0.123    0.2020   -21.150   \n\n     tempo  valence  \n0  166.969    0.814  \n1  174.003    0.816  \n2   99.488    0.368  \n3  171.758    0.227  \n4  140.576    0.390  ",
      "text/html": "<div>\n<style scoped>\n    .dataframe tbody tr th:only-of-type {\n        vertical-align: middle;\n    }\n\n    .dataframe tbody tr th {\n        vertical-align: top;\n    }\n\n    .dataframe thead th {\n        text-align: right;\n    }\n</style>\n<table border=\"1\" class=\"dataframe\">\n  <thead>\n    <tr style=\"text-align: right;\">\n      <th></th>\n      <th>acousticness</th>\n      <th>danceability</th>\n      <th>energy</th>\n      <th>instrumentalness</th>\n      <th>liveness</th>\n      <th>loudness</th>\n      <th>tempo</th>\n      <th>valence</th>\n    </tr>\n  </thead>\n  <tbody>\n    <tr>\n      <th>0</th>\n      <td>0.611</td>\n      <td>0.389</td>\n      <td>0.910</td>\n      <td>0.000</td>\n      <td>0.3460</td>\n      <td>-1.828</td>\n      <td>166.969</td>\n      <td>0.814</td>\n    </tr>\n    <tr>\n      <th>1</th>\n      <td>0.246</td>\n      <td>0.590</td>\n      <td>0.737</td>\n      <td>0.000</td>\n      <td>0.1510</td>\n      <td>-5.559</td>\n      <td>174.003</td>\n      <td>0.816</td>\n    </tr>\n    <tr>\n      <th>2</th>\n      <td>0.952</td>\n      <td>0.663</td>\n      <td>0.131</td>\n      <td>0.000</td>\n      <td>0.1030</td>\n      <td>-13.879</td>\n      <td>99.488</td>\n      <td>0.368</td>\n    </tr>\n    <tr>\n      <th>3</th>\n      <td>0.703</td>\n      <td>0.240</td>\n      <td>0.326</td>\n      <td>0.000</td>\n      <td>0.0985</td>\n      <td>-12.178</td>\n      <td>171.758</td>\n      <td>0.227</td>\n    </tr>\n    <tr>\n      <th>4</th>\n      <td>0.950</td>\n      <td>0.331</td>\n      <td>0.225</td>\n      <td>0.123</td>\n      <td>0.2020</td>\n      <td>-21.150</td>\n      <td>140.576</td>\n      <td>0.390</td>\n    </tr>\n  </tbody>\n</table>\n</div>"
     },
     "metadata": {},
     "execution_count": 122
    }
   ],
   "source": [
    "spotify.head()"
   ]
  },
  {
   "cell_type": "code",
   "execution_count": 123,
   "metadata": {},
   "outputs": [],
   "source": [
    "from sklearn.cluster import KMeans\n",
    "import json"
   ]
  },
  {
   "cell_type": "code",
   "execution_count": 104,
   "metadata": {},
   "outputs": [
    {
     "output_type": "error",
     "ename": "SyntaxError",
     "evalue": "invalid syntax (<ipython-input-104-45ea9ffefa2a>, line 6)",
     "traceback": [
      "\u001b[1;36m  File \u001b[1;32m\"<ipython-input-104-45ea9ffefa2a>\"\u001b[1;36m, line \u001b[1;32m6\u001b[0m\n\u001b[1;33m    n_clusters =\u001b[0m\n\u001b[1;37m                 ^\u001b[0m\n\u001b[1;31mSyntaxError\u001b[0m\u001b[1;31m:\u001b[0m invalid syntax\n"
     ]
    }
   ],
   "source": [
    "def neural_net():\n",
    "    '''\n",
    "    insert here\n",
    "    '''\n",
    "\n",
    "    n_clusters = \n"
   ]
  },
  {
   "cell_type": "code",
   "execution_count": 156,
   "metadata": {},
   "outputs": [
    {
     "output_type": "stream",
     "name": "stdout",
     "text": "track_id  acousticness  danceability    energy  \\\n0   48x1VbWiN6kiJAdGBISzhn      0.146575      0.102366  0.106280   \n1   2XZt5ACXfEiF9QyxMnwaIr      0.149394      0.043102  0.258109   \n2   6rPeI30oZ1yoATa1cDmEFS      0.132481      0.043102  0.026570   \n3   3UXQEfdcI6MWoNFUQ2uXYg      0.132481      0.043102  0.026570   \n4   0NkceLa3wcYsgtkxzAnSfV      0.132481      0.043102  0.026570   \n5   22ciZPW9sugBzMdD97YE2G      0.132481      0.043102  0.026570   \n6   3dAOzj0Yb3hHD6sllOKtZR      0.011275      0.161631  0.102484   \n7   2iqi3UbkTjkpQJSMII3arQ      0.177581      0.026939  0.083506   \n8   5OsXhFFtEXrVV3eaPWFrFA      0.202950      0.096979  0.072119   \n9   2x0supcZhd6NEH1nem9DnR      0.056375      0.064652  0.083506   \n10  2x0supcZhd6NEH1nem9DnR      0.109931      0.258610  0.018979   \n11  2x0supcZhd6NEH1nem9DnR      0.186037      0.070040  0.091097   \n12  2x0supcZhd6NEH1nem9DnR      0.163487      0.021551  0.079710   \n13  7zpNN01FLMP70EYGcxCCDY      0.408719      0.177794  0.121463   \n14  6S2WRQBK9uKW2J6RTJXY6N      0.352344      0.334038  0.159420   \n15  6S2WRQBK9uKW2J6RTJXY6N      0.090200      0.118529  0.193581   \n16  7swGurTfZlwx7mTOE8PpIc      0.090200      0.118529  0.193581   \n17  7swGurTfZlwx7mTOE8PpIc      0.090200      0.118529  0.193581   \n18  7swGurTfZlwx7mTOE8PpIc      0.442544      0.161631  0.030366   \n19  60PnzoOkiK690YrM9Wlhrj      0.442544      0.161631  0.030366   \n\n    instrumentalness  liveness  loudness     tempo   valence       sum  \n0           0.115600  0.055479  0.490481  0.096217  0.142272  1.255271  \n1           0.330286  0.045392  0.459138  0.078644  0.007690  1.371755  \n2           0.330286  0.045392  0.631190  0.086443  0.126891  1.422356  \n3           0.330286  0.045392  0.631190  0.086443  0.126891  1.422356  \n4           0.330286  0.045392  0.631190  0.086443  0.126891  1.422356  \n5           0.330286  0.045392  0.631190  0.086443  0.126891  1.422356  \n6           0.330286  0.418617  0.112867  0.061782  0.269164  1.468106  \n7           0.329731  0.307658  0.367944  0.043885  0.176879  1.514123  \n8           0.330286  0.035305  0.190391  0.393510  0.269164  1.590703  \n9           0.330286  0.524532  0.139375  0.353055  0.088439  1.640221  \n10          0.330276  0.383312  0.456138  0.120134  0.007690  1.685069  \n11          0.330286  0.040349  0.333267  0.422896  0.226866  1.700839  \n12          0.330278  0.448878  0.053683  0.355709  0.326841  1.780137  \n13          0.330279  0.141220  0.362443  0.187839  0.053833  1.783589  \n14          0.288340  0.100871  0.248742  0.092690  0.207640  1.784084  \n15          0.279422  0.191656  0.346605  0.522706  0.073059  1.815758  \n16          0.279422  0.191656  0.346605  0.522706  0.073059  1.815758  \n17          0.279422  0.191656  0.346605  0.522706  0.073059  1.815758  \n18          0.330286  0.257222  0.367444  0.151753  0.084594  1.825841  \n19          0.330286  0.257222  0.367444  0.151753  0.084594  1.825841  \n"
    }
   ],
   "source": [
    "def knn_predictor(audio_feats, k=20):\n",
    "    \"\"\"\n",
    "    similar_song_ids, visual_df = knn_predictor(audio_features)\n",
    "    \"\"\"\n",
    "    # Scale the data with standard scaler\n",
    "    scaler = StandardScaler()\n",
    "    spotify_scaled = scaler.fit_transform(spotify)\n",
    "\n",
    "    ################################################\n",
    "    audio_feats_scaled = scaler.transform([audio_feats])\n",
    "\n",
    "    ## Nearest Neighbors model\n",
    "    knn = NearestNeighbors(n_neighbors=k, algorithm='kd_tree')\n",
    "    knn.fit(spotify_scaled)\n",
    "\n",
    "    # prediction \n",
    "    prediction = knn.kneighbors(audio_feats_scaled)\n",
    "\n",
    "    # # Get the indexes of the list of similar songs\n",
    "    # if prediction[0][0][0] == 0.0:\n",
    "    #     similar_songs_index = prediction[1][0][1:].tolist()\n",
    "    # else:\n",
    "    similar_songs_index = prediction[1][0][:k].tolist()\n",
    "    \n",
    "    # Create an empty list to store simlar song names\n",
    "    similar_song_ids = []\n",
    "    similar_song_names = []\n",
    "\n",
    "    # loop over the indexes and append song names to empty list above\n",
    "    for i in similar_songs_index:\n",
    "        song_id = identify['track_id'].iloc[i]\n",
    "        similar_song_ids.append(song_id)\n",
    "        song_name = identify['track_name'].iloc[i]\n",
    "        similar_song_names.append(song_name)\n",
    "\n",
    "    #################################################\n",
    "\n",
    "    column_names = spotify.columns.tolist()\n",
    "\n",
    "    # put scaled audio features into a dataframe\n",
    "    audio_feats_scaled_df = pd.DataFrame(audio_feats_scaled, columns=column_names)\n",
    "\n",
    "    # create empty list of similar songs' features\n",
    "    similar_songs_features = []\n",
    "\n",
    "    # loop through the indexes of similar songs to get audio features for each\n",
    "    #. similar song\n",
    "    for index in similar_songs_index:\n",
    "        list_of_feats = spotify.iloc[index].tolist()\n",
    "        similar_songs_features.append(list_of_feats)\n",
    "\n",
    "    # scale the features and turn them into a dataframe\n",
    "    similar_feats_scaled = scaler.transform(similar_songs_features)\n",
    "    similar_feats_scaled_df = pd.DataFrame(similar_feats_scaled, columns=column_names)\n",
    "\n",
    "    \n",
    "\n",
    "    # get the % difference between the outputs and input songs\n",
    "    col_names = similar_feats_scaled_df.columns.to_list()\n",
    "    diff_df = pd.DataFrame(columns=col_names)\n",
    "    for i in range(k):\n",
    "        diff = abs(similar_feats_scaled_df.iloc[i] - audio_feats_scaled_df.iloc[0])\n",
    "        # print('type: ', type(similar_feats_scaled_df.iloc[i]))\n",
    "        diff_df.loc[i] = diff\n",
    "    \n",
    "    # add sums of differences \n",
    "    diff_df['sum'] = diff_df.sum(axis=1)\n",
    "    diff_df = diff_df.sort_values(by=['sum'])\n",
    "    diff_df = diff_df.reset_index(drop=True)\n",
    "\n",
    "    # add track_id to DF\n",
    "    diff_df['track_id'] = similar_song_ids\n",
    "\n",
    "    # reorder cols to have track_id as first column\n",
    "    cols = list(diff_df)\n",
    "    cols.insert(0, cols.pop(cols.index('track_id')))\n",
    "    diff_df = diff_df.loc[:, cols]\n",
    "    print(diff_df)\n",
    "\n",
    "    return similar_song_ids, similar_song_names, visual_df, diff_df\n",
    "\n",
    "\n",
    "test_audio_features = [0.5, 0.5, 0.5, 0.1, 0.25, -5.0, 125, 0.5]\n",
    "similar_song_ids, similar_song_names, visual_df, diff_df = knn_predictor(test_audio_features)\n",
    "\n",
    "\n",
    "\n",
    "diff_json = diff_df.to_json(orient='records')\n",
    "\n",
    "# print(diff_json)\n",
    "# print('-----------------')\n",
    "# print('Recommended song_ids:')\n",
    "# print(similar_song_ids)\n",
    "# print('Recommended song_names:')\n",
    "# print(similar_song_names)\n",
    "# print('-----------------')\n",
    "# print(visual_df)"
   ]
  },
  {
   "cell_type": "code",
   "execution_count": null,
   "metadata": {},
   "outputs": [],
   "source": [
    "# # create empty list for averaged features of recommended songs\n",
    "    # similar_feats_averaged = []\n",
    "\n",
    "    # # loop through columns of audio features and get average of each column for 5\n",
    "    # #. recommended songs\n",
    "    # for col in column_names:\n",
    "    #     avg = similar_feats_scaled_df[col].mean()\n",
    "    #     similar_feats_averaged.append(avg)\n",
    "    \n",
    "    # # print('Sum of means of all predicted songs: ', sum(similar_feats_averaged))\n",
    "\n",
    "    # # turn averages into 1 row dataframe\n",
    "    # similar_feats_averaged_df = pd.DataFrame([similar_feats_averaged], columns=column_names)\n",
    "\n",
    "    # # concatenate this with input songs audio features to be used for visualizing\n",
    "    # visual_df = pd.concat([audio_feats_scaled_df, similar_feats_averaged_df], ignore_index=True)\n",
    "\n",
    "    "
   ]
  }
 ],
 "metadata": {
  "language_info": {
   "codemirror_mode": {
    "name": "ipython",
    "version": 3
   },
   "file_extension": ".py",
   "mimetype": "text/x-python",
   "name": "python",
   "nbconvert_exporter": "python",
   "pygments_lexer": "ipython3",
   "version": "3.7.6-final"
  },
  "orig_nbformat": 2,
  "kernelspec": {
   "name": "python3",
   "display_name": "Python 3"
  }
 },
 "nbformat": 4,
 "nbformat_minor": 2
}